{
 "cells": [
  {
   "cell_type": "markdown",
   "id": "immune-waste",
   "metadata": {},
   "source": [
    "# 淘宝行为数据分析"
   ]
  },
  {
   "cell_type": "markdown",
   "id": "realistic-future",
   "metadata": {},
   "source": [
    "## 引入依赖包"
   ]
  },
  {
   "cell_type": "code",
   "execution_count": 103,
   "id": "broad-soccer",
   "metadata": {},
   "outputs": [],
   "source": [
    "import pandas as pd\n",
    "import numpy as np\n",
    "from pandas import DataFrame\n",
    "from pandas import Series"
   ]
  },
  {
   "cell_type": "code",
   "execution_count": 104,
   "id": "soviet-adelaide",
   "metadata": {},
   "outputs": [],
   "source": [
    "import matplotlib.pyplot as plt"
   ]
  },
  {
   "cell_type": "code",
   "execution_count": 105,
   "id": "answering-testing",
   "metadata": {},
   "outputs": [],
   "source": [
    "%matplotlib inline"
   ]
  },
  {
   "cell_type": "code",
   "execution_count": 106,
   "id": "rapid-beatles",
   "metadata": {},
   "outputs": [],
   "source": [
    "import pymysql"
   ]
  },
  {
   "cell_type": "markdown",
   "id": "capable-particular",
   "metadata": {},
   "source": [
    "## 连接本地数据库和取数"
   ]
  },
  {
   "cell_type": "code",
   "execution_count": 107,
   "id": "closing-chemistry",
   "metadata": {},
   "outputs": [],
   "source": [
    "db = pymysql.connect(\"localhost\",\"root\",\"17020144\",\"taobao\")"
   ]
  },
  {
   "cell_type": "code",
   "execution_count": 108,
   "id": "reflected-cardiff",
   "metadata": {},
   "outputs": [],
   "source": [
    "cursor = db.cursor()"
   ]
  },
  {
   "cell_type": "code",
   "execution_count": 109,
   "id": "dangerous-event",
   "metadata": {},
   "outputs": [
    {
     "data": {
      "text/plain": [
       "3734460"
      ]
     },
     "execution_count": 109,
     "metadata": {},
     "output_type": "execute_result"
    }
   ],
   "source": [
    "cursor.execute(\"select * from user\")"
   ]
  },
  {
   "cell_type": "code",
   "execution_count": 110,
   "id": "lyric-specific",
   "metadata": {},
   "outputs": [],
   "source": [
    "cursor.scroll(0,\"absolute\")"
   ]
  },
  {
   "cell_type": "code",
   "execution_count": 111,
   "id": "increased-comfort",
   "metadata": {},
   "outputs": [],
   "source": [
    "results = cursor.fetchall()"
   ]
  },
  {
   "cell_type": "markdown",
   "id": "reduced-speed",
   "metadata": {},
   "source": [
    "## 使用pandas进行数据分析和处理"
   ]
  },
  {
   "cell_type": "code",
   "execution_count": 112,
   "id": "twenty-knock",
   "metadata": {},
   "outputs": [],
   "source": [
    "data = pd.DataFrame(results,columns = [\"userid\",\"itemid\",\"category\",\"behaviour\",\"time\"])"
   ]
  },
  {
   "cell_type": "code",
   "execution_count": 113,
   "id": "capital-retailer",
   "metadata": {},
   "outputs": [
    {
     "data": {
      "text/html": [
       "<div>\n",
       "<style scoped>\n",
       "    .dataframe tbody tr th:only-of-type {\n",
       "        vertical-align: middle;\n",
       "    }\n",
       "\n",
       "    .dataframe tbody tr th {\n",
       "        vertical-align: top;\n",
       "    }\n",
       "\n",
       "    .dataframe thead th {\n",
       "        text-align: right;\n",
       "    }\n",
       "</style>\n",
       "<table border=\"1\" class=\"dataframe\">\n",
       "  <thead>\n",
       "    <tr style=\"text-align: right;\">\n",
       "      <th></th>\n",
       "      <th>userid</th>\n",
       "      <th>itemid</th>\n",
       "      <th>category</th>\n",
       "      <th>behaviour</th>\n",
       "      <th>time</th>\n",
       "    </tr>\n",
       "  </thead>\n",
       "  <tbody>\n",
       "    <tr>\n",
       "      <th>0</th>\n",
       "      <td>1</td>\n",
       "      <td>2268318</td>\n",
       "      <td>2520377</td>\n",
       "      <td>pv</td>\n",
       "      <td>20171125</td>\n",
       "    </tr>\n",
       "    <tr>\n",
       "      <th>1</th>\n",
       "      <td>1</td>\n",
       "      <td>2333346</td>\n",
       "      <td>2520771</td>\n",
       "      <td>pv</td>\n",
       "      <td>20171125</td>\n",
       "    </tr>\n",
       "    <tr>\n",
       "      <th>2</th>\n",
       "      <td>1</td>\n",
       "      <td>2576651</td>\n",
       "      <td>149192</td>\n",
       "      <td>pv</td>\n",
       "      <td>20171125</td>\n",
       "    </tr>\n",
       "    <tr>\n",
       "      <th>3</th>\n",
       "      <td>1</td>\n",
       "      <td>3830808</td>\n",
       "      <td>4181361</td>\n",
       "      <td>pv</td>\n",
       "      <td>20171125</td>\n",
       "    </tr>\n",
       "    <tr>\n",
       "      <th>4</th>\n",
       "      <td>1</td>\n",
       "      <td>4365585</td>\n",
       "      <td>2520377</td>\n",
       "      <td>pv</td>\n",
       "      <td>20171125</td>\n",
       "    </tr>\n",
       "  </tbody>\n",
       "</table>\n",
       "</div>"
      ],
      "text/plain": [
       "  userid   itemid category behaviour      time\n",
       "0      1  2268318  2520377        pv  20171125\n",
       "1      1  2333346  2520771        pv  20171125\n",
       "2      1  2576651   149192        pv  20171125\n",
       "3      1  3830808  4181361        pv  20171125\n",
       "4      1  4365585  2520377        pv  20171125"
      ]
     },
     "execution_count": 113,
     "metadata": {},
     "output_type": "execute_result"
    }
   ],
   "source": [
    "data[:5]"
   ]
  },
  {
   "cell_type": "code",
   "execution_count": 114,
   "id": "increased-essay",
   "metadata": {},
   "outputs": [
    {
     "data": {
      "text/plain": [
       "20171202    518516\n",
       "20171203    514937\n",
       "20171201    407700\n",
       "20171126    395921\n",
       "20171130    390327\n",
       "20171125    385147\n",
       "20171129    380741\n",
       "20171127    372435\n",
       "20171128    368736\n",
       "Name: time, dtype: int64"
      ]
     },
     "execution_count": 114,
     "metadata": {},
     "output_type": "execute_result"
    }
   ],
   "source": [
    "data[\"time\"].value_counts()"
   ]
  },
  {
   "cell_type": "code",
   "execution_count": 115,
   "id": "diagnostic-improvement",
   "metadata": {},
   "outputs": [
    {
     "data": {
      "text/plain": [
       "<AxesSubplot:title={'center':'Activity'}, xlabel='time'>"
      ]
     },
     "execution_count": 115,
     "metadata": {},
     "output_type": "execute_result"
    },
    {
     "data": {
      "image/png": "[encoded data removed]",
      "text/plain": [
       "<Figure size 432x288 with 1 Axes>"
      ]
     },
     "metadata": {
      "needs_background": "light"
     },
     "output_type": "display_data"
    }
   ],
   "source": [
    "#观察用户的活跃图和购买趋势图\n",
    "activ = data.groupby(\"time\").count()[\"behaviour\"]\n",
    "activ.plot(title=\"Activity\")"
   ]
  },
  {
   "cell_type": "code",
   "execution_count": 116,
   "id": "editorial-current",
   "metadata": {},
   "outputs": [
    {
     "data": {
      "text/plain": [
       "<AxesSubplot:title={'center':'buy'}, xlabel='time'>"
      ]
     },
     "execution_count": 116,
     "metadata": {},
     "output_type": "execute_result"
    },
    {
     "data": {
      "image/png": "[encoded data removed]",
      "text/plain": [
       "<Figure size 432x288 with 1 Axes>"
      ]
     },
     "metadata": {
      "needs_background": "light"
     },
     "output_type": "display_data"
    }
   ],
   "source": [
    "buy = data[data[\"behaviour\"] == \"buy\"].groupby(\"time\").count()[\"behaviour\"]\n",
    "buy.plot(title=\"buy\")"
   ]
  },
  {
   "cell_type": "code",
   "execution_count": 117,
   "id": "herbal-space",
   "metadata": {},
   "outputs": [
    {
     "data": {
      "text/plain": [
       "234304     84\n",
       "107932     72\n",
       "122504     69\n",
       "128379     65\n",
       "190873     61\n",
       "242650     61\n",
       "1008380    57\n",
       "165222     51\n",
       "140047     47\n",
       "1003983    43\n",
       "Name: userid, dtype: int64"
      ]
     },
     "execution_count": 117,
     "metadata": {},
     "output_type": "execute_result"
    }
   ],
   "source": [
    "#计算用户的购买分布,观察TopTen的购买情况\n",
    "data[data[\"behaviour\"]==\"buy\"][\"userid\"].value_counts()[:10]"
   ]
  },
  {
   "cell_type": "code",
   "execution_count": 118,
   "id": "mounted-machine",
   "metadata": {},
   "outputs": [],
   "source": [
    "#根据用户的购买数量分布，观察长尾分布\n",
    "usertail = data[data[\"behaviour\"]==\"buy\"][\"userid\"].value_counts().sort_values(ascending=False)\n",
    "usertail.index = range(len(usertail))"
   ]
  },
  {
   "cell_type": "code",
   "execution_count": 119,
   "id": "informed-terrace",
   "metadata": {},
   "outputs": [
    {
     "data": {
      "text/plain": [
       "<AxesSubplot:title={'center':'user long tail'}>"
      ]
     },
     "execution_count": 119,
     "metadata": {},
     "output_type": "execute_result"
    },
    {
     "data": {
      "image/png": "[encoded data removed]",
      "text/plain": [
       "<Figure size 432x288 with 1 Axes>"
      ]
     },
     "metadata": {
      "needs_background": "light"
     },
     "output_type": "display_data"
    }
   ],
   "source": [
    "#做出用户的购买数量长尾分布\n",
    "usertail.plot(title=\"user long tail\")"
   ]
  },
  {
   "cell_type": "code",
   "execution_count": 120,
   "id": "powerful-victoria",
   "metadata": {},
   "outputs": [],
   "source": [
    "#商品的销售趋势图\n"
   ]
  },
  {
   "cell_type": "code",
   "execution_count": 121,
   "id": "quantitative-cradle",
   "metadata": {},
   "outputs": [],
   "source": [
    "#同理可以找出商品的长尾分布\n",
    "itemtail = data[data[\"behaviour\"]==\"buy\"][\"itemid\"].value_counts().sort_values(ascending=False)\n",
    "itemtail.index = range(len(itemtail))"
   ]
  },
  {
   "cell_type": "code",
   "execution_count": 122,
   "id": "mighty-august",
   "metadata": {},
   "outputs": [
    {
     "data": {
      "text/plain": [
       "<AxesSubplot:title={'center':'item long tail'}>"
      ]
     },
     "execution_count": 122,
     "metadata": {},
     "output_type": "execute_result"
    },
    {
     "data": {
      "image/png": "[encoded data removed]",
      "text/plain": [
       "<Figure size 432x288 with 1 Axes>"
      ]
     },
     "metadata": {
      "needs_background": "light"
     },
     "output_type": "display_data"
    }
   ],
   "source": [
    "itemtail.plot(title = \"item long tail\")"
   ]
  },
  {
   "cell_type": "code",
   "execution_count": 138,
   "id": "unauthorized-bargain",
   "metadata": {},
   "outputs": [],
   "source": [
    "##对数据进行行转列的处理\n",
    "##转换为每一个用户对应其交互次数的表格\n",
    "buy = []\n",
    "for i in data[\"behaviour\"]:\n",
    "    if i == \"buy\":\n",
    "        buy.append(1)\n",
    "    else:\n",
    "        buy.append(0)\n",
    "pv = []\n",
    "for i in data[\"behaviour\"]:\n",
    "    if i == \"pv\":\n",
    "        pv.append(1)\n",
    "    else:\n",
    "        pv.append(0)\n",
    "cart = []\n",
    "for i in data[\"behaviour\"]:\n",
    "    if i == \"cart\":\n",
    "        cart.append(1)\n",
    "    else:\n",
    "        cart.append(0)\n",
    "favor = []\n",
    "for i in data[\"behaviour\"]:\n",
    "    if i == \"fav\":\n",
    "        favor.append(1)\n",
    "    else:\n",
    "        favor.append(0)"
   ]
  },
  {
   "cell_type": "code",
   "execution_count": 139,
   "id": "responsible-boring",
   "metadata": {},
   "outputs": [],
   "source": [
    "buy = Series(buy)\n",
    "pv = Series(pv)\n",
    "cart = Series(cart)\n",
    "favor = Series(favor)"
   ]
  },
  {
   "cell_type": "code",
   "execution_count": 140,
   "id": "optical-freeze",
   "metadata": {},
   "outputs": [],
   "source": [
    "data[\"buy\"] = buy\n",
    "data[\"pv\"] = pv\n",
    "data[\"cart\"] = cart\n",
    "data[\"favor\"] = favor"
   ]
  },
  {
   "cell_type": "code",
   "execution_count": 150,
   "id": "three-female",
   "metadata": {},
   "outputs": [],
   "source": [
    "data.drop([\"behaviour\"],axis=1,inplace=True)"
   ]
  },
  {
   "cell_type": "code",
   "execution_count": 149,
   "id": "boring-metro",
   "metadata": {},
   "outputs": [
    {
     "data": {
      "text/html": [
       "<div>\n",
       "<style scoped>\n",
       "    .dataframe tbody tr th:only-of-type {\n",
       "        vertical-align: middle;\n",
       "    }\n",
       "\n",
       "    .dataframe tbody tr th {\n",
       "        vertical-align: top;\n",
       "    }\n",
       "\n",
       "    .dataframe thead th {\n",
       "        text-align: right;\n",
       "    }\n",
       "</style>\n",
       "<table border=\"1\" class=\"dataframe\">\n",
       "  <thead>\n",
       "    <tr style=\"text-align: right;\">\n",
       "      <th></th>\n",
       "      <th>userid</th>\n",
       "      <th>itemid</th>\n",
       "      <th>category</th>\n",
       "      <th>behaviour</th>\n",
       "      <th>time</th>\n",
       "      <th>buy</th>\n",
       "      <th>pv</th>\n",
       "      <th>cart</th>\n",
       "      <th>favor</th>\n",
       "    </tr>\n",
       "  </thead>\n",
       "  <tbody>\n",
       "    <tr>\n",
       "      <th>0</th>\n",
       "      <td>1</td>\n",
       "      <td>2268318</td>\n",
       "      <td>2520377</td>\n",
       "      <td>pv</td>\n",
       "      <td>20171125</td>\n",
       "      <td>0</td>\n",
       "      <td>1</td>\n",
       "      <td>0</td>\n",
       "      <td>0</td>\n",
       "    </tr>\n",
       "    <tr>\n",
       "      <th>1</th>\n",
       "      <td>1</td>\n",
       "      <td>2333346</td>\n",
       "      <td>2520771</td>\n",
       "      <td>pv</td>\n",
       "      <td>20171125</td>\n",
       "      <td>0</td>\n",
       "      <td>1</td>\n",
       "      <td>0</td>\n",
       "      <td>0</td>\n",
       "    </tr>\n",
       "    <tr>\n",
       "      <th>2</th>\n",
       "      <td>1</td>\n",
       "      <td>2576651</td>\n",
       "      <td>149192</td>\n",
       "      <td>pv</td>\n",
       "      <td>20171125</td>\n",
       "      <td>0</td>\n",
       "      <td>1</td>\n",
       "      <td>0</td>\n",
       "      <td>0</td>\n",
       "    </tr>\n",
       "    <tr>\n",
       "      <th>3</th>\n",
       "      <td>1</td>\n",
       "      <td>3830808</td>\n",
       "      <td>4181361</td>\n",
       "      <td>pv</td>\n",
       "      <td>20171125</td>\n",
       "      <td>0</td>\n",
       "      <td>1</td>\n",
       "      <td>0</td>\n",
       "      <td>0</td>\n",
       "    </tr>\n",
       "    <tr>\n",
       "      <th>4</th>\n",
       "      <td>1</td>\n",
       "      <td>4365585</td>\n",
       "      <td>2520377</td>\n",
       "      <td>pv</td>\n",
       "      <td>20171125</td>\n",
       "      <td>0</td>\n",
       "      <td>1</td>\n",
       "      <td>0</td>\n",
       "      <td>0</td>\n",
       "    </tr>\n",
       "  </tbody>\n",
       "</table>\n",
       "</div>"
      ],
      "text/plain": [
       "  userid   itemid category behaviour      time  buy  pv  cart  favor\n",
       "0      1  2268318  2520377        pv  20171125    0   1     0      0\n",
       "1      1  2333346  2520771        pv  20171125    0   1     0      0\n",
       "2      1  2576651   149192        pv  20171125    0   1     0      0\n",
       "3      1  3830808  4181361        pv  20171125    0   1     0      0\n",
       "4      1  4365585  2520377        pv  20171125    0   1     0      0"
      ]
     },
     "execution_count": 149,
     "metadata": {},
     "output_type": "execute_result"
    }
   ],
   "source": [
    "data[:5]"
   ]
  },
  {
   "cell_type": "code",
   "execution_count": 159,
   "id": "historic-batman",
   "metadata": {},
   "outputs": [],
   "source": [
    "aggData = data.groupby(\"userid\").sum().sort_values(\"buy\",ascending=False)"
   ]
  },
  {
   "cell_type": "code",
   "execution_count": 181,
   "id": "phantom-aquatic",
   "metadata": {},
   "outputs": [],
   "source": [
    "aggData[\"pv-buy\"] = round(aggData[\"buy\"]/aggData[\"pv\"] * 100,4) \n",
    "aggData[\"cart-buy\"] = round(aggData[\"buy\"]/aggData[\"cart\"] * 100,4)\n",
    "aggData[\"pv-cart\"]  = round(aggData[\"cart\"]/aggData[\"pv\"] * 100,4)"
   ]
  },
  {
   "cell_type": "code",
   "execution_count": 283,
   "id": "known-provision",
   "metadata": {},
   "outputs": [],
   "source": [
    "def toPercent(x):\n",
    "    if np.isnan(x):\n",
    "        return \"0%\"\n",
    "    else:\n",
    "        return str(round(x,2)) + \"%\""
   ]
  },
  {
   "cell_type": "code",
   "execution_count": 189,
   "id": "textile-roads",
   "metadata": {},
   "outputs": [],
   "source": [
    "aggData[\"pv-buy\"] = aggData[\"pv-buy\"].apply(toPercent,)\n",
    "aggData[\"cart-buy\"] = aggData[\"cart-buy\"].apply(toPercent)\n",
    "aggData[\"pv-cart\"] = aggData[\"pv-cart\"].apply(toPercent)"
   ]
  },
  {
   "cell_type": "code",
   "execution_count": 190,
   "id": "virgin-hundred",
   "metadata": {},
   "outputs": [
    {
     "data": {
      "text/html": [
       "<div>\n",
       "<style scoped>\n",
       "    .dataframe tbody tr th:only-of-type {\n",
       "        vertical-align: middle;\n",
       "    }\n",
       "\n",
       "    .dataframe tbody tr th {\n",
       "        vertical-align: top;\n",
       "    }\n",
       "\n",
       "    .dataframe thead th {\n",
       "        text-align: right;\n",
       "    }\n",
       "</style>\n",
       "<table border=\"1\" class=\"dataframe\">\n",
       "  <thead>\n",
       "    <tr style=\"text-align: right;\">\n",
       "      <th></th>\n",
       "      <th>buy</th>\n",
       "      <th>pv</th>\n",
       "      <th>cart</th>\n",
       "      <th>favor</th>\n",
       "      <th>pv-buy</th>\n",
       "      <th>cart-buy</th>\n",
       "      <th>pv-cart</th>\n",
       "    </tr>\n",
       "    <tr>\n",
       "      <th>userid</th>\n",
       "      <th></th>\n",
       "      <th></th>\n",
       "      <th></th>\n",
       "      <th></th>\n",
       "      <th></th>\n",
       "      <th></th>\n",
       "      <th></th>\n",
       "    </tr>\n",
       "  </thead>\n",
       "  <tbody>\n",
       "    <tr>\n",
       "      <th>234304</th>\n",
       "      <td>84</td>\n",
       "      <td>163</td>\n",
       "      <td>26</td>\n",
       "      <td>4</td>\n",
       "      <td>51.53%</td>\n",
       "      <td>323.08%</td>\n",
       "      <td>15.95%</td>\n",
       "    </tr>\n",
       "    <tr>\n",
       "      <th>107932</th>\n",
       "      <td>72</td>\n",
       "      <td>139</td>\n",
       "      <td>16</td>\n",
       "      <td>0</td>\n",
       "      <td>51.8%</td>\n",
       "      <td>450.0%</td>\n",
       "      <td>11.51%</td>\n",
       "    </tr>\n",
       "    <tr>\n",
       "      <th>122504</th>\n",
       "      <td>69</td>\n",
       "      <td>48</td>\n",
       "      <td>0</td>\n",
       "      <td>0</td>\n",
       "      <td>143.75%</td>\n",
       "      <td>inf%</td>\n",
       "      <td>0.0%</td>\n",
       "    </tr>\n",
       "    <tr>\n",
       "      <th>128379</th>\n",
       "      <td>65</td>\n",
       "      <td>0</td>\n",
       "      <td>0</td>\n",
       "      <td>1</td>\n",
       "      <td>inf%</td>\n",
       "      <td>inf%</td>\n",
       "      <td>nan%</td>\n",
       "    </tr>\n",
       "    <tr>\n",
       "      <th>242650</th>\n",
       "      <td>61</td>\n",
       "      <td>144</td>\n",
       "      <td>72</td>\n",
       "      <td>0</td>\n",
       "      <td>42.36%</td>\n",
       "      <td>84.72%</td>\n",
       "      <td>50.0%</td>\n",
       "    </tr>\n",
       "  </tbody>\n",
       "</table>\n",
       "</div>"
      ],
      "text/plain": [
       "        buy   pv  cart  favor   pv-buy cart-buy pv-cart\n",
       "userid                                                 \n",
       "234304   84  163    26      4   51.53%  323.08%  15.95%\n",
       "107932   72  139    16      0    51.8%   450.0%  11.51%\n",
       "122504   69   48     0      0  143.75%     inf%    0.0%\n",
       "128379   65    0     0      1     inf%     inf%    nan%\n",
       "242650   61  144    72      0   42.36%   84.72%   50.0%"
      ]
     },
     "execution_count": 190,
     "metadata": {},
     "output_type": "execute_result"
    }
   ],
   "source": [
    "aggData[:5]"
   ]
  },
  {
   "cell_type": "code",
   "execution_count": 195,
   "id": "selective-russell",
   "metadata": {},
   "outputs": [
    {
     "data": {
      "text/plain": [
       "<AxesSubplot:>"
      ]
     },
     "execution_count": 195,
     "metadata": {},
     "output_type": "execute_result"
    },
    {
     "data": {
      "image/png": "[encoded data removed]",
      "text/plain": [
       "<Figure size 432x288 with 1 Axes>"
      ]
     },
     "metadata": {
      "needs_background": "light"
     },
     "output_type": "display_data"
    }
   ],
   "source": [
    "#观察购买数量分布的直方图\n",
    "aggData[\"buy\"].value_counts().hist()"
   ]
  },
  {
   "cell_type": "code",
   "execution_count": 202,
   "id": "vietnamese-longer",
   "metadata": {},
   "outputs": [],
   "source": [
    "##计算复购率\n",
    "def multiple(x):\n",
    "    if x > 1:\n",
    "        return 1\n",
    "    else:\n",
    "        return 0"
   ]
  },
  {
   "cell_type": "code",
   "execution_count": 203,
   "id": "accurate-louisville",
   "metadata": {},
   "outputs": [],
   "source": [
    "def buyOnce(x):\n",
    "    if x >= 1:\n",
    "        return 1\n",
    "    else:\n",
    "        return 0"
   ]
  },
  {
   "cell_type": "code",
   "execution_count": 224,
   "id": "frequent-roulette",
   "metadata": {},
   "outputs": [],
   "source": [
    "data.drop([\"pv-buy\"],inplace=True,axis=1)"
   ]
  },
  {
   "cell_type": "code",
   "execution_count": 294,
   "id": "racial-incidence",
   "metadata": {},
   "outputs": [
    {
     "data": {
      "text/html": [
       "<div>\n",
       "<style scoped>\n",
       "    .dataframe tbody tr th:only-of-type {\n",
       "        vertical-align: middle;\n",
       "    }\n",
       "\n",
       "    .dataframe tbody tr th {\n",
       "        vertical-align: top;\n",
       "    }\n",
       "\n",
       "    .dataframe thead th {\n",
       "        text-align: right;\n",
       "    }\n",
       "</style>\n",
       "<table border=\"1\" class=\"dataframe\">\n",
       "  <thead>\n",
       "    <tr style=\"text-align: right;\">\n",
       "      <th></th>\n",
       "      <th>userid</th>\n",
       "      <th>itemid</th>\n",
       "      <th>category</th>\n",
       "      <th>time</th>\n",
       "      <th>buy</th>\n",
       "      <th>pv</th>\n",
       "      <th>cart</th>\n",
       "      <th>favor</th>\n",
       "    </tr>\n",
       "  </thead>\n",
       "  <tbody>\n",
       "    <tr>\n",
       "      <th>0</th>\n",
       "      <td>1</td>\n",
       "      <td>2268318</td>\n",
       "      <td>2520377</td>\n",
       "      <td>20171125</td>\n",
       "      <td>0</td>\n",
       "      <td>1</td>\n",
       "      <td>0</td>\n",
       "      <td>0</td>\n",
       "    </tr>\n",
       "    <tr>\n",
       "      <th>1</th>\n",
       "      <td>1</td>\n",
       "      <td>2333346</td>\n",
       "      <td>2520771</td>\n",
       "      <td>20171125</td>\n",
       "      <td>0</td>\n",
       "      <td>1</td>\n",
       "      <td>0</td>\n",
       "      <td>0</td>\n",
       "    </tr>\n",
       "    <tr>\n",
       "      <th>2</th>\n",
       "      <td>1</td>\n",
       "      <td>2576651</td>\n",
       "      <td>149192</td>\n",
       "      <td>20171125</td>\n",
       "      <td>0</td>\n",
       "      <td>1</td>\n",
       "      <td>0</td>\n",
       "      <td>0</td>\n",
       "    </tr>\n",
       "    <tr>\n",
       "      <th>3</th>\n",
       "      <td>1</td>\n",
       "      <td>3830808</td>\n",
       "      <td>4181361</td>\n",
       "      <td>20171125</td>\n",
       "      <td>0</td>\n",
       "      <td>1</td>\n",
       "      <td>0</td>\n",
       "      <td>0</td>\n",
       "    </tr>\n",
       "    <tr>\n",
       "      <th>4</th>\n",
       "      <td>1</td>\n",
       "      <td>4365585</td>\n",
       "      <td>2520377</td>\n",
       "      <td>20171125</td>\n",
       "      <td>0</td>\n",
       "      <td>1</td>\n",
       "      <td>0</td>\n",
       "      <td>0</td>\n",
       "    </tr>\n",
       "  </tbody>\n",
       "</table>\n",
       "</div>"
      ],
      "text/plain": [
       "  userid   itemid category      time  buy  pv  cart  favor\n",
       "0      1  2268318  2520377  20171125    0   1     0      0\n",
       "1      1  2333346  2520771  20171125    0   1     0      0\n",
       "2      1  2576651   149192  20171125    0   1     0      0\n",
       "3      1  3830808  4181361  20171125    0   1     0      0\n",
       "4      1  4365585  2520377  20171125    0   1     0      0"
      ]
     },
     "execution_count": 294,
     "metadata": {},
     "output_type": "execute_result"
    }
   ],
   "source": [
    "data.head()"
   ]
  },
  {
   "cell_type": "code",
   "execution_count": 300,
   "id": "exposed-snapshot",
   "metadata": {},
   "outputs": [],
   "source": [
    "aggItem = data.groupby([\"itemid\",\"userid\"]).sum()[[\"buy\"]].sort_values(\"buy\",ascending=False)"
   ]
  },
  {
   "cell_type": "code",
   "execution_count": 354,
   "id": "prime-example",
   "metadata": {},
   "outputs": [],
   "source": [
    "itemTable = aggItem.reset_index()"
   ]
  },
  {
   "cell_type": "code",
   "execution_count": 355,
   "id": "enormous-honey",
   "metadata": {},
   "outputs": [
    {
     "data": {
      "text/html": [
       "<div>\n",
       "<style scoped>\n",
       "    .dataframe tbody tr th:only-of-type {\n",
       "        vertical-align: middle;\n",
       "    }\n",
       "\n",
       "    .dataframe tbody tr th {\n",
       "        vertical-align: top;\n",
       "    }\n",
       "\n",
       "    .dataframe thead th {\n",
       "        text-align: right;\n",
       "    }\n",
       "</style>\n",
       "<table border=\"1\" class=\"dataframe\">\n",
       "  <thead>\n",
       "    <tr style=\"text-align: right;\">\n",
       "      <th></th>\n",
       "      <th>index</th>\n",
       "      <th>itemid</th>\n",
       "      <th>userid</th>\n",
       "      <th>buy</th>\n",
       "    </tr>\n",
       "  </thead>\n",
       "  <tbody>\n",
       "    <tr>\n",
       "      <th>0</th>\n",
       "      <td>0</td>\n",
       "      <td>4574184</td>\n",
       "      <td>140047</td>\n",
       "      <td>13</td>\n",
       "    </tr>\n",
       "    <tr>\n",
       "      <th>1</th>\n",
       "      <td>1</td>\n",
       "      <td>3894457</td>\n",
       "      <td>140047</td>\n",
       "      <td>12</td>\n",
       "    </tr>\n",
       "    <tr>\n",
       "      <th>2</th>\n",
       "      <td>2</td>\n",
       "      <td>2124040</td>\n",
       "      <td>118740</td>\n",
       "      <td>11</td>\n",
       "    </tr>\n",
       "    <tr>\n",
       "      <th>3</th>\n",
       "      <td>3</td>\n",
       "      <td>4157341</td>\n",
       "      <td>165053</td>\n",
       "      <td>8</td>\n",
       "    </tr>\n",
       "    <tr>\n",
       "      <th>4</th>\n",
       "      <td>4</td>\n",
       "      <td>4296993</td>\n",
       "      <td>118202</td>\n",
       "      <td>7</td>\n",
       "    </tr>\n",
       "  </tbody>\n",
       "</table>\n",
       "</div>"
      ],
      "text/plain": [
       "   index   itemid  userid  buy\n",
       "0      0  4574184  140047   13\n",
       "1      1  3894457  140047   12\n",
       "2      2  2124040  118740   11\n",
       "3      3  4157341  165053    8\n",
       "4      4  4296993  118202    7"
      ]
     },
     "execution_count": 355,
     "metadata": {},
     "output_type": "execute_result"
    }
   ],
   "source": [
    "itemTable.head()"
   ]
  },
  {
   "cell_type": "code",
   "execution_count": 356,
   "id": "economic-terrorist",
   "metadata": {},
   "outputs": [],
   "source": [
    "itemTable.drop([\"index\"],inplace=True,axis=1)"
   ]
  },
  {
   "cell_type": "code",
   "execution_count": 363,
   "id": "through-culture",
   "metadata": {},
   "outputs": [],
   "source": [
    "itemTable[\"MultiplePur\"] = itemTable[\"buy\"].apply(multiple)\n",
    "itemTable[\"purchase\"] = itemTable[\"buy\"].apply(buyOnce)"
   ]
  },
  {
   "cell_type": "code",
   "execution_count": 364,
   "id": "northern-lucas",
   "metadata": {},
   "outputs": [
    {
     "data": {
      "text/plain": [
       "0    2830529\n",
       "1       3098\n",
       "Name: MultiplePur, dtype: int64"
      ]
     },
     "execution_count": 364,
     "metadata": {},
     "output_type": "execute_result"
    }
   ],
   "source": [
    "itemTable[\"MultiplePur\"].value_counts()"
   ]
  },
  {
   "cell_type": "code",
   "execution_count": 365,
   "id": "correct-stability",
   "metadata": {},
   "outputs": [],
   "source": [
    "itemTable = itemTable.groupby(\"itemid\").sum([\"MutiplePur\",\"purchase\"])"
   ]
  },
  {
   "cell_type": "code",
   "execution_count": 368,
   "id": "emerging-cornell",
   "metadata": {},
   "outputs": [],
   "source": [
    "itemTable[\"rePurchase\"] = round(itemTable[\"MultiplePur\"] / itemTable[\"purchase\"] * 100,4)"
   ]
  },
  {
   "cell_type": "code",
   "execution_count": 369,
   "id": "active-shock",
   "metadata": {},
   "outputs": [],
   "source": [
    "itemTable[\"rePurchase\"] = itemTable[\"rePurchase\"].apply(toPercent)"
   ]
  },
  {
   "cell_type": "code",
   "execution_count": 370,
   "id": "together-preview",
   "metadata": {},
   "outputs": [
    {
     "data": {
      "text/html": [
       "<div>\n",
       "<style scoped>\n",
       "    .dataframe tbody tr th:only-of-type {\n",
       "        vertical-align: middle;\n",
       "    }\n",
       "\n",
       "    .dataframe tbody tr th {\n",
       "        vertical-align: top;\n",
       "    }\n",
       "\n",
       "    .dataframe thead th {\n",
       "        text-align: right;\n",
       "    }\n",
       "</style>\n",
       "<table border=\"1\" class=\"dataframe\">\n",
       "  <thead>\n",
       "    <tr style=\"text-align: right;\">\n",
       "      <th></th>\n",
       "      <th>buy</th>\n",
       "      <th>MultiplePur</th>\n",
       "      <th>purchase</th>\n",
       "      <th>rePurchase</th>\n",
       "    </tr>\n",
       "    <tr>\n",
       "      <th>itemid</th>\n",
       "      <th></th>\n",
       "      <th></th>\n",
       "      <th></th>\n",
       "      <th></th>\n",
       "    </tr>\n",
       "  </thead>\n",
       "  <tbody>\n",
       "    <tr>\n",
       "      <th>265985</th>\n",
       "      <td>12</td>\n",
       "      <td>1</td>\n",
       "      <td>11</td>\n",
       "      <td>9.09%</td>\n",
       "    </tr>\n",
       "    <tr>\n",
       "      <th>1074025</th>\n",
       "      <td>12</td>\n",
       "      <td>1</td>\n",
       "      <td>11</td>\n",
       "      <td>9.09%</td>\n",
       "    </tr>\n",
       "    <tr>\n",
       "      <th>4848388</th>\n",
       "      <td>12</td>\n",
       "      <td>1</td>\n",
       "      <td>11</td>\n",
       "      <td>9.09%</td>\n",
       "    </tr>\n",
       "    <tr>\n",
       "      <th>4041131</th>\n",
       "      <td>12</td>\n",
       "      <td>1</td>\n",
       "      <td>11</td>\n",
       "      <td>9.09%</td>\n",
       "    </tr>\n",
       "    <tr>\n",
       "      <th>403792</th>\n",
       "      <td>12</td>\n",
       "      <td>1</td>\n",
       "      <td>11</td>\n",
       "      <td>9.09%</td>\n",
       "    </tr>\n",
       "    <tr>\n",
       "      <th>...</th>\n",
       "      <td>...</td>\n",
       "      <td>...</td>\n",
       "      <td>...</td>\n",
       "      <td>...</td>\n",
       "    </tr>\n",
       "    <tr>\n",
       "      <th>2592091</th>\n",
       "      <td>0</td>\n",
       "      <td>0</td>\n",
       "      <td>0</td>\n",
       "      <td>0%</td>\n",
       "    </tr>\n",
       "    <tr>\n",
       "      <th>2592093</th>\n",
       "      <td>0</td>\n",
       "      <td>0</td>\n",
       "      <td>0</td>\n",
       "      <td>0%</td>\n",
       "    </tr>\n",
       "    <tr>\n",
       "      <th>2592095</th>\n",
       "      <td>0</td>\n",
       "      <td>0</td>\n",
       "      <td>0</td>\n",
       "      <td>0%</td>\n",
       "    </tr>\n",
       "    <tr>\n",
       "      <th>2592107</th>\n",
       "      <td>0</td>\n",
       "      <td>0</td>\n",
       "      <td>0</td>\n",
       "      <td>0%</td>\n",
       "    </tr>\n",
       "    <tr>\n",
       "      <th>999976</th>\n",
       "      <td>0</td>\n",
       "      <td>0</td>\n",
       "      <td>0</td>\n",
       "      <td>0%</td>\n",
       "    </tr>\n",
       "  </tbody>\n",
       "</table>\n",
       "<p>916467 rows × 4 columns</p>\n",
       "</div>"
      ],
      "text/plain": [
       "         buy  MultiplePur  purchase rePurchase\n",
       "itemid                                        \n",
       "265985    12            1        11      9.09%\n",
       "1074025   12            1        11      9.09%\n",
       "4848388   12            1        11      9.09%\n",
       "4041131   12            1        11      9.09%\n",
       "403792    12            1        11      9.09%\n",
       "...      ...          ...       ...        ...\n",
       "2592091    0            0         0         0%\n",
       "2592093    0            0         0         0%\n",
       "2592095    0            0         0         0%\n",
       "2592107    0            0         0         0%\n",
       "999976     0            0         0         0%\n",
       "\n",
       "[916467 rows x 4 columns]"
      ]
     },
     "execution_count": 370,
     "metadata": {},
     "output_type": "execute_result"
    }
   ],
   "source": [
    "itemTable.sort_values(by=\"rePurchase\",ascending=False)"
   ]
  },
  {
   "cell_type": "code",
   "execution_count": 372,
   "id": "informational-retro",
   "metadata": {},
   "outputs": [
    {
     "data": {
      "text/html": [
       "<div>\n",
       "<style scoped>\n",
       "    .dataframe tbody tr th:only-of-type {\n",
       "        vertical-align: middle;\n",
       "    }\n",
       "\n",
       "    .dataframe tbody tr th {\n",
       "        vertical-align: top;\n",
       "    }\n",
       "\n",
       "    .dataframe thead th {\n",
       "        text-align: right;\n",
       "    }\n",
       "</style>\n",
       "<table border=\"1\" class=\"dataframe\">\n",
       "  <thead>\n",
       "    <tr style=\"text-align: right;\">\n",
       "      <th></th>\n",
       "      <th>userid</th>\n",
       "      <th>itemid</th>\n",
       "      <th>category</th>\n",
       "      <th>time</th>\n",
       "      <th>buy</th>\n",
       "      <th>pv</th>\n",
       "      <th>cart</th>\n",
       "      <th>favor</th>\n",
       "    </tr>\n",
       "  </thead>\n",
       "  <tbody>\n",
       "    <tr>\n",
       "      <th>0</th>\n",
       "      <td>1</td>\n",
       "      <td>2268318</td>\n",
       "      <td>2520377</td>\n",
       "      <td>20171125</td>\n",
       "      <td>0</td>\n",
       "      <td>1</td>\n",
       "      <td>0</td>\n",
       "      <td>0</td>\n",
       "    </tr>\n",
       "    <tr>\n",
       "      <th>1</th>\n",
       "      <td>1</td>\n",
       "      <td>2333346</td>\n",
       "      <td>2520771</td>\n",
       "      <td>20171125</td>\n",
       "      <td>0</td>\n",
       "      <td>1</td>\n",
       "      <td>0</td>\n",
       "      <td>0</td>\n",
       "    </tr>\n",
       "    <tr>\n",
       "      <th>2</th>\n",
       "      <td>1</td>\n",
       "      <td>2576651</td>\n",
       "      <td>149192</td>\n",
       "      <td>20171125</td>\n",
       "      <td>0</td>\n",
       "      <td>1</td>\n",
       "      <td>0</td>\n",
       "      <td>0</td>\n",
       "    </tr>\n",
       "    <tr>\n",
       "      <th>3</th>\n",
       "      <td>1</td>\n",
       "      <td>3830808</td>\n",
       "      <td>4181361</td>\n",
       "      <td>20171125</td>\n",
       "      <td>0</td>\n",
       "      <td>1</td>\n",
       "      <td>0</td>\n",
       "      <td>0</td>\n",
       "    </tr>\n",
       "    <tr>\n",
       "      <th>4</th>\n",
       "      <td>1</td>\n",
       "      <td>4365585</td>\n",
       "      <td>2520377</td>\n",
       "      <td>20171125</td>\n",
       "      <td>0</td>\n",
       "      <td>1</td>\n",
       "      <td>0</td>\n",
       "      <td>0</td>\n",
       "    </tr>\n",
       "  </tbody>\n",
       "</table>\n",
       "</div>"
      ],
      "text/plain": [
       "  userid   itemid category      time  buy  pv  cart  favor\n",
       "0      1  2268318  2520377  20171125    0   1     0      0\n",
       "1      1  2333346  2520771  20171125    0   1     0      0\n",
       "2      1  2576651   149192  20171125    0   1     0      0\n",
       "3      1  3830808  4181361  20171125    0   1     0      0\n",
       "4      1  4365585  2520377  20171125    0   1     0      0"
      ]
     },
     "execution_count": 372,
     "metadata": {},
     "output_type": "execute_result"
    }
   ],
   "source": [
    "data.head()"
   ]
  },
  {
   "cell_type": "code",
   "execution_count": null,
   "id": "hairy-traveler",
   "metadata": {},
   "outputs": [],
   "source": []
  }
 ],
 "metadata": {
  "kernelspec": {
   "display_name": "Python 3",
   "language": "python",
   "name": "python3"
  },
  "language_info": {
   "codemirror_mode": {
    "name": "ipython",
    "version": 3
   },
   "file_extension": ".py",
   "mimetype": "text/x-python",
   "name": "python",
   "nbconvert_exporter": "python",
   "pygments_lexer": "ipython3",
   "version": "3.8.5"
  }
 },
 "nbformat": 4,
 "nbformat_minor": 5
}
