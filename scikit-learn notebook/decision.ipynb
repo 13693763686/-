{
  "nbformat": 4,
  "nbformat_minor": 0,
  "metadata": {
    "colab": {
      "name": "decision.ipynb",
      "provenance": [],
      "collapsed_sections": [],
      "toc_visible": true,
      "authorship_tag": "ABX9TyOngh7aCkppGMecT/cDPvd8",
      "include_colab_link": true
    },
    "kernelspec": {
      "name": "python3",
      "display_name": "Python 3"
    }
  },
  "cells": [
    {
      "cell_type": "markdown",
      "metadata": {
        "id": "view-in-github",
        "colab_type": "text"
      },
      "source": [
        "<a href=\"https://colab.research.google.com/github/13693763686/data-analysis/blob/master/scikit-learn%20notebook/decision.ipynb\" target=\"_parent\"><img src=\"https://colab.research.google.com/assets/colab-badge.svg\" alt=\"Open In Colab\"/></a>"
      ]
    },
    {
      "cell_type": "markdown",
      "metadata": {
        "id": "b5SXyKvKBAl6"
      },
      "source": [
        "# 泰坦尼克号幸存者的预测\r\n"
      ]
    },
    {
      "cell_type": "markdown",
      "metadata": {
        "id": "kvINymMsDuE1"
      },
      "source": [
        "## 导入所需要的库"
      ]
    },
    {
      "cell_type": "code",
      "metadata": {
        "id": "kthOSbNID9_k"
      },
      "source": [
        "import pandas as pd\r\n",
        "import numpy as np"
      ],
      "execution_count": null,
      "outputs": []
    },
    {
      "cell_type": "code",
      "metadata": {
        "id": "zHDQTeqSEAN6"
      },
      "source": [
        "from sklearn.model_selection import train_test_split\r\n",
        "from sklearn.model_selection import cross_val_score\r\n",
        "from sklearn.model_selection import GridSearchCV"
      ],
      "execution_count": null,
      "outputs": []
    },
    {
      "cell_type": "code",
      "metadata": {
        "id": "uLqWrMoNEEFD"
      },
      "source": [
        "import matplotlib.pyplot as plt"
      ],
      "execution_count": null,
      "outputs": []
    },
    {
      "cell_type": "markdown",
      "metadata": {
        "id": "Of2j6GzJERhH"
      },
      "source": [
        "## 导入数据集，探索数据特征，注意数据的特征的注解"
      ]
    },
    {
      "cell_type": "code",
      "metadata": {
        "id": "jwGX0aNrEX8-"
      },
      "source": [
        "data = pd.read_csv(\"data.csv\")"
      ],
      "execution_count": null,
      "outputs": []
    },
    {
      "cell_type": "code",
      "metadata": {
        "colab": {
          "base_uri": "https://localhost:8080/"
        },
        "id": "ytHyg8HmEhcB",
        "outputId": "b4bb7315-61b1-4ace-c13a-369ebb9f1d2e"
      },
      "source": [
        "data.info()\r\n",
        "#初步观察，数据中有许多缺失值，需要进行特征工程进行决策\r\n",
        "#如果这一列值太少，插值不容易且对预测的影响很小，可以考虑删除\r\n",
        "#如果缺的值不是特别多，这时可以考虑插值，离散和连续都有独立的方法\r\n",
        "#对于离散的值来说，众数可能是好的选择\r\n",
        "#对于连续的值来说，平均值和中值都是很好的选择\r\n",
        "#这些插值方法，可以利用sklearn的模块，也可以利用numpy的性质手工转换"
      ],
      "execution_count": null,
      "outputs": [
        {
          "output_type": "stream",
          "text": [
            "<class 'pandas.core.frame.DataFrame'>\n",
            "RangeIndex: 891 entries, 0 to 890\n",
            "Data columns (total 12 columns):\n",
            " #   Column       Non-Null Count  Dtype  \n",
            "---  ------       --------------  -----  \n",
            " 0   PassengerId  891 non-null    int64  \n",
            " 1   Survived     891 non-null    int64  \n",
            " 2   Pclass       891 non-null    int64  \n",
            " 3   Name         891 non-null    object \n",
            " 4   Sex          891 non-null    object \n",
            " 5   Age          714 non-null    float64\n",
            " 6   SibSp        891 non-null    int64  \n",
            " 7   Parch        891 non-null    int64  \n",
            " 8   Ticket       891 non-null    object \n",
            " 9   Fare         891 non-null    float64\n",
            " 10  Cabin        204 non-null    object \n",
            " 11  Embarked     889 non-null    object \n",
            "dtypes: float64(2), int64(5), object(5)\n",
            "memory usage: 83.7+ KB\n"
          ],
          "name": "stdout"
        }
      ]
    },
    {
      "cell_type": "code",
      "metadata": {
        "colab": {
          "base_uri": "https://localhost:8080/",
          "height": 194
        },
        "id": "3EDH6BJ5Eifi",
        "outputId": "3f264935-dbfd-47de-8c99-4f2cecad66a8"
      },
      "source": [
        "data.head()"
      ],
      "execution_count": null,
      "outputs": [
        {
          "output_type": "execute_result",
          "data": {
            "text/html": [
              "<div>\n",
              "<style scoped>\n",
              "    .dataframe tbody tr th:only-of-type {\n",
              "        vertical-align: middle;\n",
              "    }\n",
              "\n",
              "    .dataframe tbody tr th {\n",
              "        vertical-align: top;\n",
              "    }\n",
              "\n",
              "    .dataframe thead th {\n",
              "        text-align: right;\n",
              "    }\n",
              "</style>\n",
              "<table border=\"1\" class=\"dataframe\">\n",
              "  <thead>\n",
              "    <tr style=\"text-align: right;\">\n",
              "      <th></th>\n",
              "      <th>PassengerId</th>\n",
              "      <th>Survived</th>\n",
              "      <th>Pclass</th>\n",
              "      <th>Name</th>\n",
              "      <th>Sex</th>\n",
              "      <th>Age</th>\n",
              "      <th>SibSp</th>\n",
              "      <th>Parch</th>\n",
              "      <th>Ticket</th>\n",
              "      <th>Fare</th>\n",
              "      <th>Cabin</th>\n",
              "      <th>Embarked</th>\n",
              "    </tr>\n",
              "  </thead>\n",
              "  <tbody>\n",
              "    <tr>\n",
              "      <th>0</th>\n",
              "      <td>1</td>\n",
              "      <td>0</td>\n",
              "      <td>3</td>\n",
              "      <td>Braund, Mr. Owen Harris</td>\n",
              "      <td>male</td>\n",
              "      <td>22.0</td>\n",
              "      <td>1</td>\n",
              "      <td>0</td>\n",
              "      <td>A/5 21171</td>\n",
              "      <td>7.2500</td>\n",
              "      <td>NaN</td>\n",
              "      <td>S</td>\n",
              "    </tr>\n",
              "    <tr>\n",
              "      <th>1</th>\n",
              "      <td>2</td>\n",
              "      <td>1</td>\n",
              "      <td>1</td>\n",
              "      <td>Cumings, Mrs. John Bradley (Florence Briggs Th...</td>\n",
              "      <td>female</td>\n",
              "      <td>38.0</td>\n",
              "      <td>1</td>\n",
              "      <td>0</td>\n",
              "      <td>PC 17599</td>\n",
              "      <td>71.2833</td>\n",
              "      <td>C85</td>\n",
              "      <td>C</td>\n",
              "    </tr>\n",
              "    <tr>\n",
              "      <th>2</th>\n",
              "      <td>3</td>\n",
              "      <td>1</td>\n",
              "      <td>3</td>\n",
              "      <td>Heikkinen, Miss. Laina</td>\n",
              "      <td>female</td>\n",
              "      <td>26.0</td>\n",
              "      <td>0</td>\n",
              "      <td>0</td>\n",
              "      <td>STON/O2. 3101282</td>\n",
              "      <td>7.9250</td>\n",
              "      <td>NaN</td>\n",
              "      <td>S</td>\n",
              "    </tr>\n",
              "    <tr>\n",
              "      <th>3</th>\n",
              "      <td>4</td>\n",
              "      <td>1</td>\n",
              "      <td>1</td>\n",
              "      <td>Futrelle, Mrs. Jacques Heath (Lily May Peel)</td>\n",
              "      <td>female</td>\n",
              "      <td>35.0</td>\n",
              "      <td>1</td>\n",
              "      <td>0</td>\n",
              "      <td>113803</td>\n",
              "      <td>53.1000</td>\n",
              "      <td>C123</td>\n",
              "      <td>S</td>\n",
              "    </tr>\n",
              "    <tr>\n",
              "      <th>4</th>\n",
              "      <td>5</td>\n",
              "      <td>0</td>\n",
              "      <td>3</td>\n",
              "      <td>Allen, Mr. William Henry</td>\n",
              "      <td>male</td>\n",
              "      <td>35.0</td>\n",
              "      <td>0</td>\n",
              "      <td>0</td>\n",
              "      <td>373450</td>\n",
              "      <td>8.0500</td>\n",
              "      <td>NaN</td>\n",
              "      <td>S</td>\n",
              "    </tr>\n",
              "  </tbody>\n",
              "</table>\n",
              "</div>"
            ],
            "text/plain": [
              "   PassengerId  Survived  Pclass  ...     Fare Cabin  Embarked\n",
              "0            1         0       3  ...   7.2500   NaN         S\n",
              "1            2         1       1  ...  71.2833   C85         C\n",
              "2            3         1       3  ...   7.9250   NaN         S\n",
              "3            4         1       1  ...  53.1000  C123         S\n",
              "4            5         0       3  ...   8.0500   NaN         S\n",
              "\n",
              "[5 rows x 12 columns]"
            ]
          },
          "metadata": {
            "tags": []
          },
          "execution_count": 158
        }
      ]
    },
    {
      "cell_type": "markdown",
      "metadata": {
        "id": "UMrYxDw7Favl"
      },
      "source": [
        "## 对数据集进行预处理，特别是关于异常值和缺省值"
      ]
    },
    {
      "cell_type": "code",
      "metadata": {
        "id": "DS30YyNHFi2g"
      },
      "source": [
        "data.drop([\"Cabin\",\"Name\",\"Ticket\"],inplace=True,axis=1)\r\n",
        "#cabin为上船的地点，name为姓名，票的种类等等与生存与否关系不大，可以删除\r\n",
        "#考虑的方面主要为与预测标签的关系，以及缺失的程度"
      ],
      "execution_count": null,
      "outputs": []
    },
    {
      "cell_type": "code",
      "metadata": {
        "id": "JRBSABU9F7pI"
      },
      "source": [
        "#注意到年龄是判断的重要因素，而在数据集中处于缺失的状态，大约1/8的缺失的话可以通过插值解决\r\n",
        "#插值的方式可以通过简单的单值替换，也可以通过随机森林等高级机器学习模型混合学习来保证准确度\r\n",
        "#矩阵分解的插值方法，监督学习的方法都可以作为尝试的方法，如果特征特别重要的话\r\n",
        "data[\"Age\"] = data[\"Age\"].fillna(data[\"Age\"].mean())"
      ],
      "execution_count": null,
      "outputs": []
    },
    {
      "cell_type": "code",
      "metadata": {
        "id": "ClHjGmKYG7hJ"
      },
      "source": [
        "#一般的机器学习模型不能处理字符串型的数据，需要对其进行转换\r\n",
        "#字符串的数据通常是关于类别的，因此对其离散化为数字即可\r\n",
        "#这里要特别注意nominal和ordinal的区别，ordinal具有内生的顺序性，而nominal只是表示不同而已\r\n",
        "#还有两种数据是interval和ratio的区别，interval可以比较大小和加减，表示数值之间有差距，且差距可以从某种程度进行衡量，这是与ordinal对应，ordinal之间的差值只是表示不同，且更优秀而已\r\n",
        "#也就是说，不能说40度是20度的两倍热，因为0度本身不代表没有温度，20度也不是0度的无穷大热，且不同温度之间的变化所需要吸取的热量也是不同的，不同的差距的比较也是没有意义的\r\n",
        "#对于数学中经常考虑的数据，实数都是ration数据，它有确定的0，1就是1，2就是1的两倍，因为内部的物理意义被隔离了，只有抽象的含义，因此从抽象的角度来分析比较好"
      ],
      "execution_count": null,
      "outputs": []
    },
    {
      "cell_type": "code",
      "metadata": {
        "id": "thF4nFJtNSrU"
      },
      "source": [
        "datacopy = data # copy the data for experiments below"
      ],
      "execution_count": null,
      "outputs": []
    },
    {
      "cell_type": "code",
      "metadata": {
        "id": "ODA9qwYTLCKZ"
      },
      "source": [
        "#这里演示两种方法对数据进行离散化编码的方式\r\n",
        "#利用dataframe的基本操作\r\n",
        "data[\"Sex\"] = (data[\"Sex\"] == \"male\").astype(\"int\")\r\n",
        "#利用sklearn中的编码模块\r\n",
        "#对于不同的数据，我们有不同的分析方式，对于标签来说，直接利用LabelEncoder编码为不同的数值即可，因为作为标签来说只能是一维列表，只能为ordinal的顺序，因此注意编码的方法\r\n",
        "#对于特征矩阵来讲，通常来说我们会采用ordinal的方式，但对于一些其它的nominal数据，我们可能需要onehot的形式\r\n",
        "#这里对于性别来讲，是典型的nominal数据，但由于是2分类问题，因此它们是一致的\r\n",
        "#下面对于几种方法分别试验,演示其使用方法"
      ],
      "execution_count": null,
      "outputs": []
    },
    {
      "cell_type": "code",
      "metadata": {
        "id": "PQ82_WtdNhuL"
      },
      "source": [
        "from sklearn.preprocessing import LabelEncoder"
      ],
      "execution_count": null,
      "outputs": []
    },
    {
      "cell_type": "code",
      "metadata": {
        "id": "rJYLHbMPNmZ_"
      },
      "source": [
        "label = data[\"Sex\"]"
      ],
      "execution_count": null,
      "outputs": []
    },
    {
      "cell_type": "code",
      "metadata": {
        "colab": {
          "base_uri": "https://localhost:8080/"
        },
        "id": "PMDxTtCVNpZL",
        "outputId": "c4280bcd-ac15-4600-9ac9-b5b41bb835cd"
      },
      "source": [
        "label.value_counts()"
      ],
      "execution_count": null,
      "outputs": [
        {
          "output_type": "execute_result",
          "data": {
            "text/plain": [
              "1    577\n",
              "0    314\n",
              "Name: Sex, dtype: int64"
            ]
          },
          "metadata": {
            "tags": []
          },
          "execution_count": 166
        }
      ]
    },
    {
      "cell_type": "code",
      "metadata": {
        "id": "71vPxAfyNyY4"
      },
      "source": [
        "le = LabelEncoder()  #实例化我们的encoder对象，准备编码"
      ],
      "execution_count": null,
      "outputs": []
    },
    {
      "cell_type": "code",
      "metadata": {
        "id": "C4Cuk8_tN6Kk"
      },
      "source": [
        "le = le.fit(label)  #对label进行fit操作，做好准备工作，记录下编码方式"
      ],
      "execution_count": null,
      "outputs": []
    },
    {
      "cell_type": "code",
      "metadata": {
        "colab": {
          "base_uri": "https://localhost:8080/"
        },
        "id": "VWRqZqFCOIQO",
        "outputId": "4a361a2e-1da8-4e4b-a9fb-a43487464908"
      },
      "source": [
        "le.classes_      #查看encoder的fit情况，观察array的顺序，这会决定编码的顺序"
      ],
      "execution_count": null,
      "outputs": [
        {
          "output_type": "execute_result",
          "data": {
            "text/plain": [
              "array([0, 1])"
            ]
          },
          "metadata": {
            "tags": []
          },
          "execution_count": 169
        }
      ]
    },
    {
      "cell_type": "code",
      "metadata": {
        "id": "enfqChpxOLFw"
      },
      "source": [
        "label = le.transform(label)  #利用transform方法对label进行转换，当然可以直接利用fit_transform直接进行操作"
      ],
      "execution_count": null,
      "outputs": []
    },
    {
      "cell_type": "code",
      "metadata": {
        "colab": {
          "base_uri": "https://localhost:8080/"
        },
        "id": "nGozxVT2Ofoz",
        "outputId": "a2459163-961d-4e7c-a148-4ace7343b077"
      },
      "source": [
        "label[:5]"
      ],
      "execution_count": null,
      "outputs": [
        {
          "output_type": "execute_result",
          "data": {
            "text/plain": [
              "array([1, 0, 0, 0, 1])"
            ]
          },
          "metadata": {
            "tags": []
          },
          "execution_count": 171
        }
      ]
    },
    {
      "cell_type": "code",
      "metadata": {
        "colab": {
          "base_uri": "https://localhost:8080/"
        },
        "id": "tQqzE5i0OjoM",
        "outputId": "7a1d8df3-2d70-4abf-deb5-6ae1801884c1"
      },
      "source": [
        "#注意上面的赋值方式，操作本身不会对源数据进行修改，会返回一个新的数据，pandas大部分的函数都是如此的特征\r\n",
        "label[:10]     #注意结果，male对应的标签号为一，下面用ordinalencoder进行同样的操作"
      ],
      "execution_count": null,
      "outputs": [
        {
          "output_type": "execute_result",
          "data": {
            "text/plain": [
              "array([1, 0, 0, 0, 1, 1, 1, 1, 0, 0])"
            ]
          },
          "metadata": {
            "tags": []
          },
          "execution_count": 172
        }
      ]
    },
    {
      "cell_type": "code",
      "metadata": {
        "id": "3Xi4vhFFO9uY"
      },
      "source": [
        "from sklearn.preprocessing import OrdinalEncoder\r\n",
        "ordinal = OrdinalEncoder()"
      ],
      "execution_count": null,
      "outputs": []
    },
    {
      "cell_type": "code",
      "metadata": {
        "id": "BWnBa4oHPTmL"
      },
      "source": [
        "label = data[\"Sex\"]"
      ],
      "execution_count": null,
      "outputs": []
    },
    {
      "cell_type": "code",
      "metadata": {
        "colab": {
          "base_uri": "https://localhost:8080/",
          "height": 349
        },
        "id": "NOc2l09LQf0k",
        "outputId": "16fd4620-b3f1-44e2-b794-1eb1041e32be"
      },
      "source": [
        "#注意reshape方法是ndarray的方法，需要提前把series转变为ndarray，利用values的属性可以迅速的提取\r\n",
        "#利用reshape方法升维,numpy中的操作比series多了很大，因为numpy的ndarray是作为科学计算的基石，可操作性很强\r\n",
        "label = label.reshape(-1,1)\r\n",
        "label.shape"
      ],
      "execution_count": null,
      "outputs": [
        {
          "output_type": "error",
          "ename": "AttributeError",
          "evalue": "ignored",
          "traceback": [
            "\u001b[0;31m---------------------------------------------------------------------------\u001b[0m",
            "\u001b[0;31mAttributeError\u001b[0m                            Traceback (most recent call last)",
            "\u001b[0;32m<ipython-input-175-ddfe3a9ca361>\u001b[0m in \u001b[0;36m<module>\u001b[0;34m()\u001b[0m\n\u001b[1;32m      1\u001b[0m \u001b[0;31m#注意reshape方法是ndarray的方法，需要提前把series转变为ndarray，利用values的属性可以迅速的提取\u001b[0m\u001b[0;34m\u001b[0m\u001b[0;34m\u001b[0m\u001b[0;34m\u001b[0m\u001b[0m\n\u001b[1;32m      2\u001b[0m \u001b[0;31m#利用reshape方法升维,numpy中的操作比series多了很大，因为numpy的ndarray是作为科学计算的基石，可操作性很强\u001b[0m\u001b[0;34m\u001b[0m\u001b[0;34m\u001b[0m\u001b[0;34m\u001b[0m\u001b[0m\n\u001b[0;32m----> 3\u001b[0;31m \u001b[0mlabel\u001b[0m \u001b[0;34m=\u001b[0m \u001b[0mlabel\u001b[0m\u001b[0;34m.\u001b[0m\u001b[0mreshape\u001b[0m\u001b[0;34m(\u001b[0m\u001b[0;34m-\u001b[0m\u001b[0;36m1\u001b[0m\u001b[0;34m,\u001b[0m\u001b[0;36m1\u001b[0m\u001b[0;34m)\u001b[0m\u001b[0;34m\u001b[0m\u001b[0;34m\u001b[0m\u001b[0m\n\u001b[0m\u001b[1;32m      4\u001b[0m \u001b[0mlabel\u001b[0m\u001b[0;34m.\u001b[0m\u001b[0mshape\u001b[0m\u001b[0;34m\u001b[0m\u001b[0;34m\u001b[0m\u001b[0m\n",
            "\u001b[0;32m/usr/local/lib/python3.7/dist-packages/pandas/core/generic.py\u001b[0m in \u001b[0;36m__getattr__\u001b[0;34m(self, name)\u001b[0m\n\u001b[1;32m   5139\u001b[0m             \u001b[0;32mif\u001b[0m \u001b[0mself\u001b[0m\u001b[0;34m.\u001b[0m\u001b[0m_info_axis\u001b[0m\u001b[0;34m.\u001b[0m\u001b[0m_can_hold_identifiers_and_holds_name\u001b[0m\u001b[0;34m(\u001b[0m\u001b[0mname\u001b[0m\u001b[0;34m)\u001b[0m\u001b[0;34m:\u001b[0m\u001b[0;34m\u001b[0m\u001b[0;34m\u001b[0m\u001b[0m\n\u001b[1;32m   5140\u001b[0m                 \u001b[0;32mreturn\u001b[0m \u001b[0mself\u001b[0m\u001b[0;34m[\u001b[0m\u001b[0mname\u001b[0m\u001b[0;34m]\u001b[0m\u001b[0;34m\u001b[0m\u001b[0;34m\u001b[0m\u001b[0m\n\u001b[0;32m-> 5141\u001b[0;31m             \u001b[0;32mreturn\u001b[0m \u001b[0mobject\u001b[0m\u001b[0;34m.\u001b[0m\u001b[0m__getattribute__\u001b[0m\u001b[0;34m(\u001b[0m\u001b[0mself\u001b[0m\u001b[0;34m,\u001b[0m \u001b[0mname\u001b[0m\u001b[0;34m)\u001b[0m\u001b[0;34m\u001b[0m\u001b[0;34m\u001b[0m\u001b[0m\n\u001b[0m\u001b[1;32m   5142\u001b[0m \u001b[0;34m\u001b[0m\u001b[0m\n\u001b[1;32m   5143\u001b[0m     \u001b[0;32mdef\u001b[0m \u001b[0m__setattr__\u001b[0m\u001b[0;34m(\u001b[0m\u001b[0mself\u001b[0m\u001b[0;34m,\u001b[0m \u001b[0mname\u001b[0m\u001b[0;34m:\u001b[0m \u001b[0mstr\u001b[0m\u001b[0;34m,\u001b[0m \u001b[0mvalue\u001b[0m\u001b[0;34m)\u001b[0m \u001b[0;34m->\u001b[0m \u001b[0;32mNone\u001b[0m\u001b[0;34m:\u001b[0m\u001b[0;34m\u001b[0m\u001b[0;34m\u001b[0m\u001b[0m\n",
            "\u001b[0;31mAttributeError\u001b[0m: 'Series' object has no attribute 'reshape'"
          ]
        }
      ]
    },
    {
      "cell_type": "code",
      "metadata": {
        "id": "Vq5Q_NAnRMEY"
      },
      "source": [
        "ordinal.fit(label)\r\n",
        "#对于ordinal的编码器，它需要接受一个矩阵，当数据只有一个特征时，注意转换为矩阵的形式，根据提示，reshape即可。"
      ],
      "execution_count": null,
      "outputs": []
    },
    {
      "cell_type": "code",
      "metadata": {
        "id": "CYxJ10sAPY9Y"
      },
      "source": [
        "#ordinal编码器以列表的形式存取所有的编码方式，这里面的auto是自动识别的方式，但是应该是可以手动决定顺序的，否则编码的顺序只能按照字母表的顺序\r\n",
        "type(ordinal.categories_)"
      ],
      "execution_count": null,
      "outputs": []
    },
    {
      "cell_type": "code",
      "metadata": {
        "id": "ZudKzzQQRgXQ"
      },
      "source": [
        "#现在尝试为编码设置顺序，直接操控其内部的label属性应该是可以的，毕竟python没有严格的属性保护，私有变量等等\r\n",
        "label = data[\"Sex\"]\r\n",
        "le = LabelEncoder()"
      ],
      "execution_count": null,
      "outputs": []
    },
    {
      "cell_type": "code",
      "metadata": {
        "id": "VP04OjaiT9YJ"
      },
      "source": [
        "#当fit函数没有被call的时候，可以发现classes_属性是没有意义的，会报错\r\n",
        "#那么自然的也不可能对其进行操作\r\n",
        "le.classes_"
      ],
      "execution_count": null,
      "outputs": []
    },
    {
      "cell_type": "code",
      "metadata": {
        "id": "52vL9Ce0Tns4"
      },
      "source": [
        "type(le.fit(label))"
      ],
      "execution_count": null,
      "outputs": []
    },
    {
      "cell_type": "code",
      "metadata": {
        "id": "MhetBuDeT5eK"
      },
      "source": [
        "#嗯哼，发现classes_成功的被我们修改了\r\n",
        "le.classes_ = np.array([\"male\",\"female\"],dtype=object)"
      ],
      "execution_count": null,
      "outputs": []
    },
    {
      "cell_type": "markdown",
      "metadata": {
        "id": "QbZxd6K7Towt"
      },
      "source": [
        "le.classes_"
      ]
    },
    {
      "cell_type": "code",
      "metadata": {
        "id": "6ZJQ_VxNUzhc"
      },
      "source": [
        "label.head()"
      ],
      "execution_count": null,
      "outputs": []
    },
    {
      "cell_type": "code",
      "metadata": {
        "id": "xuHi21kBTxFT"
      },
      "source": [
        "#验证我们的想法，进行transform操作\r\n",
        "le.transform(label)\r\n",
        "#确认文档，观察是否有初始值的参数可以设定,然而似乎没有\r\n",
        "#其实观察这些过程，实现方式也不过是apply对每列的操作"
      ],
      "execution_count": null,
      "outputs": []
    },
    {
      "cell_type": "code",
      "metadata": {
        "id": "ommLd-8ubcql"
      },
      "source": [
        "data.info()"
      ],
      "execution_count": null,
      "outputs": []
    },
    {
      "cell_type": "code",
      "metadata": {
        "id": "8ezlrK5NcyzS"
      },
      "source": [
        "#注意到此时只有embarked有三个缺失值，考虑直接删除即可\r\n",
        "data.dropna(inplace=True)"
      ],
      "execution_count": null,
      "outputs": []
    },
    {
      "cell_type": "code",
      "metadata": {
        "colab": {
          "base_uri": "https://localhost:8080/"
        },
        "id": "6u4YzAhOo6QE",
        "outputId": "44912cc1-5bf2-48b6-bf7c-5f753b90f4b6"
      },
      "source": [
        "data.info()"
      ],
      "execution_count": null,
      "outputs": [
        {
          "output_type": "stream",
          "text": [
            "<class 'pandas.core.frame.DataFrame'>\n",
            "Int64Index: 887 entries, 0 to 888\n",
            "Data columns (total 11 columns):\n",
            " #   Column       Non-Null Count  Dtype  \n",
            "---  ------       --------------  -----  \n",
            " 0   PassengerId  887 non-null    float64\n",
            " 1   Survived     887 non-null    float64\n",
            " 2   Pclass       887 non-null    float64\n",
            " 3   Sex          887 non-null    float64\n",
            " 4   Age          887 non-null    float64\n",
            " 5   SibSp        887 non-null    float64\n",
            " 6   Parch        887 non-null    float64\n",
            " 7   Fare         887 non-null    float64\n",
            " 8   Embarked_C   887 non-null    float64\n",
            " 9   Embarked_Q   887 non-null    float64\n",
            " 10  Embarked_C   887 non-null    float64\n",
            "dtypes: float64(11)\n",
            "memory usage: 83.2 KB\n"
          ],
          "name": "stdout"
        }
      ]
    },
    {
      "cell_type": "code",
      "metadata": {
        "id": "NgBeUumTbO5v"
      },
      "source": [
        "#下面对embarked属性进行编码的设置，这时候显然是一个类型变量，而非顺序的变量\r\n",
        "#因此我们应当用onehot的方式进行处理，当然我们可以直接利用pandas的get_dummy，但是既然机器学习的包已经封装好，并且更符合机器学习的术语，我们那样用就好\r\n",
        "#下面演示其使用方法\r\n",
        "from sklearn.preprocessing import OneHotEncoder\r\n",
        "one = OneHotEncoder()\r\n",
        "enc = one.fit(data[\"Embarked\"].values.reshape(-1,1))"
      ],
      "execution_count": null,
      "outputs": []
    },
    {
      "cell_type": "code",
      "metadata": {
        "colab": {
          "base_uri": "https://localhost:8080/"
        },
        "id": "KsNwVjl-b9pd",
        "outputId": "0983a922-53c2-4822-f513-9eb844acb7d8"
      },
      "source": [
        "enc.get_feature_names()\r\n",
        "#这个方法可以查看编码器是如何命名这些哑变量的，也可以自己来调整这些名字，通过columns属性可以全部修改，通过rename方法可以单独修改，以字典作为参数"
      ],
      "execution_count": null,
      "outputs": [
        {
          "output_type": "execute_result",
          "data": {
            "text/plain": [
              "array(['x0_C', 'x0_Q', 'x0_S'], dtype=object)"
            ]
          },
          "metadata": {
            "tags": []
          },
          "execution_count": 199
        }
      ]
    },
    {
      "cell_type": "code",
      "metadata": {
        "id": "pf1yX9zQc-65"
      },
      "source": [
        "#注意transform的结果并不会直接作用到dataframe,仍然需要一定的concat的工作，要注意删除掉原来的变量\r\n",
        "result = enc.transform(data[[\"Embarked\"]]).toarray()"
      ],
      "execution_count": null,
      "outputs": []
    },
    {
      "cell_type": "code",
      "metadata": {
        "id": "hktKii7KdpFt"
      },
      "source": [
        "newdata = pd.concat([data.iloc[:,:-1],pd.DataFrame(result)],axis=1)"
      ],
      "execution_count": null,
      "outputs": []
    },
    {
      "cell_type": "code",
      "metadata": {
        "id": "9GW8os5yfQKZ"
      },
      "source": [
        "#注意列的名字0和1是数字的0和1，同时rename的时候注意指定列参数\r\n",
        "newdata = newdata.rename(columns={0:\"Embarked_C\",1:\"Embarked_Q\",2:\"Embarked_C\"})"
      ],
      "execution_count": null,
      "outputs": []
    },
    {
      "cell_type": "code",
      "metadata": {
        "id": "kdmLpaQheGHT"
      },
      "source": [
        "data = newdata\r\n",
        "data.dropna(inplace=True)"
      ],
      "execution_count": null,
      "outputs": []
    },
    {
      "cell_type": "code",
      "metadata": {
        "colab": {
          "base_uri": "https://localhost:8080/",
          "height": 399
        },
        "id": "xwn1kMJxpK97",
        "outputId": "58fffeea-34f6-4b6f-86f7-84f4d5d5f137"
      },
      "source": [
        "data.isna()"
      ],
      "execution_count": null,
      "outputs": [
        {
          "output_type": "execute_result",
          "data": {
            "text/html": [
              "<div>\n",
              "<style scoped>\n",
              "    .dataframe tbody tr th:only-of-type {\n",
              "        vertical-align: middle;\n",
              "    }\n",
              "\n",
              "    .dataframe tbody tr th {\n",
              "        vertical-align: top;\n",
              "    }\n",
              "\n",
              "    .dataframe thead th {\n",
              "        text-align: right;\n",
              "    }\n",
              "</style>\n",
              "<table border=\"1\" class=\"dataframe\">\n",
              "  <thead>\n",
              "    <tr style=\"text-align: right;\">\n",
              "      <th></th>\n",
              "      <th>PassengerId</th>\n",
              "      <th>Survived</th>\n",
              "      <th>Pclass</th>\n",
              "      <th>Sex</th>\n",
              "      <th>Age</th>\n",
              "      <th>SibSp</th>\n",
              "      <th>Parch</th>\n",
              "      <th>Fare</th>\n",
              "      <th>Embarked_C</th>\n",
              "      <th>Embarked_Q</th>\n",
              "      <th>Embarked_C</th>\n",
              "    </tr>\n",
              "  </thead>\n",
              "  <tbody>\n",
              "    <tr>\n",
              "      <th>0</th>\n",
              "      <td>False</td>\n",
              "      <td>False</td>\n",
              "      <td>False</td>\n",
              "      <td>False</td>\n",
              "      <td>False</td>\n",
              "      <td>False</td>\n",
              "      <td>False</td>\n",
              "      <td>False</td>\n",
              "      <td>False</td>\n",
              "      <td>False</td>\n",
              "      <td>False</td>\n",
              "    </tr>\n",
              "    <tr>\n",
              "      <th>1</th>\n",
              "      <td>False</td>\n",
              "      <td>False</td>\n",
              "      <td>False</td>\n",
              "      <td>False</td>\n",
              "      <td>False</td>\n",
              "      <td>False</td>\n",
              "      <td>False</td>\n",
              "      <td>False</td>\n",
              "      <td>False</td>\n",
              "      <td>False</td>\n",
              "      <td>False</td>\n",
              "    </tr>\n",
              "    <tr>\n",
              "      <th>2</th>\n",
              "      <td>False</td>\n",
              "      <td>False</td>\n",
              "      <td>False</td>\n",
              "      <td>False</td>\n",
              "      <td>False</td>\n",
              "      <td>False</td>\n",
              "      <td>False</td>\n",
              "      <td>False</td>\n",
              "      <td>False</td>\n",
              "      <td>False</td>\n",
              "      <td>False</td>\n",
              "    </tr>\n",
              "    <tr>\n",
              "      <th>3</th>\n",
              "      <td>False</td>\n",
              "      <td>False</td>\n",
              "      <td>False</td>\n",
              "      <td>False</td>\n",
              "      <td>False</td>\n",
              "      <td>False</td>\n",
              "      <td>False</td>\n",
              "      <td>False</td>\n",
              "      <td>False</td>\n",
              "      <td>False</td>\n",
              "      <td>False</td>\n",
              "    </tr>\n",
              "    <tr>\n",
              "      <th>4</th>\n",
              "      <td>False</td>\n",
              "      <td>False</td>\n",
              "      <td>False</td>\n",
              "      <td>False</td>\n",
              "      <td>False</td>\n",
              "      <td>False</td>\n",
              "      <td>False</td>\n",
              "      <td>False</td>\n",
              "      <td>False</td>\n",
              "      <td>False</td>\n",
              "      <td>False</td>\n",
              "    </tr>\n",
              "    <tr>\n",
              "      <th>...</th>\n",
              "      <td>...</td>\n",
              "      <td>...</td>\n",
              "      <td>...</td>\n",
              "      <td>...</td>\n",
              "      <td>...</td>\n",
              "      <td>...</td>\n",
              "      <td>...</td>\n",
              "      <td>...</td>\n",
              "      <td>...</td>\n",
              "      <td>...</td>\n",
              "      <td>...</td>\n",
              "    </tr>\n",
              "    <tr>\n",
              "      <th>884</th>\n",
              "      <td>False</td>\n",
              "      <td>False</td>\n",
              "      <td>False</td>\n",
              "      <td>False</td>\n",
              "      <td>False</td>\n",
              "      <td>False</td>\n",
              "      <td>False</td>\n",
              "      <td>False</td>\n",
              "      <td>False</td>\n",
              "      <td>False</td>\n",
              "      <td>False</td>\n",
              "    </tr>\n",
              "    <tr>\n",
              "      <th>885</th>\n",
              "      <td>False</td>\n",
              "      <td>False</td>\n",
              "      <td>False</td>\n",
              "      <td>False</td>\n",
              "      <td>False</td>\n",
              "      <td>False</td>\n",
              "      <td>False</td>\n",
              "      <td>False</td>\n",
              "      <td>False</td>\n",
              "      <td>False</td>\n",
              "      <td>False</td>\n",
              "    </tr>\n",
              "    <tr>\n",
              "      <th>886</th>\n",
              "      <td>False</td>\n",
              "      <td>False</td>\n",
              "      <td>False</td>\n",
              "      <td>False</td>\n",
              "      <td>False</td>\n",
              "      <td>False</td>\n",
              "      <td>False</td>\n",
              "      <td>False</td>\n",
              "      <td>False</td>\n",
              "      <td>False</td>\n",
              "      <td>False</td>\n",
              "    </tr>\n",
              "    <tr>\n",
              "      <th>887</th>\n",
              "      <td>False</td>\n",
              "      <td>False</td>\n",
              "      <td>False</td>\n",
              "      <td>False</td>\n",
              "      <td>False</td>\n",
              "      <td>False</td>\n",
              "      <td>False</td>\n",
              "      <td>False</td>\n",
              "      <td>False</td>\n",
              "      <td>False</td>\n",
              "      <td>False</td>\n",
              "    </tr>\n",
              "    <tr>\n",
              "      <th>888</th>\n",
              "      <td>False</td>\n",
              "      <td>False</td>\n",
              "      <td>False</td>\n",
              "      <td>False</td>\n",
              "      <td>False</td>\n",
              "      <td>False</td>\n",
              "      <td>False</td>\n",
              "      <td>False</td>\n",
              "      <td>False</td>\n",
              "      <td>False</td>\n",
              "      <td>False</td>\n",
              "    </tr>\n",
              "  </tbody>\n",
              "</table>\n",
              "<p>887 rows × 11 columns</p>\n",
              "</div>"
            ],
            "text/plain": [
              "     PassengerId  Survived  Pclass  ...  Embarked_C  Embarked_Q  Embarked_C\n",
              "0          False     False   False  ...       False       False       False\n",
              "1          False     False   False  ...       False       False       False\n",
              "2          False     False   False  ...       False       False       False\n",
              "3          False     False   False  ...       False       False       False\n",
              "4          False     False   False  ...       False       False       False\n",
              "..           ...       ...     ...  ...         ...         ...         ...\n",
              "884        False     False   False  ...       False       False       False\n",
              "885        False     False   False  ...       False       False       False\n",
              "886        False     False   False  ...       False       False       False\n",
              "887        False     False   False  ...       False       False       False\n",
              "888        False     False   False  ...       False       False       False\n",
              "\n",
              "[887 rows x 11 columns]"
            ]
          },
          "metadata": {
            "tags": []
          },
          "execution_count": 208
        }
      ]
    },
    {
      "cell_type": "markdown",
      "metadata": {
        "id": "S3F1VsR6e_3Y"
      },
      "source": [
        "##提取测试集和训练集"
      ]
    },
    {
      "cell_type": "code",
      "metadata": {
        "id": "7ofnGbY-jtPQ"
      },
      "source": [
        "#在提取训练集和测试集之前，通常为了降低计算量已经增加模型的解释力，我们会进行特征选择的过程\r\n",
        "#由于这里的特征数目不是很多，因此特征选择的工作就省去了，特征选择的过程放在后续的案例中\r\n",
        "#注意训练集和测试集的命名规范\r\n",
        "X = data.iloc[:,data.columns != \"Survived\"]\r\n",
        "y = data.iloc[:,data.columns == \"Survived\"]\r\n"
      ],
      "execution_count": null,
      "outputs": []
    },
    {
      "cell_type": "code",
      "metadata": {
        "id": "ra-jJNHfkcX2"
      },
      "source": [
        "#进行测试集和训练集的分开，当存在许多的超参数时，注意三分的方法\r\n",
        "#交叉验证是机器学习非常重要的验证方式，它可以与网格搜索相结合，注意计算量的区别\r\n",
        "from sklearn.model_selection import train_test_split\r\n",
        "Xtrain,Xtest,Ytrain,Ytest = train_test_split(X,y,test_size=0.3)"
      ],
      "execution_count": null,
      "outputs": []
    },
    {
      "cell_type": "code",
      "metadata": {
        "id": "uGGCXCb7lCYQ"
      },
      "source": [
        "#当进行分离的时候，dataframe和series的索引仍然保留原来的形式，很讨厌，后面可能会出奇怪的错误，建议立即进行回复\r\n",
        "for i in [Xtrain,Xtest,Ytrain,Ytest]:\r\n",
        "  i.set_index = range(i.shape[0])"
      ],
      "execution_count": null,
      "outputs": []
    },
    {
      "cell_type": "code",
      "metadata": {
        "colab": {
          "base_uri": "https://localhost:8080/",
          "height": 194
        },
        "id": "OIU8XTTilfkN",
        "outputId": "e53a0e66-3e2e-4ed7-91ba-f27899416083"
      },
      "source": [
        "Xtrain.head()\r\n",
        "#到此时，所有的数据预处理部分算完成了，当然了，这是一个简单的例子，复杂的预处理部分应当包括特征工程的过程，这些打算放在评分卡的处理上面\r\n",
        "#当然关于气象的预测的预处理相对更加复杂，因为它需要利用一定的爬虫知识和python脚本编写的能力，也可以作为练习的方面"
      ],
      "execution_count": null,
      "outputs": [
        {
          "output_type": "execute_result",
          "data": {
            "text/html": [
              "<div>\n",
              "<style scoped>\n",
              "    .dataframe tbody tr th:only-of-type {\n",
              "        vertical-align: middle;\n",
              "    }\n",
              "\n",
              "    .dataframe tbody tr th {\n",
              "        vertical-align: top;\n",
              "    }\n",
              "\n",
              "    .dataframe thead th {\n",
              "        text-align: right;\n",
              "    }\n",
              "</style>\n",
              "<table border=\"1\" class=\"dataframe\">\n",
              "  <thead>\n",
              "    <tr style=\"text-align: right;\">\n",
              "      <th></th>\n",
              "      <th>PassengerId</th>\n",
              "      <th>Pclass</th>\n",
              "      <th>Sex</th>\n",
              "      <th>Age</th>\n",
              "      <th>SibSp</th>\n",
              "      <th>Parch</th>\n",
              "      <th>Fare</th>\n",
              "      <th>Embarked_C</th>\n",
              "      <th>Embarked_Q</th>\n",
              "      <th>Embarked_C</th>\n",
              "    </tr>\n",
              "  </thead>\n",
              "  <tbody>\n",
              "    <tr>\n",
              "      <th>264</th>\n",
              "      <td>265.0</td>\n",
              "      <td>3.0</td>\n",
              "      <td>0.0</td>\n",
              "      <td>29.699118</td>\n",
              "      <td>0.0</td>\n",
              "      <td>0.0</td>\n",
              "      <td>7.7500</td>\n",
              "      <td>0.0</td>\n",
              "      <td>0.0</td>\n",
              "      <td>1.0</td>\n",
              "    </tr>\n",
              "    <tr>\n",
              "      <th>161</th>\n",
              "      <td>162.0</td>\n",
              "      <td>2.0</td>\n",
              "      <td>0.0</td>\n",
              "      <td>40.000000</td>\n",
              "      <td>0.0</td>\n",
              "      <td>0.0</td>\n",
              "      <td>15.7500</td>\n",
              "      <td>0.0</td>\n",
              "      <td>0.0</td>\n",
              "      <td>1.0</td>\n",
              "    </tr>\n",
              "    <tr>\n",
              "      <th>686</th>\n",
              "      <td>687.0</td>\n",
              "      <td>3.0</td>\n",
              "      <td>1.0</td>\n",
              "      <td>14.000000</td>\n",
              "      <td>4.0</td>\n",
              "      <td>1.0</td>\n",
              "      <td>39.6875</td>\n",
              "      <td>0.0</td>\n",
              "      <td>0.0</td>\n",
              "      <td>1.0</td>\n",
              "    </tr>\n",
              "    <tr>\n",
              "      <th>489</th>\n",
              "      <td>490.0</td>\n",
              "      <td>3.0</td>\n",
              "      <td>1.0</td>\n",
              "      <td>9.000000</td>\n",
              "      <td>1.0</td>\n",
              "      <td>1.0</td>\n",
              "      <td>15.9000</td>\n",
              "      <td>0.0</td>\n",
              "      <td>0.0</td>\n",
              "      <td>1.0</td>\n",
              "    </tr>\n",
              "    <tr>\n",
              "      <th>603</th>\n",
              "      <td>604.0</td>\n",
              "      <td>3.0</td>\n",
              "      <td>1.0</td>\n",
              "      <td>44.000000</td>\n",
              "      <td>0.0</td>\n",
              "      <td>0.0</td>\n",
              "      <td>8.0500</td>\n",
              "      <td>1.0</td>\n",
              "      <td>0.0</td>\n",
              "      <td>0.0</td>\n",
              "    </tr>\n",
              "  </tbody>\n",
              "</table>\n",
              "</div>"
            ],
            "text/plain": [
              "     PassengerId  Pclass  Sex  ...  Embarked_C  Embarked_Q  Embarked_C\n",
              "264        265.0     3.0  0.0  ...         0.0         0.0         1.0\n",
              "161        162.0     2.0  0.0  ...         0.0         0.0         1.0\n",
              "686        687.0     3.0  1.0  ...         0.0         0.0         1.0\n",
              "489        490.0     3.0  1.0  ...         0.0         0.0         1.0\n",
              "603        604.0     3.0  1.0  ...         1.0         0.0         0.0\n",
              "\n",
              "[5 rows x 10 columns]"
            ]
          },
          "metadata": {
            "tags": []
          },
          "execution_count": 212
        }
      ]
    },
    {
      "cell_type": "markdown",
      "metadata": {
        "id": "8kQ0TyudliQA"
      },
      "source": [
        "## 导入模型，进行结果的检验，验证模型的效果"
      ]
    },
    {
      "cell_type": "code",
      "metadata": {
        "id": "cMTNwuVlmdtX"
      },
      "source": [
        "from sklearn.tree import DecisionTreeClassifier"
      ],
      "execution_count": null,
      "outputs": []
    },
    {
      "cell_type": "code",
      "metadata": {
        "id": "yglNTUVLmkho"
      },
      "source": [
        "clf = DecisionTreeClassifier(random_state=100)\r\n",
        "clf = clf.fit(Xtrain,Ytrain)"
      ],
      "execution_count": null,
      "outputs": []
    },
    {
      "cell_type": "code",
      "metadata": {
        "id": "Oo0sQh6PmsQn"
      },
      "source": [
        "#检验模型的效果，调用_score函数，这个函数内部应该是包装着预测加评分方式，可以通过参数指定\r\n",
        "#对于分类结果来说，默认的方式就是精确率\r\n",
        "score_ = clf.score(Xtest,Ytest)"
      ],
      "execution_count": null,
      "outputs": []
    },
    {
      "cell_type": "code",
      "metadata": {
        "id": "dQfznG8FoJNA"
      },
      "source": [
        "#下面进行交叉验证，进行K-fold的检验结果，并且取均值\r\n",
        "score = cross_val_score(clf,X,y,cv=10).mean()"
      ],
      "execution_count": null,
      "outputs": []
    },
    {
      "cell_type": "code",
      "metadata": {
        "colab": {
          "base_uri": "https://localhost:8080/"
        },
        "id": "qf26W3xOpTcM",
        "outputId": "9d467184-b53a-499a-b8aa-099607c9223f"
      },
      "source": [
        "#可以发现准确率集中在75%左右，并不是一个可靠的分类器，于是我们决定通过参数的调整看看能不能有更好的表现\r\n",
        "score"
      ],
      "execution_count": null,
      "outputs": [
        {
          "output_type": "execute_result",
          "data": {
            "text/plain": [
              "0.7430158324821245"
            ]
          },
          "metadata": {
            "tags": []
          },
          "execution_count": 220
        }
      ]
    },
    {
      "cell_type": "code",
      "metadata": {
        "colab": {
          "base_uri": "https://localhost:8080/"
        },
        "id": "ALMotgMFpore",
        "outputId": "d852d32c-d634-43ca-f032-b75d2f403c25"
      },
      "source": [
        "#由于决策树的调整方式主要就是关于过拟合和偏差的情况，下面检验是哪种情况，即检验训练集上的分数,\r\n",
        "score = clf.score(Xtrain,Ytrain)\r\n",
        "_"
      ],
      "execution_count": null,
      "outputs": [
        {
          "output_type": "execute_result",
          "data": {
            "text/plain": [
              "0.7430158324821245"
            ]
          },
          "metadata": {
            "tags": []
          },
          "execution_count": 222
        }
      ]
    },
    {
      "cell_type": "code",
      "metadata": {
        "id": "tIuotnMuqSFh"
      },
      "source": [
        "#通过上面的结果发现，这显然是一个偏差的问题，模型本身的能力太差，我们可以考虑使用随机森林\r\n",
        "from sklearn.ensemble import RandomForestClassifier"
      ],
      "execution_count": null,
      "outputs": []
    },
    {
      "cell_type": "code",
      "metadata": {
        "colab": {
          "base_uri": "https://localhost:8080/"
        },
        "id": "J71ofMsQrKVC",
        "outputId": "4d361d26-a252-4831-d2b9-cc54c73afb79"
      },
      "source": [
        "#调整使用的树的个数为100，后面会对这个超参数进行慢慢地调整\r\n",
        "rfc = RandomForestClassifier(n_estimators=100,random_state=100)\r\n",
        "rfc = rfc.fit(Xtrain,Ytrain)\r\n",
        "#尽管有一个warning的警告，但显然这个training过程可以自己处理，因此就不需要额外的处理了"
      ],
      "execution_count": null,
      "outputs": [
        {
          "output_type": "stream",
          "text": [
            "/usr/local/lib/python3.7/dist-packages/ipykernel_launcher.py:3: DataConversionWarning: A column-vector y was passed when a 1d array was expected. Please change the shape of y to (n_samples,), for example using ravel().\n",
            "  This is separate from the ipykernel package so we can avoid doing imports until\n"
          ],
          "name": "stderr"
        }
      ]
    },
    {
      "cell_type": "code",
      "metadata": {
        "colab": {
          "base_uri": "https://localhost:8080/"
        },
        "id": "fBE-aO5dra-W",
        "outputId": "c6c8e183-0172-4d2f-88e3-cdea7dbcc607"
      },
      "source": [
        "[rfc.score(Xtrain,Ytrain),rfc.score(Xtest,Ytest)]\r\n",
        "#这个结果的准确率达到了100%，这显然的过拟合了，我们自然而然的想到要减少树的个数\r\n",
        "#这里随机森林的结果还不错，也就不必要再选择更高级的模型的了，简单的总是最先尝试了，也许SVM和boosting可以做的更好"
      ],
      "execution_count": null,
      "outputs": [
        {
          "output_type": "execute_result",
          "data": {
            "text/plain": [
              "[1.0, 0.8127340823970037]"
            ]
          },
          "metadata": {
            "tags": []
          },
          "execution_count": 235
        }
      ]
    },
    {
      "cell_type": "markdown",
      "metadata": {
        "id": "6P1yIyazr_jy"
      },
      "source": [
        "## 模型的超参数的调整\r\n"
      ]
    },
    {
      "cell_type": "code",
      "metadata": {
        "id": "cyyBj1xatOco"
      },
      "source": [
        "#下面首先调整随机森林的数目，检验模型的效果，注意图像的拐点这些东西\r\n",
        "scorel = []\r\n",
        "for i in range(0,200,10):\r\n",
        "  rfc = RandomForestClassifier(n_estimators=i+1,n_jobs=-1,random_state=100)\r\n",
        "  score = cross_val_score(rfc,X,y,cv=10).mean()\r\n",
        "  scorel.append(score)\r\n"
      ],
      "execution_count": null,
      "outputs": []
    },
    {
      "cell_type": "code",
      "metadata": {
        "colab": {
          "base_uri": "https://localhost:8080/"
        },
        "id": "oe6Le6dNutOf",
        "outputId": "33be7289-e299-483e-defd-a90353ecc33d"
      },
      "source": [
        "#检查最好的树的个数\r\n",
        "print(max(scorel),scorel.index(max(scorel))*10+1)"
      ],
      "execution_count": null,
      "outputs": [
        {
          "output_type": "stream",
          "text": [
            "0.8117083758937692 21\n"
          ],
          "name": "stdout"
        }
      ]
    },
    {
      "cell_type": "code",
      "metadata": {
        "colab": {
          "base_uri": "https://localhost:8080/",
          "height": 320
        },
        "id": "EuXfAo_huOdg",
        "outputId": "473b19ba-fcf8-488e-fc59-b4fe07e64e8c"
      },
      "source": [
        "#从图像的结果来看，随机森林的结果最好也不过是82%的准确率，我们可以尝试对其参数细细调整，或者换用新的模型\r\n",
        "#这里处于学习的目的，因为随机森林的调参与决策树和XGBoosting都有关系，这里把其过程详细的写下来\r\n",
        "plt.figure(figsize=[20,5])\r\n",
        "plt.plot(range(1,201,10),scorel)\r\n",
        "plt.show()"
      ],
      "execution_count": null,
      "outputs": [
        {
          "output_type": "display_data",
          "data": {
            "image/png": "[encoded data removed]",
            "text/plain": [
              "<Figure size 1440x360 with 1 Axes>"
            ]
          },
          "metadata": {
            "tags": [],
            "needs_background": "light"
          }
        }
      ]
    },
    {
      "cell_type": "code",
      "metadata": {
        "id": "fU8L8MTZvIPV"
      },
      "source": [
        "##刚才的过程这的搜索间距是10，这里我们可以细化搜索的范围，从而得到更好的效果\r\n",
        "##从图像来安，结果应该在21的左右10个单位的方向搜索，因为后面的10单位间距基本已经比较过了\r\n",
        "score1 = []\r\n",
        "for i in range(10,31):\r\n",
        "  rfc = RandomForestClassifier(n_estimators=i,n_jobs=-1,random_state=100)\r\n",
        "  score = cross_val_score(rfc,X,y,cv=10).mean()\r\n",
        "  score1.append(score)"
      ],
      "execution_count": null,
      "outputs": []
    },
    {
      "cell_type": "code",
      "metadata": {
        "colab": {
          "base_uri": "https://localhost:8080/"
        },
        "id": "D9GyRpOZxdUH",
        "outputId": "6408c619-8bb6-46db-f733-4bfb63e81492"
      },
      "source": [
        "len(score1)"
      ],
      "execution_count": null,
      "outputs": [
        {
          "output_type": "execute_result",
          "data": {
            "text/plain": [
              "21"
            ]
          },
          "metadata": {
            "tags": []
          },
          "execution_count": 252
        }
      ]
    },
    {
      "cell_type": "code",
      "metadata": {
        "colab": {
          "base_uri": "https://localhost:8080/"
        },
        "id": "iYsJyJg6wZ3N",
        "outputId": "395cf4c8-9c17-488c-b11b-f590d51cae8b"
      },
      "source": [
        "#检查最好的树的个数\r\n",
        "print(max(score1),score1.index(max(score1)))"
      ],
      "execution_count": null,
      "outputs": [
        {
          "output_type": "stream",
          "text": [
            "0.8150791624106232 17\n"
          ],
          "name": "stdout"
        }
      ]
    },
    {
      "cell_type": "code",
      "metadata": {
        "id": "08tmqz6dwyBd"
      },
      "source": [
        "#从上面的结果的话，我们得到了最好的树的个数，它可以作为后续的过程的基本参数，可以发现调整树的个数的最好的结果不过如此了\r\n",
        "#下面准备调整max_depth参数，对于这些效果较为确定的参数我们可以通过细化学习曲线慢慢地调整,但是就是很麻烦，我们可以利用网格搜索的一维化直接调整\r\n",
        "param_grid = {\"max_depth\":np.arange(1,20,1)}\r\n",
        "rfc = RandomForestClassifier(n_estimators=17,random_state=100)\r\n",
        "GS = GridSearchCV(rfc,param_grid=param_grid,cv=10)\r\n",
        "GS.fit(X,y)"
      ],
      "execution_count": null,
      "outputs": []
    },
    {
      "cell_type": "code",
      "metadata": {
        "colab": {
          "base_uri": "https://localhost:8080/"
        },
        "id": "RqFnAw3szNw1",
        "outputId": "a65b90cd-1edc-44b8-dcb8-1dd2e5151d6c"
      },
      "source": [
        "GS.best_params_"
      ],
      "execution_count": null,
      "outputs": [
        {
          "output_type": "execute_result",
          "data": {
            "text/plain": [
              "{'max_depth': 9}"
            ]
          },
          "metadata": {
            "tags": []
          },
          "execution_count": 255
        }
      ]
    },
    {
      "cell_type": "code",
      "metadata": {
        "colab": {
          "base_uri": "https://localhost:8080/"
        },
        "id": "9JLrwjjPz5ac",
        "outputId": "53710b87-f46e-4514-c092-781d1f549999"
      },
      "source": [
        "GS.best_score_"
      ],
      "execution_count": null,
      "outputs": [
        {
          "output_type": "execute_result",
          "data": {
            "text/plain": [
              "0.8263917262512768"
            ]
          },
          "metadata": {
            "tags": []
          },
          "execution_count": 256
        }
      ]
    },
    {
      "cell_type": "code",
      "metadata": {
        "colab": {
          "base_uri": "https://localhost:8080/"
        },
        "id": "JmUetmDFz6yb",
        "outputId": "a390da3a-2337-4214-b9fb-9a689ebc4322"
      },
      "source": [
        "#后面的参数还可以一个一个调整，这里就不再赘述了\r\n",
        "#利用最开始的方法，粗略地检查了一下GS在test上的正确率，达到了94%的结果，比最开始的结果提高了很多\r\n",
        "GS.score(Xtest,Ytest)"
      ],
      "execution_count": null,
      "outputs": [
        {
          "output_type": "execute_result",
          "data": {
            "text/plain": [
              "0.9400749063670412"
            ]
          },
          "metadata": {
            "tags": []
          },
          "execution_count": 261
        }
      ]
    },
    {
      "cell_type": "code",
      "metadata": {
        "id": "F0ZrwQxs4Imt"
      },
      "source": [
        "#最后再进行一次cross_val_score的检验，确定模型的效果\r\n",
        "rfc = RandomForestClassifier(n_estimators=17,max_depth=9,random_state=100)"
      ],
      "execution_count": null,
      "outputs": []
    },
    {
      "cell_type": "code",
      "metadata": {
        "colab": {
          "base_uri": "https://localhost:8080/"
        },
        "id": "lSeIsSLi5QRT",
        "outputId": "f2f1119f-1d15-486c-dd60-329ef9406f36"
      },
      "source": [
        "#发现结果达到了94%，是还不错的结果，模型可以固定了。\r\n",
        "score =  cross_val_score(rfc,X,y,cv=10).mean()\r\n"
      ],
      "execution_count": null,
      "outputs": [
        {
          "output_type": "stream",
          "text": [
            "/usr/local/lib/python3.7/dist-packages/sklearn/model_selection/_validation.py:515: DataConversionWarning: A column-vector y was passed when a 1d array was expected. Please change the shape of y to (n_samples,), for example using ravel().\n",
            "  estimator.fit(X_train, y_train, **fit_params)\n",
            "/usr/local/lib/python3.7/dist-packages/sklearn/model_selection/_validation.py:515: DataConversionWarning: A column-vector y was passed when a 1d array was expected. Please change the shape of y to (n_samples,), for example using ravel().\n",
            "  estimator.fit(X_train, y_train, **fit_params)\n",
            "/usr/local/lib/python3.7/dist-packages/sklearn/model_selection/_validation.py:515: DataConversionWarning: A column-vector y was passed when a 1d array was expected. Please change the shape of y to (n_samples,), for example using ravel().\n",
            "  estimator.fit(X_train, y_train, **fit_params)\n",
            "/usr/local/lib/python3.7/dist-packages/sklearn/model_selection/_validation.py:515: DataConversionWarning: A column-vector y was passed when a 1d array was expected. Please change the shape of y to (n_samples,), for example using ravel().\n",
            "  estimator.fit(X_train, y_train, **fit_params)\n",
            "/usr/local/lib/python3.7/dist-packages/sklearn/model_selection/_validation.py:515: DataConversionWarning: A column-vector y was passed when a 1d array was expected. Please change the shape of y to (n_samples,), for example using ravel().\n",
            "  estimator.fit(X_train, y_train, **fit_params)\n",
            "/usr/local/lib/python3.7/dist-packages/sklearn/model_selection/_validation.py:515: DataConversionWarning: A column-vector y was passed when a 1d array was expected. Please change the shape of y to (n_samples,), for example using ravel().\n",
            "  estimator.fit(X_train, y_train, **fit_params)\n",
            "/usr/local/lib/python3.7/dist-packages/sklearn/model_selection/_validation.py:515: DataConversionWarning: A column-vector y was passed when a 1d array was expected. Please change the shape of y to (n_samples,), for example using ravel().\n",
            "  estimator.fit(X_train, y_train, **fit_params)\n",
            "/usr/local/lib/python3.7/dist-packages/sklearn/model_selection/_validation.py:515: DataConversionWarning: A column-vector y was passed when a 1d array was expected. Please change the shape of y to (n_samples,), for example using ravel().\n",
            "  estimator.fit(X_train, y_train, **fit_params)\n",
            "/usr/local/lib/python3.7/dist-packages/sklearn/model_selection/_validation.py:515: DataConversionWarning: A column-vector y was passed when a 1d array was expected. Please change the shape of y to (n_samples,), for example using ravel().\n",
            "  estimator.fit(X_train, y_train, **fit_params)\n",
            "/usr/local/lib/python3.7/dist-packages/sklearn/model_selection/_validation.py:515: DataConversionWarning: A column-vector y was passed when a 1d array was expected. Please change the shape of y to (n_samples,), for example using ravel().\n",
            "  estimator.fit(X_train, y_train, **fit_params)\n"
          ],
          "name": "stderr"
        },
        {
          "output_type": "execute_result",
          "data": {
            "text/plain": [
              "0.9400749063670412"
            ]
          },
          "metadata": {
            "tags": []
          },
          "execution_count": 263
        }
      ]
    },
    {
      "cell_type": "code",
      "metadata": {
        "id": "VSjPGban5Wa9"
      },
      "source": [
        ""
      ],
      "execution_count": null,
      "outputs": []
    }
  ]
}