{
  "nbformat": 4,
  "nbformat_minor": 0,
  "metadata": {
    "colab": {
      "name": "XGBoosting.ipynb",
      "provenance": [],
      "toc_visible": true,
      "authorship_tag": "ABX9TyO4R+lQumyooCUCLb1vo/Ar",
      "include_colab_link": true
    },
    "kernelspec": {
      "name": "python3",
      "display_name": "Python 3"
    }
  },
  "cells": [
    {
      "cell_type": "markdown",
      "metadata": {
        "id": "view-in-github",
        "colab_type": "text"
      },
      "source": [
        "<a href=\"https://colab.research.google.com/github/13693763686/data-analysis/blob/master/scikit-learn%20notebooks/XGBoosting.ipynb\" target=\"_parent\"><img src=\"https://colab.research.google.com/assets/colab-badge.svg\" alt=\"Open In Colab\"/></a>"
      ]
    },
    {
      "cell_type": "markdown",
      "metadata": {
        "id": "cwGIn6eh1mZ8"
      },
      "source": [
        "#Boosting算法"
      ]
    },
    {
      "cell_type": "code",
      "metadata": {
        "id": "Yjrwlm6F1snf"
      },
      "source": [
        "#集成算法的效果十分十分的强，在数据竞赛中能取得非常好的效果\r\n",
        "#当然集成学习和深度学习擅长的问题不太，在计算机视觉上，显然深度学习是主流，自然语言也是同样\r\n",
        "#深度学习在工业上的实践感觉很多，但是boosting更多的是在数据竞赛中吧\r\n",
        "#集成算法的数学推导过程不在此笔记本中记录\r\n",
        "#下面主要展示原理在机器学习中的应用过程"
      ],
      "execution_count": 1,
      "outputs": []
    },
    {
      "cell_type": "markdown",
      "metadata": {
        "id": "2ULgMUnN2QCX"
      },
      "source": [
        "##导入需要的库"
      ]
    },
    {
      "cell_type": "code",
      "metadata": {
        "id": "KNIeGtyo2THc"
      },
      "source": [
        "#注意boosting的xgboost具有两种包，可以在sklearn中，也可以直接引用对应的包\r\n",
        "from xgboost import XGBRegressor as XGBR\r\n",
        "from sklearn.ensemble import RandomForestRegressor as RFR\r\n",
        "from sklearn.linear_model import LinearRegression as LinearR\r\n",
        "from sklearn.datasets import load_boston\r\n",
        "from sklearn.model_selection import KFold, cross_val_score as CVS, train_test_split as TTS\r\n",
        "from sklearn.metrics import mean_squared_error as MSE\r\n",
        "import pandas as pd\r\n",
        "import numpy as np\r\n",
        "import matplotlib.pyplot as plt\r\n",
        "from time import time\r\n",
        "import datetime"
      ],
      "execution_count": 2,
      "outputs": []
    },
    {
      "cell_type": "markdown",
      "metadata": {
        "id": "DRot7qjj2fJ8"
      },
      "source": [
        "##导入数据"
      ]
    },
    {
      "cell_type": "code",
      "metadata": {
        "colab": {
          "base_uri": "https://localhost:8080/"
        },
        "id": "2--qZego2k3-",
        "outputId": "0ae75b44-23ec-4da8-a262-2865c315e8f5"
      },
      "source": [
        "#获取数据，分离数据和标签\r\n",
        "data = load_boston()\r\n",
        "X = data.data\r\n",
        "y = data.target\r\n",
        "Xtrain,Xtest,Ytrain,Ytest = TTS(X,y,test_size=0.3,random_state=420)\r\n",
        "reg = XGBR(n_estimators=100).fit(Xtrain,Ytrain) #训练\r\n",
        "reg.score(Xtest,Ytest) #你能想出这里应该返回什么模型评估指标么？利用shift+Tab可以知道，R^2评估指标"
      ],
      "execution_count": 4,
      "outputs": [
        {
          "output_type": "stream",
          "text": [
            "[12:00:09] WARNING: /workspace/src/objective/regression_obj.cu:152: reg:linear is now deprecated in favor of reg:squarederror.\n"
          ],
          "name": "stdout"
        },
        {
          "output_type": "execute_result",
          "data": {
            "text/plain": [
              "0.9197580267581366"
            ]
          },
          "metadata": {
            "tags": []
          },
          "execution_count": 4
        }
      ]
    },
    {
      "cell_type": "code",
      "metadata": {
        "colab": {
          "base_uri": "https://localhost:8080/"
        },
        "id": "Q8XIHUZs2-HY",
        "outputId": "e3f32533-a45b-426d-fc51-2d76b2f1b9c1"
      },
      "source": [
        "#交叉验证\r\n",
        "reg = XGBR(n_estimators=100) #交叉验证中导入的没有经过训练的模型\r\n",
        "CVS(reg,Xtrain,Ytrain,cv=5).mean()"
      ],
      "execution_count": 5,
      "outputs": [
        {
          "output_type": "stream",
          "text": [
            "[12:02:03] WARNING: /workspace/src/objective/regression_obj.cu:152: reg:linear is now deprecated in favor of reg:squarederror.\n",
            "[12:02:03] WARNING: /workspace/src/objective/regression_obj.cu:152: reg:linear is now deprecated in favor of reg:squarederror.\n",
            "[12:02:03] WARNING: /workspace/src/objective/regression_obj.cu:152: reg:linear is now deprecated in favor of reg:squarederror.\n",
            "[12:02:03] WARNING: /workspace/src/objective/regression_obj.cu:152: reg:linear is now deprecated in favor of reg:squarederror.\n",
            "[12:02:03] WARNING: /workspace/src/objective/regression_obj.cu:152: reg:linear is now deprecated in favor of reg:squarederror.\n"
          ],
          "name": "stdout"
        },
        {
          "output_type": "execute_result",
          "data": {
            "text/plain": [
              "0.8017863029875325"
            ]
          },
          "metadata": {
            "tags": []
          },
          "execution_count": 5
        }
      ]
    },
    {
      "cell_type": "code",
      "metadata": {
        "id": "ilq7F95H3Z2T"
      },
      "source": [
        "#观察xgboost的学习曲线\r\n",
        "def plot_learning_curve(estimator,title, X, y, \r\n",
        "                        ax=None, #选择子图\r\n",
        "                        ylim=None, #设置纵坐标的取值范围\r\n",
        "                        cv=None, #交叉验证\r\n",
        "                        n_jobs=None #设定索要使用的线程\r\n",
        "                       ):\r\n",
        "    \r\n",
        "    from sklearn.model_selection import learning_curve\r\n",
        "    import matplotlib.pyplot as plt\r\n",
        "    import numpy as np\r\n",
        "    \r\n",
        "    train_sizes, train_scores, test_scores = learning_curve(estimator, X, y\r\n",
        "                                  ,shuffle=True\r\n",
        "                                  ,cv=cv\r\n",
        "                                  ,random_state=420\r\n",
        "                                  ,n_jobs=n_jobs)      \r\n",
        "    if ax == None:\r\n",
        "        ax = plt.gca()\r\n",
        "    else:\r\n",
        "        ax = plt.figure()\r\n",
        "    ax.set_title(title)\r\n",
        "    if ylim is not None:\r\n",
        "        ax.set_ylim(*ylim)\r\n",
        "    ax.set_xlabel(\"Training examples\")\r\n",
        "    ax.set_ylabel(\"Score\")\r\n",
        "    ax.grid() #绘制网格，不是必须\r\n",
        "    ax.plot(train_sizes, np.mean(train_scores, axis=1), 'o-'\r\n",
        "            , color=\"r\",label=\"Training score\")\r\n",
        "    ax.plot(train_sizes, np.mean(test_scores, axis=1), 'o-'\r\n",
        "            , color=\"g\",label=\"Test score\")\r\n",
        "    ax.legend(loc=\"best\")\r\n",
        "    return ax"
      ],
      "execution_count": 13,
      "outputs": []
    },
    {
      "cell_type": "code",
      "metadata": {
        "id": "Y2wK_1a23fVK"
      },
      "source": [
        "cv = KFold(n_splits=5, shuffle = True, random_state=42) #交叉验证模式"
      ],
      "execution_count": 14,
      "outputs": []
    },
    {
      "cell_type": "code",
      "metadata": {
        "id": "MmtyFqwW5N9t"
      },
      "source": [
        "plot_learning_curve(XGBR(n_estimators=100,random_state=420),\"XGB\",Xtrain,Ytrain,ax=None,cv=cv)\r\n",
        "plt.show()"
      ],
      "execution_count": null,
      "outputs": []
    },
    {
      "cell_type": "code",
      "metadata": {
        "id": "2qp18d7A6NJM"
      },
      "source": [
        "#一直报warning非常讨厌，把它给去掉\r\n",
        "import warnings\r\n",
        "warnings.filterwarnings('ignore')"
      ],
      "execution_count": 38,
      "outputs": []
    },
    {
      "cell_type": "markdown",
      "metadata": {
        "id": "VlZ1qMwiDLoF"
      },
      "source": [
        "##参数探索"
      ]
    },
    {
      "cell_type": "code",
      "metadata": {
        "id": "hUFnz47j5O-q"
      },
      "source": [
        "#探索最优的n_estimators\r\n",
        "axisx = range(10,1010,50)\r\n",
        "rs = []\r\n",
        "for i in axisx:\r\n",
        "    reg = XGBR(n_estimators=i,random_state=420)\r\n",
        "    rs.append(CVS(reg,Xtrain,Ytrain,cv=cv).mean())\r\n",
        "print(axisx[rs.index(max(rs))],max(rs))\r\n",
        "plt.figure(figsize=(20,5))\r\n",
        "plt.plot(axisx,rs,c=\"red\",label=\"XGB\")\r\n",
        "plt.legend()\r\n",
        "plt.show()\r\n",
        "#观察到在大约150-200的位置的时候，模型的训练误差已经不再变化了，因此比较好的方法是在这个范围内细化再寻找"
      ],
      "execution_count": null,
      "outputs": []
    },
    {
      "cell_type": "code",
      "metadata": {
        "colab": {
          "base_uri": "https://localhost:8080/",
          "height": 818
        },
        "id": "9yrAzVsS52z5",
        "outputId": "9e9c773d-d22e-4fd2-b6e6-b78aa748a223"
      },
      "source": [
        "#通过找出方差和偏差的方式来代表偏差和方差\r\n",
        "axisx = range(50,300,50)\r\n",
        "rs = []\r\n",
        "var = []\r\n",
        "ge = []\r\n",
        "for i in axisx:\r\n",
        "    reg = XGBR(n_estimators=i,random_state=420)\r\n",
        "    cvresult = CVS(reg,Xtrain,Ytrain,cv=cv)\r\n",
        "    #记录1-偏差\r\n",
        "    rs.append(cvresult.mean())\r\n",
        "    #记录方差\r\n",
        "    var.append(cvresult.var())\r\n",
        "    #计算泛化误差的可控部分\r\n",
        "    #注意误差的分解包括偏差，方差和噪音\r\n",
        "    ge.append((1 - cvresult.mean())**2+cvresult.var())\r\n",
        "#打印R2最高所对应的参数取值，并打印这个参数下的方差\r\n",
        "print(axisx[rs.index(max(rs))],max(rs),var[rs.index(max(rs))])\r\n",
        "#打印方差最低时对应的参数取值，并打印这个参数下的R2\r\n",
        "print(axisx[var.index(min(var))],rs[var.index(min(var))],min(var))\r\n",
        "#打印泛化误差可控部分的参数取值，并打印这个参数下的R2，方差以及泛化误差的可控部分\r\n",
        "print(axisx[ge.index(min(ge))],rs[ge.index(min(ge))],var[ge.index(min(ge))],min(ge))\r\n",
        "plt.figure(figsize=(20,5))\r\n",
        "plt.plot(axisx,rs,c=\"red\",label=\"XGB\")\r\n",
        "plt.legend()\r\n",
        "plt.show()"
      ],
      "execution_count": 24,
      "outputs": [
        {
          "output_type": "stream",
          "text": [
            "[12:21:19] WARNING: /workspace/src/objective/regression_obj.cu:152: reg:linear is now deprecated in favor of reg:squarederror.\n",
            "[12:21:19] WARNING: /workspace/src/objective/regression_obj.cu:152: reg:linear is now deprecated in favor of reg:squarederror.\n",
            "[12:21:19] WARNING: /workspace/src/objective/regression_obj.cu:152: reg:linear is now deprecated in favor of reg:squarederror.\n",
            "[12:21:19] WARNING: /workspace/src/objective/regression_obj.cu:152: reg:linear is now deprecated in favor of reg:squarederror.\n",
            "[12:21:19] WARNING: /workspace/src/objective/regression_obj.cu:152: reg:linear is now deprecated in favor of reg:squarederror.\n",
            "[12:21:19] WARNING: /workspace/src/objective/regression_obj.cu:152: reg:linear is now deprecated in favor of reg:squarederror.\n",
            "[12:21:19] WARNING: /workspace/src/objective/regression_obj.cu:152: reg:linear is now deprecated in favor of reg:squarederror.\n",
            "[12:21:19] WARNING: /workspace/src/objective/regression_obj.cu:152: reg:linear is now deprecated in favor of reg:squarederror.\n",
            "[12:21:19] WARNING: /workspace/src/objective/regression_obj.cu:152: reg:linear is now deprecated in favor of reg:squarederror.\n",
            "[12:21:19] WARNING: /workspace/src/objective/regression_obj.cu:152: reg:linear is now deprecated in favor of reg:squarederror.\n",
            "[12:21:19] WARNING: /workspace/src/objective/regression_obj.cu:152: reg:linear is now deprecated in favor of reg:squarederror.\n",
            "[12:21:19] WARNING: /workspace/src/objective/regression_obj.cu:152: reg:linear is now deprecated in favor of reg:squarederror.\n",
            "[12:21:20] WARNING: /workspace/src/objective/regression_obj.cu:152: reg:linear is now deprecated in favor of reg:squarederror.\n",
            "[12:21:20] WARNING: /workspace/src/objective/regression_obj.cu:152: reg:linear is now deprecated in favor of reg:squarederror.\n",
            "[12:21:20] WARNING: /workspace/src/objective/regression_obj.cu:152: reg:linear is now deprecated in favor of reg:squarederror.\n",
            "[12:21:20] WARNING: /workspace/src/objective/regression_obj.cu:152: reg:linear is now deprecated in favor of reg:squarederror.\n",
            "[12:21:20] WARNING: /workspace/src/objective/regression_obj.cu:152: reg:linear is now deprecated in favor of reg:squarederror.\n",
            "[12:21:20] WARNING: /workspace/src/objective/regression_obj.cu:152: reg:linear is now deprecated in favor of reg:squarederror.\n",
            "[12:21:20] WARNING: /workspace/src/objective/regression_obj.cu:152: reg:linear is now deprecated in favor of reg:squarederror.\n",
            "[12:21:20] WARNING: /workspace/src/objective/regression_obj.cu:152: reg:linear is now deprecated in favor of reg:squarederror.\n",
            "[12:21:20] WARNING: /workspace/src/objective/regression_obj.cu:152: reg:linear is now deprecated in favor of reg:squarederror.\n",
            "[12:21:20] WARNING: /workspace/src/objective/regression_obj.cu:152: reg:linear is now deprecated in favor of reg:squarederror.\n",
            "[12:21:20] WARNING: /workspace/src/objective/regression_obj.cu:152: reg:linear is now deprecated in favor of reg:squarederror.\n",
            "[12:21:20] WARNING: /workspace/src/objective/regression_obj.cu:152: reg:linear is now deprecated in favor of reg:squarederror.\n",
            "[12:21:20] WARNING: /workspace/src/objective/regression_obj.cu:152: reg:linear is now deprecated in favor of reg:squarederror.\n",
            "150 0.8032842414878519 0.009747694343514357\n",
            "50 0.7857724708830981 0.009072727885598212\n",
            "150 0.8032842414878519 0.009747694343514357 0.04844478399052411\n"
          ],
          "name": "stdout"
        },
        {
          "output_type": "display_data",
          "data": {
            "image/png": "[encoded data removed]",
            "text/plain": [
              "<Figure size 1440x360 with 1 Axes>"
            ]
          },
          "metadata": {
            "tags": [],
            "needs_background": "light"
          }
        }
      ]
    },
    {
      "cell_type": "code",
      "metadata": {
        "id": "rolx1Ttm7R-6"
      },
      "source": [
        "#对上面的过程细化，减少间隔，发掘潜力\r\n",
        "#图像重合的地方且线较高的地方是比较好的地方\r\n",
        "axisx = range(100,300,10)\r\n",
        "rs = []\r\n",
        "var = []\r\n",
        "ge = []\r\n",
        "for i in axisx:\r\n",
        "    reg = XGBR(n_estimators=i,random_state=420)\r\n",
        "    cvresult = CVS(reg,Xtrain,Ytrain,cv=cv)\r\n",
        "    rs.append(cvresult.mean())\r\n",
        "    var.append(cvresult.var())\r\n",
        "    ge.append((1 - cvresult.mean())**2+cvresult.var())\r\n",
        "print(axisx[rs.index(max(rs))],max(rs),var[rs.index(max(rs))])\r\n",
        "print(axisx[var.index(min(var))],rs[var.index(min(var))],min(var))\r\n",
        "print(axisx[ge.index(min(ge))],rs[ge.index(min(ge))],var[ge.index(min(ge))],min(ge))\r\n",
        "rs = np.array(rs)\r\n",
        "var = np.array(var)*0.01\r\n",
        "plt.figure(figsize=(20,5))\r\n",
        "plt.plot(axisx,rs,c=\"black\",label=\"XGB\")\r\n",
        "#添加方差线\r\n",
        "plt.plot(axisx,rs+var,c=\"red\",linestyle='-.')\r\n",
        "plt.plot(axisx,rs-var,c=\"red\",linestyle='-.')\r\n",
        "plt.legend()\r\n",
        "plt.show()\r\n",
        "#观察下面的输出，发现偏差和方差最小的地方都是在180的地方，因此180是一个比较好的参数\r\n",
        "#这样，我们第一个很重要的参数，树的数目就选择好了"
      ],
      "execution_count": null,
      "outputs": []
    },
    {
      "cell_type": "code",
      "metadata": {
        "id": "rBLYdEtc90Hs"
      },
      "source": [
        "#下面探究另一个参数subsample，指每次随机抽样的个数\r\n",
        "#ensemble集成学习的重点在于不同的弱分类器的集合，因此这里面我们看到的就是要求不同的分类器\r\n",
        "#不同的分类器可以通过不同的算法，不同的样本，这时候我们就采用bootstrap\r\n",
        "#但是既然是boosting，我们还要控制出错的样本被抽到的可能性，这个可以有严格的公式，把相对权重转换成抽样概率\r\n",
        "#我们可以指定subsample控制每次抽样的比例，下面来调整这个参数"
      ],
      "execution_count": 25,
      "outputs": []
    },
    {
      "cell_type": "code",
      "metadata": {
        "id": "FmF1Gony_UGZ"
      },
      "source": [
        "#首先仍然是粗略的观察\r\n",
        "axisx = np.linspace(0,1,20)\r\n",
        "rs = []\r\n",
        "for i in axisx:\r\n",
        "    reg = XGBR(n_estimators=180,subsample=i,random_state=420)\r\n",
        "    rs.append(CVS(reg,Xtrain,Ytrain,cv=cv).mean())\r\n",
        "print(axisx[rs.index(max(rs))],max(rs))\r\n",
        "plt.figure(figsize=(20,5))\r\n",
        "plt.plot(axisx,rs,c=\"green\",label=\"XGB\")\r\n",
        "plt.legend()\r\n",
        "plt.show()"
      ],
      "execution_count": null,
      "outputs": []
    },
    {
      "cell_type": "code",
      "metadata": {
        "id": "nLyTuriX_ZwY"
      },
      "source": [
        "#由图像可以发现，效果大约在0.05左右的时候就已经达到最高峰\r\n",
        "#下面来调整参数"
      ],
      "execution_count": 28,
      "outputs": []
    },
    {
      "cell_type": "code",
      "metadata": {
        "id": "j7NC2MLn_pOc"
      },
      "source": [
        "#继续细化学习曲线\r\n",
        "axisx = np.linspace(0.05,1,20)\r\n",
        "rs = []\r\n",
        "var = []\r\n",
        "ge = []\r\n",
        "for i in axisx:\r\n",
        "    reg = XGBR(n_estimators=180,subsample=i,random_state=420)\r\n",
        "    cvresult = CVS(reg,Xtrain,Ytrain,cv=cv)\r\n",
        "    rs.append(cvresult.mean())\r\n",
        "    var.append(cvresult.var())\r\n",
        "    ge.append((1 - cvresult.mean())**2+cvresult.var())\r\n",
        "print(axisx[rs.index(max(rs))],max(rs),var[rs.index(max(rs))])\r\n",
        "print(axisx[var.index(min(var))],rs[var.index(min(var))],min(var))\r\n",
        "print(axisx[ge.index(min(ge))],rs[ge.index(min(ge))],var[ge.index(min(ge))],min(ge))\r\n",
        "rs = np.array(rs)\r\n",
        "var = np.array(var)\r\n",
        "plt.figure(figsize=(20,5))\r\n",
        "plt.plot(axisx,rs,c=\"black\",label=\"XGB\")\r\n",
        "plt.plot(axisx,rs+var,c=\"red\",linestyle='-.')\r\n",
        "plt.plot(axisx,rs-var,c=\"red\",linestyle='-.')\r\n",
        "plt.legend()\r\n",
        "plt.show()"
      ],
      "execution_count": null,
      "outputs": []
    },
    {
      "cell_type": "code",
      "metadata": {
        "id": "uuqb7H02_-W1"
      },
      "source": [
        "#这一次可以看到大约在0.8的时候，值达到高峰，且中间的值比较波动\r\n",
        "#因此我们可以发现subsampling这个值的调整很微妙，规律不太容易寻找\r\n",
        "#因此调整的时候可以不要太在意，满意原则即可，这里我觉得大概是0.8左右"
      ],
      "execution_count": 30,
      "outputs": []
    },
    {
      "cell_type": "code",
      "metadata": {
        "colab": {
          "base_uri": "https://localhost:8080/"
        },
        "id": "hX3EEMfSAgBh",
        "outputId": "9513787a-bd43-427f-ebe1-896cde21688b"
      },
      "source": [
        "reg = XGBR(n_estimators=180\r\n",
        "      ,subsample=0.8\r\n",
        "      ,random_state=420).fit(Xtrain,Ytrain)\r\n",
        "reg.score(Xtest,Ytest)"
      ],
      "execution_count": 31,
      "outputs": [
        {
          "output_type": "stream",
          "text": [
            "[12:42:14] WARNING: /workspace/src/objective/regression_obj.cu:152: reg:linear is now deprecated in favor of reg:squarederror.\n"
          ],
          "name": "stdout"
        },
        {
          "output_type": "execute_result",
          "data": {
            "text/plain": [
              "0.922624813518896"
            ]
          },
          "metadata": {
            "tags": []
          },
          "execution_count": 31
        }
      ]
    },
    {
      "cell_type": "code",
      "metadata": {
        "id": "jjpsHL2tAlw_"
      },
      "source": [
        "#结果来看其实提升并没有多大，在没有调整subsampling的时候，我们的分数也差不多如此"
      ],
      "execution_count": 32,
      "outputs": []
    },
    {
      "cell_type": "code",
      "metadata": {
        "id": "dKPfesWrAt6E"
      },
      "source": [
        "#为了便于后续的模型比较\r\n",
        "#我们先来定义一个评分函数，这个评分函数能够帮助我们直接打印Xtrain上的交叉验证结果\r\n",
        "def regassess(reg,Xtrain,Ytrain,cv,scoring = [\"r2\"],show=True):\r\n",
        "    score = []\r\n",
        "    for i in range(len(scoring)):\r\n",
        "        temp_score = CVS(reg,Xtrain,Ytrain,cv=cv,scoring=scoring[i]).mean()\r\n",
        "        if show:\r\n",
        "            print(\"{}:{:.2f}\".format(scoring[i],temp_score))\r\n",
        "        score.append(temp_score)\r\n",
        "    return score"
      ],
      "execution_count": 35,
      "outputs": []
    },
    {
      "cell_type": "code",
      "metadata": {
        "id": "pcjJNN5vBfeZ"
      },
      "source": [
        "#下面来探索学习率alpha参数的调整\r\n",
        "#梯度下降法的alpha和这里差不多的概念，因为boosting本身也是一个梯度方法，尽管是一个函数梯度，这个地方的方向可以增加学习率\r\n",
        "#注意观察学习率为0的时候的结果，相当于我们没有集成任何的后续的树\r\n",
        "from time import time\r\n",
        "import datetime\r\n",
        "\r\n",
        "for i in [0,0.2,0.5,1]:\r\n",
        "    time0=time()\r\n",
        "    reg = XGBR(n_estimators=180,random_state=420,learning_rate=i)\r\n",
        "    print(\"learning_rate = {}\".format(i))\r\n",
        "    regassess(reg,Xtrain,Ytrain,cv,scoring = [\"r2\",\"neg_mean_squared_error\"])\r\n",
        "    print(datetime.datetime.fromtimestamp(time()-time0).strftime(\"%M:%S:%f\"))"
      ],
      "execution_count": null,
      "outputs": []
    },
    {
      "cell_type": "code",
      "metadata": {
        "id": "jL-YWKnRCWNh"
      },
      "source": [
        "#观察不同学习率下的效果\r\n",
        "axisx = np.arange(0.05,1,0.05)\r\n",
        "rs = []\r\n",
        "te = []\r\n",
        "for i in axisx:\r\n",
        "    reg = XGBR(n_estimators=180,random_state=420,learning_rate=i)\r\n",
        "    score = regassess(reg,Xtrain,Ytrain,cv,scoring = [\"r2\",\"neg_mean_squared_error\"],show=False)\r\n",
        "    test = reg.fit(Xtrain,Ytrain).score(Xtest,Ytest)\r\n",
        "    rs.append(score[0])\r\n",
        "    te.append(test)\r\n",
        "print(axisx[rs.index(max(rs))],max(rs))\r\n",
        "plt.figure(figsize=(20,5))\r\n",
        "plt.plot(axisx,te,c=\"gray\",label=\"test\")\r\n",
        "plt.plot(axisx,rs,c=\"green\",label=\"train\")\r\n",
        "plt.legend()\r\n",
        "plt.show()"
      ],
      "execution_count": null,
      "outputs": []
    },
    {
      "cell_type": "markdown",
      "metadata": {
        "id": "oOGRK2cGC7vS"
      },
      "source": [
        "##算法的粗略解释"
      ]
    },
    {
      "cell_type": "markdown",
      "metadata": {
        "id": "quEQoF8HDeMf"
      },
      "source": [
        "###booster"
      ]
    },
    {
      "cell_type": "code",
      "metadata": {
        "colab": {
          "base_uri": "https://localhost:8080/"
        },
        "id": "Rumc-qRDDhON",
        "outputId": "31f3e44c-a0e1-41d7-fdda-3a46fbc4d0ba"
      },
      "source": [
        "#boosting是一种思想，是不断的改进的思想，树的模型是最常用的基本算法\r\n",
        "#但是同样的，线性的算法也可以被boosting不断加强，然后集合起来\r\n",
        "for booster in [\"gbtree\",\"gblinear\",\"dart\"]:\r\n",
        "    reg = XGBR(n_estimators=180\r\n",
        "               ,learning_rate=0.1\r\n",
        "               ,random_state=420\r\n",
        "               ,booster=booster).fit(Xtrain,Ytrain)\r\n",
        "    print(booster)\r\n",
        "    print(reg.score(Xtest,Ytest))"
      ],
      "execution_count": 39,
      "outputs": [
        {
          "output_type": "stream",
          "text": [
            "[12:57:23] WARNING: /workspace/src/objective/regression_obj.cu:152: reg:linear is now deprecated in favor of reg:squarederror.\n",
            "gbtree\n",
            "0.9231068620728082\n",
            "[12:57:23] WARNING: /workspace/src/objective/regression_obj.cu:152: reg:linear is now deprecated in favor of reg:squarederror.\n",
            "gblinear\n",
            "0.6286510307485139\n",
            "[12:57:23] WARNING: /workspace/src/objective/regression_obj.cu:152: reg:linear is now deprecated in favor of reg:squarederror.\n",
            "dart\n",
            "0.923106843149575\n"
          ],
          "name": "stdout"
        }
      ]
    },
    {
      "cell_type": "code",
      "metadata": {
        "id": "qHS0gDL1EDwU"
      },
      "source": [
        "#发现明显树的模型表现得好很多，因此，xgboost总是基于树模型的，基于其它模型的xgboost需要不同的推导方式"
      ],
      "execution_count": 40,
      "outputs": []
    },
    {
      "cell_type": "code",
      "metadata": {
        "id": "h089hdKUHzBh"
      },
      "source": [
        "#下面使用原生的xgboost进行操作，它的cv给出了更好的信息\r\n",
        "import xgboost as xgb\r\n",
        "dfull = xgb.DMatrix(X,y)"
      ],
      "execution_count": 44,
      "outputs": []
    },
    {
      "cell_type": "code",
      "metadata": {
        "id": "nNzVJylVH5gB"
      },
      "source": [
        "#设定参数，注意train的过程只接受训练数据，树的数目和params--所有的选项\r\n",
        "param1 = {'silent':True,'obj':'reg:linear',\"gamma\":0}\r\n",
        "num_round = 100\r\n",
        "n_fold=5 #sklearn - KFold"
      ],
      "execution_count": 45,
      "outputs": []
    },
    {
      "cell_type": "code",
      "metadata": {
        "id": "B6EqLoV8IBVV"
      },
      "source": [
        "ime0 = time()\r\n",
        "cvresult1 = xgb.cv(param1, dfull, num_round,n_fold)"
      ],
      "execution_count": 48,
      "outputs": []
    },
    {
      "cell_type": "code",
      "metadata": {
        "colab": {
          "base_uri": "https://localhost:8080/",
          "height": 399
        },
        "id": "EH9iT6hLIDo5",
        "outputId": "3d0f10b1-cd1f-441f-e1f4-36d12d1ef2a0"
      },
      "source": [
        "cvresult1#这个矩阵可以清晰地看出变化的趋势，可以作图看一下"
      ],
      "execution_count": 50,
      "outputs": [
        {
          "output_type": "execute_result",
          "data": {
            "text/html": [
              "<div>\n",
              "<style scoped>\n",
              "    .dataframe tbody tr th:only-of-type {\n",
              "        vertical-align: middle;\n",
              "    }\n",
              "\n",
              "    .dataframe tbody tr th {\n",
              "        vertical-align: top;\n",
              "    }\n",
              "\n",
              "    .dataframe thead th {\n",
              "        text-align: right;\n",
              "    }\n",
              "</style>\n",
              "<table border=\"1\" class=\"dataframe\">\n",
              "  <thead>\n",
              "    <tr style=\"text-align: right;\">\n",
              "      <th></th>\n",
              "      <th>train-rmse-mean</th>\n",
              "      <th>train-rmse-std</th>\n",
              "      <th>test-rmse-mean</th>\n",
              "      <th>test-rmse-std</th>\n",
              "    </tr>\n",
              "  </thead>\n",
              "  <tbody>\n",
              "    <tr>\n",
              "      <th>0</th>\n",
              "      <td>17.105577</td>\n",
              "      <td>0.129117</td>\n",
              "      <td>17.163215</td>\n",
              "      <td>0.584297</td>\n",
              "    </tr>\n",
              "    <tr>\n",
              "      <th>1</th>\n",
              "      <td>12.337972</td>\n",
              "      <td>0.097556</td>\n",
              "      <td>12.519736</td>\n",
              "      <td>0.473458</td>\n",
              "    </tr>\n",
              "    <tr>\n",
              "      <th>2</th>\n",
              "      <td>8.994071</td>\n",
              "      <td>0.065756</td>\n",
              "      <td>9.404534</td>\n",
              "      <td>0.472310</td>\n",
              "    </tr>\n",
              "    <tr>\n",
              "      <th>3</th>\n",
              "      <td>6.629480</td>\n",
              "      <td>0.050323</td>\n",
              "      <td>7.250335</td>\n",
              "      <td>0.500342</td>\n",
              "    </tr>\n",
              "    <tr>\n",
              "      <th>4</th>\n",
              "      <td>4.954407</td>\n",
              "      <td>0.033209</td>\n",
              "      <td>5.920812</td>\n",
              "      <td>0.591874</td>\n",
              "    </tr>\n",
              "    <tr>\n",
              "      <th>...</th>\n",
              "      <td>...</td>\n",
              "      <td>...</td>\n",
              "      <td>...</td>\n",
              "      <td>...</td>\n",
              "    </tr>\n",
              "    <tr>\n",
              "      <th>95</th>\n",
              "      <td>0.025204</td>\n",
              "      <td>0.005145</td>\n",
              "      <td>3.669921</td>\n",
              "      <td>0.858313</td>\n",
              "    </tr>\n",
              "    <tr>\n",
              "      <th>96</th>\n",
              "      <td>0.024422</td>\n",
              "      <td>0.005242</td>\n",
              "      <td>3.669983</td>\n",
              "      <td>0.858255</td>\n",
              "    </tr>\n",
              "    <tr>\n",
              "      <th>97</th>\n",
              "      <td>0.023661</td>\n",
              "      <td>0.005117</td>\n",
              "      <td>3.669947</td>\n",
              "      <td>0.858332</td>\n",
              "    </tr>\n",
              "    <tr>\n",
              "      <th>98</th>\n",
              "      <td>0.022562</td>\n",
              "      <td>0.004704</td>\n",
              "      <td>3.669868</td>\n",
              "      <td>0.858578</td>\n",
              "    </tr>\n",
              "    <tr>\n",
              "      <th>99</th>\n",
              "      <td>0.021496</td>\n",
              "      <td>0.004738</td>\n",
              "      <td>3.669824</td>\n",
              "      <td>0.858305</td>\n",
              "    </tr>\n",
              "  </tbody>\n",
              "</table>\n",
              "<p>100 rows × 4 columns</p>\n",
              "</div>"
            ],
            "text/plain": [
              "    train-rmse-mean  train-rmse-std  test-rmse-mean  test-rmse-std\n",
              "0         17.105577        0.129117       17.163215       0.584297\n",
              "1         12.337972        0.097556       12.519736       0.473458\n",
              "2          8.994071        0.065756        9.404534       0.472310\n",
              "3          6.629480        0.050323        7.250335       0.500342\n",
              "4          4.954407        0.033209        5.920812       0.591874\n",
              "..              ...             ...             ...            ...\n",
              "95         0.025204        0.005145        3.669921       0.858313\n",
              "96         0.024422        0.005242        3.669983       0.858255\n",
              "97         0.023661        0.005117        3.669947       0.858332\n",
              "98         0.022562        0.004704        3.669868       0.858578\n",
              "99         0.021496        0.004738        3.669824       0.858305\n",
              "\n",
              "[100 rows x 4 columns]"
            ]
          },
          "metadata": {
            "tags": []
          },
          "execution_count": 50
        }
      ]
    },
    {
      "cell_type": "code",
      "metadata": {
        "colab": {
          "base_uri": "https://localhost:8080/",
          "height": 283
        },
        "id": "wVONjJrhIOpO",
        "outputId": "0c2a0dbe-090b-4e14-d215-e36d004ee648"
      },
      "source": [
        "#fig = plt.figure()\r\n",
        "cvresult1[\"train-rmse-mean\"].plot(c=\"blue\",label=\"train\")\r\n",
        "cvresult1[\"test-rmse-mean\"].plot(c=\"orange\",label=\"test\")\r\n",
        "plt.legend()\r\n",
        "#由图像可以清楚的观察到训练误差在不断地下降"
      ],
      "execution_count": 60,
      "outputs": [
        {
          "output_type": "execute_result",
          "data": {
            "text/plain": [
              "<matplotlib.legend.Legend at 0x7f6d14c6efd0>"
            ]
          },
          "metadata": {
            "tags": []
          },
          "execution_count": 60
        },
        {
          "output_type": "display_data",
          "data": {
            "image/png": "[encoded data removed]",
            "text/plain": [
              "<Figure size 432x288 with 1 Axes>"
            ]
          },
          "metadata": {
            "tags": [],
            "needs_background": "light"
          }
        }
      ]
    },
    {
      "cell_type": "markdown",
      "metadata": {
        "id": "oe-9Sd2XIZyB"
      },
      "source": [
        "###Gamma参数"
      ]
    },
    {
      "cell_type": "code",
      "metadata": {
        "id": "U83-3wLhL2aH"
      },
      "source": [
        "#下面我们来探究非常重要的gamma参数，由于gamma参数里面涉及到非常多的数学技巧，这里不再赘述，希望能落到纸上来仔细研究\r\n",
        "#但大体来讲，我们的想法是这样的，每一次的树仍然是贪婪算法，在每一片叶子上达到效果\r\n",
        "#这样的话我们看的就是信息的增益，即下降的值代表纯度的提高\r\n",
        "#这时候的推导过程中会发现，下降的值总是需要减一个gamma\r\n",
        "#因此，gamma越大，剪枝的可能性就越大，因此，这里来考虑一下剪枝的效果，防止过拟合的效果"
      ],
      "execution_count": 61,
      "outputs": []
    },
    {
      "cell_type": "code",
      "metadata": {
        "id": "904pGb_gMpOz"
      },
      "source": [
        "from sklearn.datasets import load_breast_cancer\r\n",
        "data2 = load_breast_cancer()\r\n",
        "\r\n",
        "x2 = data2.data\r\n",
        "y2 = data2.target\r\n",
        "\r\n",
        "dfull2 = xgb.DMatrix(x2,y2)\r\n",
        "\r\n",
        "param1 = {'silent':True,'obj':'binary:logistic',\"gamma\":0,\"nfold\":5\r\n",
        "          ,\"eval_metrics\":\"error\"\r\n",
        "         }\r\n",
        "param2 = {'silent':True,'obj':'binary:logistic',\"gamma\":1,\"nfold\":5}\r\n",
        "num_round = 100"
      ],
      "execution_count": 62,
      "outputs": []
    },
    {
      "cell_type": "code",
      "metadata": {
        "id": "aw6asWrpMwNX"
      },
      "source": [
        "cvresult1 = xgb.cv(param1, dfull2, num_round,metrics=(\"error\"))\r\n",
        "cvresult2 = xgb.cv(param2, dfull2, num_round,metrics=(\"error\")) "
      ],
      "execution_count": 63,
      "outputs": []
    },
    {
      "cell_type": "code",
      "metadata": {
        "id": "_W5xDmFAOGl2"
      },
      "source": [
        "cvresult1"
      ],
      "execution_count": null,
      "outputs": []
    },
    {
      "cell_type": "code",
      "metadata": {
        "colab": {
          "base_uri": "https://localhost:8080/",
          "height": 320
        },
        "id": "2vKm9VG6N6AV",
        "outputId": "a924b58a-bc6f-4770-c95d-956fa09b541a"
      },
      "source": [
        "plt.figure(figsize=(20,5))\r\n",
        "plt.grid()\r\n",
        "plt.plot(range(1,101),cvresult1.iloc[:,0],c=\"red\",label=\"train,gamma=0\")\r\n",
        "plt.plot(range(1,101),cvresult1.iloc[:,2],c=\"orange\",label=\"test,gamma=0\")\r\n",
        "plt.plot(range(1,101),cvresult2.iloc[:,0],c=\"green\",label=\"train,gamma=1\")\r\n",
        "plt.plot(range(1,101),cvresult2.iloc[:,2],c=\"blue\",label=\"test,gamma=1\")\r\n",
        "plt.legend()\r\n",
        "plt.show()\r\n",
        "#观察train和test的差距实在太大，过拟合比较严重，且gamma为0时候的结果好一点\r\n",
        "#下面的过程就是不断地找到最佳的参数，不断地调整和比较"
      ],
      "execution_count": 66,
      "outputs": [
        {
          "output_type": "display_data",
          "data": {
            "image/png": "[encoded data removed]",
            "text/plain": [
              "<Figure size 1440x360 with 1 Axes>"
            ]
          },
          "metadata": {
            "tags": [],
            "needs_background": "light"
          }
        }
      ]
    },
    {
      "cell_type": "code",
      "metadata": {
        "id": "72w6KvIKN96D"
      },
      "source": [
        "dtrain = xgb.DMatrix(Xtrain,Ytrain)\r\n",
        "#设定参数，对模型进行训练\r\n",
        "param = {'silent':True\r\n",
        "          ,'obj':'reg:linear'\r\n",
        "          ,\"subsample\":1\r\n",
        "          ,\"eta\":0.05\r\n",
        "          ,\"gamma\":20\r\n",
        "          ,\"lambda\":3.5\r\n",
        "          ,\"alpha\":0.2\r\n",
        "          ,\"max_depth\":4\r\n",
        "          ,\"colsample_bytree\":0.4\r\n",
        "          ,\"colsample_bylevel\":0.6\r\n",
        "          ,\"colsample_bynode\":1}\r\n",
        "num_round = 180\r\n",
        "\r\n",
        "bst = xgb.train(param, dtrain, num_round)"
      ],
      "execution_count": 91,
      "outputs": []
    },
    {
      "cell_type": "code",
      "metadata": {
        "id": "oHEDb0BCQcD6"
      },
      "source": [
        "from sklearn.metrics import mean_squared_error as MSE, r2_score"
      ],
      "execution_count": 92,
      "outputs": []
    },
    {
      "cell_type": "code",
      "metadata": {
        "id": "N_wgTc-hScrL"
      },
      "source": [
        "#可以直接指定特征矩阵和标签矩阵的综合，结果一致，可能在设计的时候就考虑了只需要对应的特征数了吧\r\n",
        "ypreds = xgb.predict(dtrain)"
      ],
      "execution_count": null,
      "outputs": []
    },
    {
      "cell_type": "code",
      "metadata": {
        "colab": {
          "base_uri": "https://localhost:8080/"
        },
        "id": "upC5vgEVRf3A",
        "outputId": "c3b8ec92-c2cb-4d71-bebc-fa85f7f2af4b"
      },
      "source": [
        "#很尴尬，感觉只能再次调用sklearn中的包来解析error，我找不到xgboost内部自带的scoe功能\r\n",
        "r2_score(Ytrain,ypreds)"
      ],
      "execution_count": 93,
      "outputs": [
        {
          "output_type": "execute_result",
          "data": {
            "text/plain": [
              "0.9560783716555461"
            ]
          },
          "metadata": {
            "tags": []
          },
          "execution_count": 93
        }
      ]
    },
    {
      "cell_type": "markdown",
      "metadata": {
        "id": "l2iGVTF6RiHh"
      },
      "source": [
        "##不均衡样本下的表现"
      ]
    },
    {
      "cell_type": "code",
      "metadata": {
        "id": "stIoSWNcTsPY"
      },
      "source": [
        "import numpy as np\r\n",
        "import xgboost as xgb\r\n",
        "import matplotlib.pyplot as plt\r\n",
        "from xgboost import XGBClassifier as XGBC\r\n",
        "from sklearn.datasets import make_blobs #自创数据集\r\n",
        "from sklearn.model_selection import train_test_split as TTS\r\n",
        "from sklearn.metrics import confusion_matrix as cm, recall_score as recall, roc_auc_score as auc"
      ],
      "execution_count": 95,
      "outputs": []
    },
    {
      "cell_type": "code",
      "metadata": {
        "id": "Ws2wun-7Ty7M"
      },
      "source": [
        "class_1 = 500 #类别1有500个样本\r\n",
        "class_2 = 50 #类别2只有50个\r\n",
        "centers = [[0.0, 0.0], [2.0, 2.0]] #设定两个类别的中心\r\n",
        "clusters_std = [1.5, 0.5] #设定两个类别的方差，通常来说，样本量比较大的类别会更加松散\r\n",
        "X, y = make_blobs(n_samples=[class_1, class_2],\r\n",
        "                  centers=centers,\r\n",
        "                  cluster_std=clusters_std,\r\n",
        "                  random_state=0, shuffle=False)"
      ],
      "execution_count": 96,
      "outputs": []
    },
    {
      "cell_type": "code",
      "metadata": {
        "id": "kq82qRICT0nt"
      },
      "source": [
        "Xtrain, Xtest, Ytrain, Ytest = TTS(X,y,test_size=0.3,random_state=420)"
      ],
      "execution_count": 97,
      "outputs": []
    },
    {
      "cell_type": "code",
      "metadata": {
        "id": "88yaHGY9T6XQ"
      },
      "source": [
        "#sklearn下的建模\r\n",
        "clf = XGBC().fit(Xtrain,Ytrain)\r\n",
        "ypred = clf.predict(Xtest)"
      ],
      "execution_count": 98,
      "outputs": []
    },
    {
      "cell_type": "code",
      "metadata": {
        "colab": {
          "base_uri": "https://localhost:8080/"
        },
        "id": "rlqtQw0nT8JB",
        "outputId": "8ba56df4-feec-4d47-a165-291b8fbd6542"
      },
      "source": [
        "#为异常样本增加权重，利用pos_weight\r\n",
        "clf_ = XGBC(scale_pos_weight=10).fit(Xtrain,Ytrain)\r\n",
        "ypred_ = clf_.predict(Xtest)\r\n",
        "clf_.score(Xtest,Ytest)\r\n",
        "\r\n",
        "cm(Ytest,ypred_,labels=[1,0])\r\n",
        "\r\n",
        "recall(Ytest,ypred_)\r\n",
        "\r\n",
        "auc(Ytest,clf_.predict_proba(Xtest)[:,1])"
      ],
      "execution_count": 99,
      "outputs": [
        {
          "output_type": "execute_result",
          "data": {
            "text/plain": [
              "0.9696356275303644"
            ]
          },
          "metadata": {
            "tags": []
          },
          "execution_count": 99
        }
      ]
    },
    {
      "cell_type": "code",
      "metadata": {
        "colab": {
          "base_uri": "https://localhost:8080/"
        },
        "id": "dwrnvGh9ULDR",
        "outputId": "9e8e4d73-27e8-47d5-aafb-d66b61e132f3"
      },
      "source": [
        "#观察不同权重下，recall和auc的改变\r\n",
        "for i in [1,5,10,20,30]:\r\n",
        "    clf_ = XGBC(scale_pos_weight=i).fit(Xtrain,Ytrain)\r\n",
        "    ypred_ = clf_.predict(Xtest)\r\n",
        "    print(i)\r\n",
        "    print(\"\\tAccuracy:{}\".format(clf_.score(Xtest,Ytest)))\r\n",
        "    print(\"\\tRecall:{}\".format(recall(Ytest,ypred_)))\r\n",
        "    print(\"\\tAUC:{}\".format(auc(Ytest,clf_.predict_proba(Xtest)[:,1])))\r\n",
        "#观察到在10左右时，recall已经能达到1的好成绩了，之后的精确率不变，AUC增加了一些\r\n",
        "#因此10就是一个比较好的选择"
      ],
      "execution_count": 101,
      "outputs": [
        {
          "output_type": "stream",
          "text": [
            "1\n",
            "\tAccuracy:0.9272727272727272\n",
            "\tRecall:0.6923076923076923\n",
            "\tAUC:0.9671052631578947\n",
            "5\n",
            "\tAccuracy:0.9454545454545454\n",
            "\tRecall:0.9230769230769231\n",
            "\tAUC:0.9665991902834008\n",
            "10\n",
            "\tAccuracy:0.9515151515151515\n",
            "\tRecall:1.0\n",
            "\tAUC:0.9696356275303644\n",
            "20\n",
            "\tAccuracy:0.9515151515151515\n",
            "\tRecall:1.0\n",
            "\tAUC:0.9706477732793523\n",
            "30\n",
            "\tAccuracy:0.9515151515151515\n",
            "\tRecall:1.0\n",
            "\tAUC:0.9701417004048584\n"
          ],
          "name": "stdout"
        }
      ]
    },
    {
      "cell_type": "code",
      "metadata": {
        "id": "vguYWbg6UR0K"
      },
      "source": [
        "#xgboost下建模，先构造数据\r\n",
        "dtrain = xgb.DMatrix(Xtrain,Ytrain)\r\n",
        "dtest = xgb.DMatrix(Xtest,Ytest)"
      ],
      "execution_count": 102,
      "outputs": []
    },
    {
      "cell_type": "code",
      "metadata": {
        "id": "FbQX5zcrUmuE"
      },
      "source": [
        "#训练模型\r\n",
        "param = {'silent':True,'objective':'binary:logistic',\"eta\":0.1,\"scale_pos_weight\":1}\r\n",
        "num_round = 100\r\n",
        "bst = xgb.train(param, dtrain, num_round)"
      ],
      "execution_count": 103,
      "outputs": []
    },
    {
      "cell_type": "code",
      "metadata": {
        "colab": {
          "base_uri": "https://localhost:8080/"
        },
        "id": "tCsowVgpUqeN",
        "outputId": "978a3be4-60a8-4f64-afee-30de1d445480"
      },
      "source": [
        "preds = bst.predict(dtest)\r\n",
        "#xgboost返回了概率值，而sklearn下只返回了属于的类，概率值需要调用predict_proba\r\n",
        "preds[:5]"
      ],
      "execution_count": 105,
      "outputs": [
        {
          "output_type": "execute_result",
          "data": {
            "text/plain": [
              "array([0.00110357, 0.00761518, 0.00110357, 0.00110357, 0.93531454],\n",
              "      dtype=float32)"
            ]
          },
          "metadata": {
            "tags": []
          },
          "execution_count": 105
        }
      ]
    },
    {
      "cell_type": "code",
      "metadata": {
        "id": "RDfU0iaNUwJH"
      },
      "source": [
        "ypred = preds.copy()"
      ],
      "execution_count": 106,
      "outputs": []
    },
    {
      "cell_type": "code",
      "metadata": {
        "id": "gzkIAHUkVDZt"
      },
      "source": [
        "#下面我们自己调阈值来决定分类的依据"
      ],
      "execution_count": null,
      "outputs": []
    },
    {
      "cell_type": "code",
      "metadata": {
        "id": "BW6Yfn2aVVYM"
      },
      "source": [
        "#写明参数\r\n",
        "scale_pos_weight = [1,5,10]\r\n",
        "names = [\"negative vs positive: 1\"\r\n",
        "         ,\"negative vs positive: 5\"\r\n",
        "         ,\"negative vs positive: 10\"]"
      ],
      "execution_count": 107,
      "outputs": []
    },
    {
      "cell_type": "code",
      "metadata": {
        "colab": {
          "base_uri": "https://localhost:8080/"
        },
        "id": "uQMhrHsGVV_X",
        "outputId": "fc953908-9f55-45f9-9bef-a5667eff60db"
      },
      "source": [
        "from sklearn.metrics import accuracy_score as accuracy, recall_score as recall, roc_auc_score as auc\r\n",
        "\r\n",
        "for name,i in zip(names,scale_pos_weight):\r\n",
        "    param = {'silent':True,'objective':'binary:logistic'\r\n",
        "            ,\"eta\":0.1,\"scale_pos_weight\":i}\r\n",
        "    num_round = 100\r\n",
        "    clf = xgb.train(param, dtrain, num_round)\r\n",
        "    preds = clf.predict(dtest)\r\n",
        "    ypred = preds.copy()\r\n",
        "    ypred[preds > 0.5] = 1\r\n",
        "    ypred[ypred != 1] = 0\r\n",
        "    print(name)\r\n",
        "    print(\"\\tAccuracy:{}\".format(accuracy(Ytest,ypred)))\r\n",
        "    print(\"\\tRecall:{}\".format(recall(Ytest,ypred)))\r\n",
        "    print(\"\\tAUC:{}\".format(auc(Ytest,preds)))"
      ],
      "execution_count": 108,
      "outputs": [
        {
          "output_type": "stream",
          "text": [
            "negative vs positive: 1\n",
            "\tAccuracy:0.9272727272727272\n",
            "\tRecall:0.6923076923076923\n",
            "\tAUC:0.9741902834008097\n",
            "negative vs positive: 5\n",
            "\tAccuracy:0.9393939393939394\n",
            "\tRecall:0.8461538461538461\n",
            "\tAUC:0.9635627530364372\n",
            "negative vs positive: 10\n",
            "\tAccuracy:0.9515151515151515\n",
            "\tRecall:1.0\n",
            "\tAUC:0.9665991902834008\n"
          ],
          "name": "stdout"
        }
      ]
    },
    {
      "cell_type": "code",
      "metadata": {
        "id": "eQeVfp8OVdZJ"
      },
      "source": [
        "#观察到10的效果最好，和之前的保持一致，不过我们可以调整一下阈值，观察一下结果\r\n",
        "#把上面的过程包装成函数"
      ],
      "execution_count": 109,
      "outputs": []
    },
    {
      "cell_type": "code",
      "metadata": {
        "id": "ArLMtH-bVrPb"
      },
      "source": [
        "def show_score(threshold):\r\n",
        "  for name,i in zip(names,scale_pos_weight):\r\n",
        "      param = {'silent':True,'objective':'binary:logistic'\r\n",
        "              ,\"eta\":0.1,\"scale_pos_weight\":i}\r\n",
        "      num_round = 100\r\n",
        "      clf = xgb.train(param, dtrain, num_round)\r\n",
        "      preds = clf.predict(dtest)\r\n",
        "      ypred = preds.copy()\r\n",
        "      ypred[preds > threshold] = 1\r\n",
        "      ypred[ypred != 1] = 0\r\n",
        "      print(name)\r\n",
        "      print(\"\\tAccuracy:{}\".format(accuracy(Ytest,ypred)))\r\n",
        "      print(\"\\tRecall:{}\".format(recall(Ytest,ypred)))\r\n",
        "      print(\"\\tAUC:{}\".format(auc(Ytest,preds)))"
      ],
      "execution_count": 112,
      "outputs": []
    },
    {
      "cell_type": "code",
      "metadata": {
        "colab": {
          "base_uri": "https://localhost:8080/"
        },
        "id": "LSSV9YDjV5eh",
        "outputId": "2634c0a9-2e91-471c-cdc9-c3d9595919df"
      },
      "source": [
        "show_score(0.6) #经过调试后发现0.5的效果确实是最好的"
      ],
      "execution_count": 116,
      "outputs": [
        {
          "output_type": "stream",
          "text": [
            "negative vs positive: 1\n",
            "\tAccuracy:0.9272727272727272\n",
            "\tRecall:0.6923076923076923\n",
            "\tAUC:0.9741902834008097\n",
            "negative vs positive: 5\n",
            "\tAccuracy:0.9393939393939394\n",
            "\tRecall:0.8461538461538461\n",
            "\tAUC:0.9635627530364372\n",
            "negative vs positive: 10\n",
            "\tAccuracy:0.9393939393939394\n",
            "\tRecall:0.8461538461538461\n",
            "\tAUC:0.9665991902834008\n"
          ],
          "name": "stdout"
        }
      ]
    }
  ]
}