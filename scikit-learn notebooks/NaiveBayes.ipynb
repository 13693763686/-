{
  "nbformat": 4,
  "nbformat_minor": 0,
  "metadata": {
    "colab": {
      "name": "NaiveBayes.ipynb",
      "provenance": [],
      "toc_visible": true,
      "authorship_tag": "ABX9TyOxhL5or4Jgi0tY5n5v3oe2",
      "include_colab_link": true
    },
    "kernelspec": {
      "name": "python3",
      "display_name": "Python 3"
    }
  },
  "cells": [
    {
      "cell_type": "markdown",
      "metadata": {
        "id": "view-in-github",
        "colab_type": "text"
      },
      "source": [
        "<a href=\"https://colab.research.google.com/github/13693763686/data-analysis/blob/master/scikit-learn%20notebooks/NaiveBayes.ipynb\" target=\"_parent\"><img src=\"https://colab.research.google.com/assets/colab-badge.svg\" alt=\"Open In Colab\"/></a>"
      ]
    },
    {
      "cell_type": "markdown",
      "metadata": {
        "id": "rbAVovY7Mouz"
      },
      "source": [
        "#贝叶斯方法"
      ]
    },
    {
      "cell_type": "code",
      "metadata": {
        "id": "k2ozerV-REHn"
      },
      "source": [
        "#机器学习分频率派和贝叶斯派\r\n",
        "#频率派认为参数是给定的，但是未知，而贝叶斯认为参数本身也是随机变量\r\n",
        "#频率派的求解通常是减少loss或者最大似然的优化问题，而贝叶斯通常来说是关于后验概率的建模问题\r\n",
        "#对于先验和后验的建模过程，一套共轭的理论是需要的\r\n",
        "#对于贝叶斯派，它严格的根据统计的视角，出现了比较理论化的概率图模型来对变量之间的关系建模和求解\r\n",
        "#贝叶斯方法即指概率建模方法，利用贝叶斯公式，而朴素贝叶斯是一个泛化的假设，即一个高维随机变量的各个变量之间是独立的，对应机器学习来说\r\n",
        "#就是每一个样本内的特征之间独立，这样的话，在进行概率建模的时候，计算会很方便。\r\n",
        "#贝叶斯方法最大的好处就是它是纯的概率模型，它的计算出来的值确实是有概率的含义的\r\n",
        "#对于逻辑回归和svm的归一化来说，都是一种压缩的方法，尽管逻辑回归的推导从贝叶斯的推导过程也可以看出它是概率，但是不太明显"
      ],
      "execution_count": 1,
      "outputs": []
    },
    {
      "cell_type": "markdown",
      "metadata": {
        "id": "QkOAe-zLSMjK"
      },
      "source": [
        "##Sklearn中的朴素贝叶斯建模方法"
      ]
    },
    {
      "cell_type": "code",
      "metadata": {
        "id": "f72RRWt3SRql"
      },
      "source": [
        "#朴素贝叶斯泛指一种假设的前提\r\n",
        "#对于参数的先验，似然是需要认为的假设的，当然它们的设定可以用某种函数来简化计算的处理\r\n",
        "#这里我们利用高斯贝叶斯来进行学习，里面的参数可以指的先验的分布"
      ],
      "execution_count": 2,
      "outputs": []
    },
    {
      "cell_type": "code",
      "metadata": {
        "id": "4eUYC51qUMyV"
      },
      "source": [
        "import numpy as np\r\n",
        "import matplotlib.pyplot as plt\r\n",
        "from sklearn.naive_bayes import GaussianNB\r\n",
        "from sklearn.datasets import load_digits\r\n",
        "from sklearn.model_selection import train_test_split"
      ],
      "execution_count": 3,
      "outputs": []
    },
    {
      "cell_type": "code",
      "metadata": {
        "id": "RbYKrFdoUPGN"
      },
      "source": [
        "digits = load_digits() #手写数据集\r\n",
        "X, y = digits.data, digits.target"
      ],
      "execution_count": 4,
      "outputs": []
    },
    {
      "cell_type": "code",
      "metadata": {
        "id": "8Dele8gMURYg"
      },
      "source": [
        "Xtrain,Xtest,Ytrain,Ytest = train_test_split(X,y,test_size=0.3,random_state=420)"
      ],
      "execution_count": 5,
      "outputs": []
    },
    {
      "cell_type": "code",
      "metadata": {
        "colab": {
          "base_uri": "https://localhost:8080/"
        },
        "id": "ZdV4FfRxUTb5",
        "outputId": "48f2af85-8c2a-4250-e23e-2d607467188c"
      },
      "source": [
        "X.shape"
      ],
      "execution_count": 6,
      "outputs": [
        {
          "output_type": "execute_result",
          "data": {
            "text/plain": [
              "(1797, 64)"
            ]
          },
          "metadata": {
            "tags": []
          },
          "execution_count": 6
        }
      ]
    },
    {
      "cell_type": "code",
      "metadata": {
        "colab": {
          "base_uri": "https://localhost:8080/"
        },
        "id": "8F24g2WhUWkU",
        "outputId": "0dd7d435-3d87-4537-b85c-ebf772cc1dd4"
      },
      "source": [
        "#查看分类问题分为几类\r\n",
        "np.unique(Ytrain)"
      ],
      "execution_count": 7,
      "outputs": [
        {
          "output_type": "execute_result",
          "data": {
            "text/plain": [
              "array([0, 1, 2, 3, 4, 5, 6, 7, 8, 9])"
            ]
          },
          "metadata": {
            "tags": []
          },
          "execution_count": 7
        }
      ]
    },
    {
      "cell_type": "code",
      "metadata": {
        "id": "pjh7OZfZX3KD"
      },
      "source": [
        "gnb = GaussianNB().fit(Xtrain,Ytrain)\r\n",
        "acc_score = gnb.score(Xtest,Ytest)"
      ],
      "execution_count": 9,
      "outputs": []
    },
    {
      "cell_type": "code",
      "metadata": {
        "id": "2mUUOT3QX6o_"
      },
      "source": [
        "Y_pred = gnb.predict(Xtest)"
      ],
      "execution_count": 10,
      "outputs": []
    },
    {
      "cell_type": "code",
      "metadata": {
        "id": "yO8MGuHIYMto"
      },
      "source": [
        "#预测结果的概率显示\r\n",
        "prob = gnb.predict_proba(Xtest)"
      ],
      "execution_count": 11,
      "outputs": []
    },
    {
      "cell_type": "code",
      "metadata": {
        "id": "A8vKWzkCYSl3"
      },
      "source": [
        "#利用混淆矩阵检查一下预测的效果，这时候的recall和FPR的计算就没有意义了\r\n",
        "from sklearn.metrics import confusion_matrix as CM"
      ],
      "execution_count": 12,
      "outputs": []
    },
    {
      "cell_type": "code",
      "metadata": {
        "colab": {
          "base_uri": "https://localhost:8080/"
        },
        "id": "wWzGvRhsYevl",
        "outputId": "3839ccfc-d75f-45e8-b44c-66e2540ffa75"
      },
      "source": [
        "#注意参数的顺序\r\n",
        "CM(Ytest,Y_pred)"
      ],
      "execution_count": 13,
      "outputs": [
        {
          "output_type": "execute_result",
          "data": {
            "text/plain": [
              "array([[47,  0,  0,  0,  0,  0,  0,  1,  0,  0],\n",
              "       [ 0, 46,  2,  0,  0,  0,  0,  3,  6,  2],\n",
              "       [ 0,  2, 35,  0,  0,  0,  1,  0, 16,  0],\n",
              "       [ 0,  0,  1, 40,  0,  1,  0,  3,  4,  0],\n",
              "       [ 0,  0,  1,  0, 39,  0,  1,  4,  0,  0],\n",
              "       [ 0,  0,  0,  2,  0, 58,  1,  1,  1,  0],\n",
              "       [ 0,  0,  1,  0,  0,  1, 49,  0,  0,  0],\n",
              "       [ 0,  0,  0,  0,  0,  0,  0, 54,  0,  0],\n",
              "       [ 0,  3,  0,  1,  0,  0,  0,  2, 55,  0],\n",
              "       [ 1,  1,  0,  1,  2,  0,  0,  3,  7, 41]])"
            ]
          },
          "metadata": {
            "tags": []
          },
          "execution_count": 13
        }
      ]
    },
    {
      "cell_type": "code",
      "metadata": {
        "id": "6SDg1nOgYlar"
      },
      "source": [
        "#下面演示机器学习中常用的路线，学习曲线，横坐标为样本个数\r\n",
        "#由于其常用性，sklearn提供了专门的函数来解决这类问题learning-curve\r\n",
        "#整个函数返回训练的数据集的大小，分数和test的分数，下面进行演示"
      ],
      "execution_count": 14,
      "outputs": []
    },
    {
      "cell_type": "code",
      "metadata": {
        "id": "oix_vMP2btKD"
      },
      "source": [
        "import numpy as np\r\n",
        "import matplotlib.pyplot as plt\r\n",
        "from sklearn.naive_bayes import GaussianNB\r\n",
        "from sklearn.svm import SVC\r\n",
        "from sklearn.ensemble import RandomForestClassifier as RFC\r\n",
        "from sklearn.tree import DecisionTreeClassifier as DTC\r\n",
        "from sklearn.linear_model import LogisticRegression as LR\r\n",
        "from sklearn.datasets import load_digits\r\n",
        "from sklearn.model_selection import learning_curve #画学习曲线的类\r\n",
        "from sklearn.model_selection import ShuffleSplit #设定交叉验证模式的类\r\n",
        "from time import time\r\n",
        "import datetime"
      ],
      "execution_count": 15,
      "outputs": []
    },
    {
      "cell_type": "code",
      "metadata": {
        "id": "0RCJCQdYbu0J"
      },
      "source": [
        "def plot_learning_curve(estimator,title, X, y, \r\n",
        "                        ax, #选择子图\r\n",
        "                        ylim=None, #设置纵坐标的取值范围\r\n",
        "                        cv=None, #交叉验证\r\n",
        "                        n_jobs=None #设定索要使用的线程\r\n",
        "                       ):\r\n",
        "    train_sizes, train_scores, test_scores = learning_curve(estimator, X, y, cv=cv,n_jobs=n_jobs)    \r\n",
        "    ax.set_title(title)\r\n",
        "    if ylim is not None:\r\n",
        "        ax.set_ylim(*ylim)\r\n",
        "    ax.set_xlabel(\"Training examples\")\r\n",
        "    ax.set_ylabel(\"Score\")\r\n",
        "    ax.grid() #显示网格作为背景，不是必须\r\n",
        "    #在下面的单独测试中可以看到具体的解释过程\r\n",
        "    ax.plot(train_sizes, np.mean(train_scores, axis=1), 'o-'\r\n",
        "            , color=\"r\",label=\"Training score\")\r\n",
        "    ax.plot(train_sizes, np.mean(test_scores, axis=1), 'o-'\r\n",
        "            , color=\"g\",label=\"Test score\")\r\n",
        "    ax.legend(loc=\"best\")\r\n",
        "    return ax"
      ],
      "execution_count": 33,
      "outputs": []
    },
    {
      "cell_type": "code",
      "metadata": {
        "id": "VBbT_17Ib4Ko"
      },
      "source": [
        "title = [\"Naive Bayes\",\"DecisionTree\",\"SVM, RBF kernel\",\"RandomForest\",\"Logistic\"]\r\n",
        "model = [GaussianNB(),DTC(),SVC(gamma=0.001)\r\n",
        "         ,RFC(n_estimators=50),LR(C=.1,solver=\"lbfgs\")]\r\n",
        "cv = ShuffleSplit(n_splits=50, test_size=0.2, random_state=0)"
      ],
      "execution_count": 34,
      "outputs": []
    },
    {
      "cell_type": "code",
      "metadata": {
        "id": "-E6_h7_lcEnr"
      },
      "source": [
        "#这里单独演示一下learning_curve的用法\r\n",
        "train_sizes, train_scores, test_scores = learning_curve(model[0], X, y,cv=cv)                                                   "
      ],
      "execution_count": 35,
      "outputs": []
    },
    {
      "cell_type": "code",
      "metadata": {
        "colab": {
          "base_uri": "https://localhost:8080/"
        },
        "id": "NXONA1J0c_1-",
        "outputId": "bedaf373-db35-4871-fc8a-49976af9b714"
      },
      "source": [
        "test_scores.shape"
      ],
      "execution_count": 36,
      "outputs": [
        {
          "output_type": "execute_result",
          "data": {
            "text/plain": [
              "(5, 50)"
            ]
          },
          "metadata": {
            "tags": []
          },
          "execution_count": 36
        }
      ]
    },
    {
      "cell_type": "code",
      "metadata": {
        "colab": {
          "base_uri": "https://localhost:8080/"
        },
        "id": "aOdFBoR1cdBf",
        "outputId": "af0a10bc-1471-462b-c92c-450e96e7a730"
      },
      "source": [
        "train_sizes.shape\r\n",
        "#由这个结果可以非常显著地看出，我们的训练集的数目取了五次，然后因为分了50个split，因此有五十次的训练分数\r\n",
        "#因此，当我们计算单个样本数目的分数时，一定要对axis=1的地方求解"
      ],
      "execution_count": 37,
      "outputs": [
        {
          "output_type": "execute_result",
          "data": {
            "text/plain": [
              "(5,)"
            ]
          },
          "metadata": {
            "tags": []
          },
          "execution_count": 37
        }
      ]
    },
    {
      "cell_type": "code",
      "metadata": {
        "colab": {
          "base_uri": "https://localhost:8080/",
          "height": 393
        },
        "id": "2A2xeT2zb_XL",
        "outputId": "306c0f4b-c7c0-449b-98f2-4bc8968a6c12"
      },
      "source": [
        "fig, axes = plt.subplots(1,5,figsize=(30,6))\r\n",
        "for ind, title_, estimator in zip(range(len(title)),title,model):\r\n",
        "    times = time()\r\n",
        "    plot_learning_curve(estimator, title_, X, y,\r\n",
        "                        ax=axes[ind], ylim = [0.7, 1.05],n_jobs=4, cv=cv)\r\n",
        "    print(\"{}:{}\".format(title_,datetime.datetime.fromtimestamp(time()-times).strftime(\"%M:%S:%f\")))\r\n",
        "plt.show()"
      ],
      "execution_count": 38,
      "outputs": [
        {
          "output_type": "stream",
          "text": [
            "Naive Bayes:00:04:025860\n",
            "DecisionTree:00:02:849895\n",
            "SVM, RBF kernel:00:22:788622\n",
            "RandomForest:00:28:919503\n",
            "Logistic:00:23:247356\n"
          ],
          "name": "stdout"
        },
        {
          "output_type": "display_data",
          "data": {
            "image/png": "[encoded data removed]",
            "text/plain": [
              "<Figure size 2160x432 with 5 Axes>"
            ]
          },
          "metadata": {
            "tags": [],
            "needs_background": "light"
          }
        }
      ]
    },
    {
      "cell_type": "code",
      "metadata": {
        "id": "zmYkEl-sdqcF"
      },
      "source": [
        "#由图中可以观察到，几乎出来朴素贝叶斯方法，所有的其它算法都可以保证训练数据的完全拟合，这通常是基础的要求\r\n",
        "#对于其它模型，当样本数量逐渐增多，整体样本的泛化误差会减少\r\n",
        "#而对于朴素贝叶斯模型来说，就比较奇怪，可以观察到训练集分数下降的过程中测试集的分数却上升了\r\n",
        "#也就是说朴素贝叶斯放弃了训练集的拟合结果为了达到更好的测试集的结果"
      ],
      "execution_count": 39,
      "outputs": []
    },
    {
      "cell_type": "markdown",
      "metadata": {
        "id": "XsqSchKHezCM"
      },
      "source": [
        "##概率型结果的评判"
      ]
    },
    {
      "cell_type": "markdown",
      "metadata": {
        "id": "rIJvLdbcvkdh"
      },
      "source": [
        "###布里尔分数"
      ]
    },
    {
      "cell_type": "code",
      "metadata": {
        "id": "HA_Aozhue3D5"
      },
      "source": [
        "#由于返回值不再是类别，也不是连续的实数，而是一个0-1之间的概率值，因此我们要考虑如何评判好坏的问题\r\n",
        "#最简单的想法就是和残差的计算方法一致，直接平方就和即可，而且这种计算方法的误差具有上界1，因此可以利用值的大小直接判断好坏，类似于ROC\r\n",
        "#这种简单的思想就是Brier Score"
      ],
      "execution_count": 40,
      "outputs": []
    },
    {
      "cell_type": "code",
      "metadata": {
        "id": "TgO215VLfvQ4"
      },
      "source": [
        "from sklearn.metrics import brier_score_loss"
      ],
      "execution_count": 48,
      "outputs": []
    },
    {
      "cell_type": "code",
      "metadata": {
        "colab": {
          "base_uri": "https://localhost:8080/"
        },
        "id": "TvFTNnycfy9i",
        "outputId": "7e57110b-20a5-4a69-f47a-a7724fda90a1"
      },
      "source": [
        "#recap prob是每一个数字的可能性\r\n",
        "Ytest[:5]\r\n",
        "#prob.shape"
      ],
      "execution_count": 57,
      "outputs": [
        {
          "output_type": "execute_result",
          "data": {
            "text/plain": [
              "array([6, 1, 3, 0, 4])"
            ]
          },
          "metadata": {
            "tags": []
          },
          "execution_count": 57
        }
      ]
    },
    {
      "cell_type": "code",
      "metadata": {
        "id": "AZS7f3J5f4S5"
      },
      "source": [
        "#注意对应每一个预测结果，我们预测的类别有10类，标签只有一个，针对某一个标签的预测程度可以通过pos_label单独指定作为计算的基础值\r\n",
        "#注意这种简单的理解思路已经在新版的scikit-learn中被修复了，因为类别之间的大小是一致的，而不是ordinal variable体现出来的差距\r\n",
        "#因此这里我们的计算也是没有意义的\r\n",
        "brier_score_loss(Ytest,prob[:,1],pos_label=1)"
      ],
      "execution_count": null,
      "outputs": []
    },
    {
      "cell_type": "code",
      "metadata": {
        "id": "ON0CZa_ag9k1"
      },
      "source": [
        "#与逻辑回归和神经网络对应的交叉损失一致，我们也可以通过计算对数损失来衡量模型的能力\r\n",
        "#对应对数损失来讲，由于SVC和逻辑回归都是有优化目标的，且逻辑回归的优化目标就是对数损失，因此它的表现会更好\r\n",
        "#对于何种损失的建议\r\n",
        "#布里尔分数显然更加直观和可解释，且具有界限，相对来说，对数损失的解释，计算都相对复杂一些"
      ],
      "execution_count": 63,
      "outputs": []
    },
    {
      "cell_type": "markdown",
      "metadata": {
        "id": "CconVfhdvo_0"
      },
      "source": [
        "###概率校准曲线"
      ]
    },
    {
      "cell_type": "code",
      "metadata": {
        "id": "ShR9xCpIrZEr"
      },
      "source": [
        "#由于贝叶斯方法的概率建模，它的参数几乎没有可以调节的地步，我们可以通过概率校准的方式来改善其结果\r\n",
        "#概率校准曲线也叫可靠性曲线可以衡量我们模型的好坏\r\n",
        "#如果对于标签的认识本来就是概率型的话，那么横坐标为预测概率，纵坐标为实际概率的图像，当图像沿对角线的时候效果最好\r\n",
        "#因此沿着这个角度，我们可以通过一定的概率结果校准使结果靠向我们的对角线的图像\r\n",
        "#但是问题出在实际的概率怎么计算，对于观察结果来说我们是只能看到标签的情况的，这时候我们便考虑分箱，以箱子的概率为真实概率\r\n",
        "#下面我们可以调用sklearn中的内置函数帮助我们解决这个问题"
      ],
      "execution_count": 69,
      "outputs": []
    },
    {
      "cell_type": "code",
      "metadata": {
        "id": "-RFBQGDsukqU"
      },
      "source": [
        "import numpy as np\r\n",
        "import matplotlib.pyplot as plt\r\n",
        "from sklearn.datasets import make_classification as mc\r\n",
        "from sklearn.naive_bayes import GaussianNB\r\n",
        "from sklearn.svm import SVC\r\n",
        "from sklearn.linear_model import LogisticRegression as LR\r\n",
        "from sklearn.metrics import brier_score_loss\r\n",
        "from sklearn.model_selection import train_test_split"
      ],
      "execution_count": 70,
      "outputs": []
    },
    {
      "cell_type": "code",
      "metadata": {
        "id": "2LJ6gUK2unUz"
      },
      "source": [
        "X, y = mc(n_samples=100000,n_features=20 #总共20个特征\r\n",
        "          ,n_classes=2 #标签为2分类\r\n",
        "          ,n_informative=2 #其中两个代表较多信息\r\n",
        "          ,n_redundant=10 #10个都是冗余特征\r\n",
        "          ,random_state=42)"
      ],
      "execution_count": 71,
      "outputs": []
    },
    {
      "cell_type": "code",
      "metadata": {
        "id": "D5l0hFSkuoss"
      },
      "source": [
        "Xtrain, Xtest, Ytrain, Ytest = train_test_split(X, y\r\n",
        "                          ,test_size=0.99 #训练集会很小，测试集会很大\r\n",
        "                          ,random_state=42)"
      ],
      "execution_count": 72,
      "outputs": []
    },
    {
      "cell_type": "code",
      "metadata": {
        "id": "HvWAe2xwuu3r"
      },
      "source": [
        "gnb = GaussianNB()\r\n",
        "gnb.fit(Xtrain,Ytrain)\r\n",
        "y_pred = gnb.predict(Xtest)\r\n",
        "prob_pos = gnb.predict_proba(Xtest)[:,1] #我们的预测概率 - 横坐标\r\n",
        "clf_score = gnb.score(Xtest,Ytest)\r\n",
        "#Ytest - 我们的真实标签 - 横坐标"
      ],
      "execution_count": 73,
      "outputs": []
    },
    {
      "cell_type": "code",
      "metadata": {
        "id": "FdoK2WJBuy_P"
      },
      "source": [
        "from sklearn.calibration import calibration_curve"
      ],
      "execution_count": 74,
      "outputs": []
    },
    {
      "cell_type": "code",
      "metadata": {
        "id": "WzKWugWBu3V1"
      },
      "source": [
        "#calibration curve会根据我们的标签和概率为我们准备好作图所需的数据，类似于learning curve\r\n",
        "trueproba, predproba = calibration_curve(Ytest, prob_pos, n_bins=10)"
      ],
      "execution_count": 75,
      "outputs": []
    },
    {
      "cell_type": "code",
      "metadata": {
        "colab": {
          "base_uri": "https://localhost:8080/",
          "height": 279
        },
        "id": "EBn660REu-Sr",
        "outputId": "6d5a1e76-a172-41bd-dc32-b1a17977bd86"
      },
      "source": [
        "#下面根据得到的数据绘制校准曲线\r\n",
        "fig = plt.figure()\r\n",
        "ax1 = plt.subplot()\r\n",
        "ax1.plot([0, 1], [0, 1], \"k:\", label=\"Perfectly calibrated\")\r\n",
        "ax1.plot(predproba, trueproba,\"s-\",label=\"%s (%1.3f)\" % (\"Bayes\", clf_score))\r\n",
        "ax1.set_ylabel(\"True probability for class 1\")\r\n",
        "ax1.set_xlabel(\"Mean predcited probability\")\r\n",
        "ax1.set_ylim([-0.05, 1.05])\r\n",
        "ax1.legend()\r\n",
        "plt.show()"
      ],
      "execution_count": 77,
      "outputs": [
        {
          "output_type": "display_data",
          "data": {
            "image/png": "[encoded data removed]",
            "text/plain": [
              "<Figure size 432x288 with 1 Axes>"
            ]
          },
          "metadata": {
            "tags": [],
            "needs_background": "light"
          }
        }
      ]
    },
    {
      "cell_type": "code",
      "metadata": {
        "colab": {
          "base_uri": "https://localhost:8080/",
          "height": 265
        },
        "id": "v3mGJ5rYvTG3",
        "outputId": "0c014677-6d8a-4473-ecb4-f2b74246dcc9"
      },
      "source": [
        "#下面探究不同的箱子的个数对图像的准确度的影响\r\n",
        "fig, axes = plt.subplots(1,3,figsize=(18,4))\r\n",
        "for ind,i in enumerate([3,10,100]):\r\n",
        "    ax = axes[ind]\r\n",
        "    ax.plot([0, 1], [0, 1], \"k:\", label=\"Perfectly calibrated\")\r\n",
        "    trueproba, predproba = calibration_curve(Ytest, prob_pos,n_bins=i)\r\n",
        "    ax.plot(predproba, trueproba,\"s-\",label=\"n_bins = {}\".format(i))\r\n",
        "    ax1.set_ylabel(\"True probability for class 1\")\r\n",
        "    ax1.set_xlabel(\"Mean predcited probability\")\r\n",
        "    ax1.set_ylim([-0.05, 1.05])\r\n",
        "    ax.legend()\r\n",
        "plt.show()\r\n",
        "#又图像可以观察出10个是比较好的选择，实际的工作中可以多次尝试以获得比较好的结果\r\n",
        "#判断标准就是能有趋势，然后线条比较连续，平滑"
      ],
      "execution_count": 79,
      "outputs": [
        {
          "output_type": "display_data",
          "data": {
            "image/png": "[encoded data removed]",
            "text/plain": [
              "<Figure size 1296x288 with 3 Axes>"
            ]
          },
          "metadata": {
            "tags": [],
            "needs_background": "light"
          }
        }
      ]
    },
    {
      "cell_type": "code",
      "metadata": {
        "id": "-3dGS6BZvxh1"
      },
      "source": [
        "#下面探究不同的概率模型在概率校准曲线下的图像形状，研究它们的效果\r\n",
        "name = [\"GaussianBayes\",\"Logistic\",\"SVC\"]\r\n",
        "\r\n",
        "gnb = GaussianNB()\r\n",
        "logi = LR(C=1., solver='lbfgs',max_iter=3000,multi_class=\"auto\")\r\n",
        "svc = SVC(kernel = \"linear\",gamma=1) #置信度"
      ],
      "execution_count": 80,
      "outputs": []
    },
    {
      "cell_type": "code",
      "metadata": {
        "colab": {
          "base_uri": "https://localhost:8080/",
          "height": 404
        },
        "id": "BiedydAewJR7",
        "outputId": "3656d758-9702-4bc6-f85d-6023c3f9450e"
      },
      "source": [
        "fig, ax1 = plt.subplots(figsize=(8,6))\r\n",
        "ax1.plot([0, 1], [0, 1], \"k:\", label=\"Perfectly calibrated\")\r\n",
        "\r\n",
        "for clf, name_ in zip([gnb,logi,svc],name):\r\n",
        "    clf.fit(Xtrain,Ytrain)\r\n",
        "    y_pred = clf.predict(Xtest)\r\n",
        "    #hasattr(obj,name)：查看一个类obj中是否存在名字为name的接口，存在则返回True\r\n",
        "    if hasattr(clf, \"predict_proba\"):\r\n",
        "        prob_pos = clf.predict_proba(Xtest)[:,1]\r\n",
        "    else:  # use decision function\r\n",
        "        prob_pos = clf.decision_function(Xtest)\r\n",
        "        prob_pos = (prob_pos - prob_pos.min()) / (prob_pos.max() - prob_pos.min())\r\n",
        "    #返回布里尔分数，作为布里尔分数和概率校准曲线的比较\r\n",
        "    clf_score = brier_score_loss(Ytest, prob_pos, pos_label=y.max())\r\n",
        "    trueproba, predproba = calibration_curve(Ytest, prob_pos,n_bins=10)\r\n",
        "    ax1.plot(predproba, trueproba,\"s-\",label=\"%s (%1.3f)\" % (name_, clf_score))\r\n",
        "    \r\n",
        "ax1.set_ylabel(\"True probability for class 1\")\r\n",
        "ax1.set_xlabel(\"Mean predcited probability\")\r\n",
        "ax1.set_ylim([-0.05, 1.05])\r\n",
        "ax1.legend()\r\n",
        "ax1.set_title('Calibration plots  (reliability curve)')\r\n",
        "plt.show()"
      ],
      "execution_count": 81,
      "outputs": [
        {
          "output_type": "display_data",
          "data": {
            "image/png": "[encoded data removed]",
            "text/plain": [
              "<Figure size 576x432 with 1 Axes>"
            ]
          },
          "metadata": {
            "tags": [],
            "needs_background": "light"
          }
        }
      ]
    },
    {
      "cell_type": "code",
      "metadata": {
        "id": "eYvx9BThwiep"
      },
      "source": [
        "#由以上的图像可以看出\r\n",
        "#首先逻辑回归的布里尔分数最小，然后是朴素贝叶斯，然后是SVC的model\r\n",
        "#从图像上来看，可以发现逻辑回归的效果最好，它几乎贴着完美的曲线，因此逻辑回归是比较好的处理概率的方法，评分卡模型的应用\r\n",
        "#看朴素贝叶斯的结果，对于概率在0.5之下的箱子，发现预测概率总是低于应该的概率，即把概率压低以获得比较好的结果，同理对于大于0.5的情况，将概率提高增加可靠性\r\n",
        "#对于SVC来说，恰好相反，SVC会把概率提高和降低，这样的话会使概率几乎落在0.5附近，这样的决策的不确定性就十分的大，因此预测效果不会太好\r\n",
        "#下面用预测概率的直方图探究我们的分析是否正确"
      ],
      "execution_count": 82,
      "outputs": []
    },
    {
      "cell_type": "code",
      "metadata": {
        "colab": {
          "base_uri": "https://localhost:8080/",
          "height": 388
        },
        "id": "fMx8LO-szqUp",
        "outputId": "72ff70e1-28c6-4fd8-d1ca-e529c368f74d"
      },
      "source": [
        "fig, ax2 = plt.subplots(figsize=(8,6))\r\n",
        "\r\n",
        "for clf, name_ in zip([gnb,logi,svc],name):\r\n",
        "    clf.fit(Xtrain,Ytrain)\r\n",
        "    y_pred = clf.predict(Xtest)\r\n",
        "    #hasattr(obj,name)：查看一个类obj中是否存在名字为name的接口，存在则返回True\r\n",
        "    if hasattr(clf, \"predict_proba\"):\r\n",
        "        prob_pos = clf.predict_proba(Xtest)[:,1]\r\n",
        "    else:  # use decision function\r\n",
        "        prob_pos = clf.decision_function(Xtest)\r\n",
        "        prob_pos = (prob_pos - prob_pos.min()) / (prob_pos.max() - prob_pos.min())\r\n",
        "    #hist函数用来做直方图\r\n",
        "    ax2.hist(prob_pos #预测概率\r\n",
        "             ,bins=10\r\n",
        "             ,label=name_\r\n",
        "             ,histtype=\"step\" #设置直方图为透明\r\n",
        "             ,lw=2 #设置直方图每个柱子描边的粗细\r\n",
        "            )\r\n",
        "    \r\n",
        "ax2.set_ylabel(\"Distribution of probability\")\r\n",
        "ax2.set_xlabel(\"Mean predicted probability\")\r\n",
        "ax2.set_xlim([-0.05, 1.05])\r\n",
        "ax2.set_xticks([0,0.1,0.2,0.3,0.4,0.5,0.6,0.7,0.8,0.9,1])\r\n",
        "ax2.legend(loc=9)\r\n",
        "plt.show()"
      ],
      "execution_count": 85,
      "outputs": [
        {
          "output_type": "display_data",
          "data": {
            "image/png": "[encoded data removed]",
            "text/plain": [
              "<Figure size 576x432 with 1 Axes>"
            ]
          },
          "metadata": {
            "tags": [],
            "needs_background": "light"
          }
        }
      ]
    },
    {
      "cell_type": "code",
      "metadata": {
        "id": "Q9tUuWUmzwfj"
      },
      "source": [
        "#由图像可以看出，大部分的SVC的概率集中在0.5的位置\r\n",
        "#对于逻辑回顾和贝叶斯的方法，相对结果就好很多"
      ],
      "execution_count": 86,
      "outputs": []
    },
    {
      "cell_type": "code",
      "metadata": {
        "id": "RJDOjPrK0HW9"
      },
      "source": [
        "#根据这些概率图像，我们可以通过某种校准办法，使概率值更加地靠近标准的曲线，这就是下面的我们的方法\r\n",
        "#sklearn中有专门的校准函数，具体的数学原理就不再深究\r\n",
        "from sklearn.calibration import CalibratedClassifierCV"
      ],
      "execution_count": 87,
      "outputs": []
    },
    {
      "cell_type": "code",
      "metadata": {
        "id": "Aybg6h6N1B8h"
      },
      "source": [
        "name = [\"GaussianBayes\",\"Logistic\",\"Bayes+isotonic\",\"Bayes+sigmoid\"]\r\n",
        "\r\n",
        "gnb = GaussianNB()\r\n",
        "\r\n",
        "models = [gnb\r\n",
        "          ,LR(C=1., solver='lbfgs',max_iter=3000,multi_class=\"auto\")\r\n",
        "        #定义两种校准方式\r\n",
        "          ,CalibratedClassifierCV(gnb, cv=2, method='isotonic')\r\n",
        "          ,CalibratedClassifierCV(gnb, cv=2, method='sigmoid')]"
      ],
      "execution_count": 88,
      "outputs": []
    },
    {
      "cell_type": "code",
      "metadata": {
        "id": "RSXInoA71Hkw"
      },
      "source": [
        "#下面通过作图的方式来观察校准后的结果，首先将原来做出可靠性曲线和预测概率直方图的函数进行保证\r\n",
        "def plot_calib(models,name,Xtrain,Xtest,Ytrain,Ytest,n_bins=10):\r\n",
        "    \r\n",
        "    import matplotlib.pyplot as plt\r\n",
        "    from sklearn.metrics import brier_score_loss\r\n",
        "    from sklearn.calibration import calibration_curve\r\n",
        "    \r\n",
        "    fig, (ax1, ax2) = plt.subplots(1, 2,figsize=(20,6))\r\n",
        "    ax1.plot([0, 1], [0, 1], \"k:\", label=\"Perfectly calibrated\")\r\n",
        "\r\n",
        "    for clf, name_ in zip(models,name):\r\n",
        "        #第一部分是用来做可靠性曲线\r\n",
        "        clf.fit(Xtrain,Ytrain)\r\n",
        "        y_pred = clf.predict(Xtest)\r\n",
        "        #hasattr(obj,name)：查看一个类obj中是否存在名字为name的接口，存在则返回True\r\n",
        "        if hasattr(clf, \"predict_proba\"):\r\n",
        "            prob_pos = clf.predict_proba(Xtest)[:,1]\r\n",
        "        else:  # use decision function\r\n",
        "            prob_pos = clf.decision_function(Xtest)\r\n",
        "            prob_pos = (prob_pos - prob_pos.min()) / (prob_pos.max() - prob_pos.min())\r\n",
        "        #返回布里尔分数\r\n",
        "        clf_score = brier_score_loss(Ytest, prob_pos, pos_label=y.max())\r\n",
        "        trueproba, predproba = calibration_curve(Ytest, prob_pos,n_bins=n_bins)\r\n",
        "        ax1.plot(predproba, trueproba,\"s-\",label=\"%s (%1.3f)\" % (name_, clf_score))\r\n",
        "        #这一部分是用来做直方图，一行代码就足够了\r\n",
        "        ax2.hist(prob_pos, range=(0, 1), bins=n_bins, label=name_,histtype=\"step\",lw=2)\r\n",
        "    \r\n",
        "    ax2.set_ylabel(\"Distribution of probability\")\r\n",
        "    ax2.set_xlabel(\"Mean predicted probability\")\r\n",
        "    ax2.set_xlim([-0.05, 1.05])\r\n",
        "    ax2.legend(loc=9)\r\n",
        "    ax2.set_title(\"Distribution of probablity\")\r\n",
        "    ax1.set_ylabel(\"True probability for class 1\")\r\n",
        "    ax1.set_xlabel(\"Mean predcited probability\")\r\n",
        "    ax1.set_ylim([-0.05, 1.05])\r\n",
        "    ax1.legend()\r\n",
        "    ax1.set_title('Calibration plots(reliability curve)')\r\n",
        "    plt.show()"
      ],
      "execution_count": 89,
      "outputs": []
    },
    {
      "cell_type": "code",
      "metadata": {
        "colab": {
          "base_uri": "https://localhost:8080/",
          "height": 404
        },
        "id": "qASCZ66521ww",
        "outputId": "28b2da6f-5d27-4aca-d372-e415f605b61a"
      },
      "source": [
        "#下面开始通过图的方式进行展示\r\n",
        "plot_calib(models,name,Xtrain,Xtest,Ytrain,Ytest)"
      ],
      "execution_count": 90,
      "outputs": [
        {
          "output_type": "display_data",
          "data": {
            "image/png": "[encoded data removed]",
            "text/plain": [
              "<Figure size 1440x432 with 2 Axes>"
            ]
          },
          "metadata": {
            "tags": [],
            "needs_background": "light"
          }
        }
      ]
    },
    {
      "cell_type": "code",
      "metadata": {
        "id": "dWdaCn0j3DLN"
      },
      "source": [
        "#由图像可以观察到，几乎所有的线都在向45度的线进行倾斜，向内收拢\r\n",
        "#从直方图来看，所有的结果都在压低中间的概率，而增加两端的概率\r\n",
        "#发现在istonic校准下的曲线几乎和逻辑回归保持了一致\r\n",
        "#校准后的结果都变好了，但是这是对于概率的角度，但是对于分类来讲的话是什么样的结果"
      ],
      "execution_count": 91,
      "outputs": []
    },
    {
      "cell_type": "code",
      "metadata": {
        "colab": {
          "base_uri": "https://localhost:8080/"
        },
        "id": "paNuWLfQ4KkP",
        "outputId": "8d019254-ecf2-4c07-a4c9-a3e18e6bf227"
      },
      "source": [
        "name_svc = [\"SVC\",\"SVC+isotonic\",\"SVC+sigmoid\"]\r\n",
        "\r\n",
        "svc = SVC(kernel = \"linear\",gamma=1)\r\n",
        "\r\n",
        "models_svc = [svc\r\n",
        "              ,CalibratedClassifierCV(svc, cv=2, method='isotonic')\r\n",
        "              ,CalibratedClassifierCV(svc, cv=2, method='sigmoid')]\r\n",
        "\r\n",
        "for clf, name in zip(models_svc,name_svc):\r\n",
        "    clf.fit(Xtrain,Ytrain)\r\n",
        "    y_pred = clf.predict(Xtest)\r\n",
        "    if hasattr(clf, \"predict_proba\"):\r\n",
        "        prob_pos = clf.predict_proba(Xtest)[:, 1]\r\n",
        "    else:\r\n",
        "        prob_pos = clf.decision_function(Xtest)\r\n",
        "        prob_pos = (prob_pos - prob_pos.min()) / (prob_pos.max() - prob_pos.min())\r\n",
        "    clf_score = brier_score_loss(Ytest, prob_pos, pos_label=y.max())\r\n",
        "    score = clf.score(Xtest,Ytest)\r\n",
        "    print(\"{}:\".format(name))\r\n",
        "    print(\"\\tBrier:{:.4f}\".format(clf_score))\r\n",
        "    print(\"\\tAccuracy:{:.4f}\".format(score))"
      ],
      "execution_count": 92,
      "outputs": [
        {
          "output_type": "stream",
          "text": [
            "SVC:\n",
            "\tBrier:0.1630\n",
            "\tAccuracy:0.8633\n",
            "SVC+isotonic:\n",
            "\tBrier:0.0999\n",
            "\tAccuracy:0.8639\n",
            "SVC+sigmoid:\n",
            "\tBrier:0.0987\n",
            "\tAccuracy:0.8634\n"
          ],
          "name": "stdout"
        }
      ]
    },
    {
      "cell_type": "code",
      "metadata": {
        "id": "lxCBFpH44UAI"
      },
      "source": [
        "#由上面的结果观察到，概率的校准是越来越好，但是精确率的表现却并不是如此\r\n",
        "#对于SVC来讲，它不是基于该概率判断的，因此调整的方式可能会导致错误率增大\r\n",
        "#对于朴素贝叶斯来讲，我们的概率调整使概率更加地偏向样本，当面对测试集不同的概率分布时，则情况不太一致"
      ],
      "execution_count": 93,
      "outputs": []
    },
    {
      "cell_type": "markdown",
      "metadata": {
        "id": "uF6DslCZ5iBT"
      },
      "source": [
        "##多项式贝叶斯"
      ]
    },
    {
      "cell_type": "code",
      "metadata": {
        "id": "cXa-9RUW7Yfm"
      },
      "source": [
        "#多项式贝叶斯指给定标签后的每个特征属于多项式分布，不同特征之间是独立的\r\n",
        "#下面从文本话题分类的角度来进行理解，这时候各个参数的估计都更加的直接"
      ],
      "execution_count": 94,
      "outputs": []
    },
    {
      "cell_type": "code",
      "metadata": {
        "id": "SGp1nrnt9I__"
      },
      "source": [
        "from sklearn.preprocessing import MinMaxScaler\r\n",
        "from sklearn.naive_bayes import MultinomialNB\r\n",
        "from sklearn.model_selection import train_test_split\r\n",
        "from sklearn.datasets import make_blobs\r\n",
        "from sklearn.metrics import brier_score_loss"
      ],
      "execution_count": 95,
      "outputs": []
    },
    {
      "cell_type": "code",
      "metadata": {
        "id": "RVUPpmvGQ8ge"
      },
      "source": [
        "class_1 = 500 \n",
        "class_2 = 500 #两个类别分别设定500个样本\n",
        "centers = [[0.0, 0.0], [2.0, 2.0]] #设定两个类别的中心\n",
        "clusters_std = [0.5, 0.5] #设定两个类别的方差\n",
        "X, y = make_blobs(n_samples=[class_1, class_2],\n",
        "                  centers=centers,\n",
        "                  cluster_std=clusters_std,\n",
        "                  random_state=0, shuffle=False)"
      ],
      "execution_count": 99,
      "outputs": []
    },
    {
      "cell_type": "code",
      "metadata": {
        "id": "9wuleUxc_ot9"
      },
      "source": [
        "Xtrain, Xtest, Ytrain, Ytest = train_test_split(X,y\r\n",
        "                          ,test_size=0.3\r\n",
        "                          ,random_state=420)"
      ],
      "execution_count": 100,
      "outputs": []
    },
    {
      "cell_type": "code",
      "metadata": {
        "id": "x45AAG3w_qiN"
      },
      "source": [
        "#The multinomial Naive Bayes classifier is suitable for classification with discrete features (e.g., word counts for text classification).\r\n",
        "#The multinomial distribution normally requires integer feature counts. However, in practice, fractional counts such as tf-idf may also work.\r\n",
        "#tf-idf has probability as the number\r\n",
        "mms = MinMaxScaler().fit(Xtrain) #训练集上来实例化和训练我们的模型\r\n",
        "Xtrain_ = mms.transform(Xtrain)\r\n",
        "Xtest_ = mms.transform(Xtest)"
      ],
      "execution_count": 101,
      "outputs": []
    },
    {
      "cell_type": "code",
      "metadata": {
        "id": "rGGzMY27ECZK"
      },
      "source": [
        "mnb = MultinomialNB().fit(Xtrain_, Ytrain)\r\n",
        "#mnb.feature_log_prob"
      ],
      "execution_count": 102,
      "outputs": []
    },
    {
      "cell_type": "code",
      "metadata": {
        "id": "5NHBDI0WEFIU"
      },
      "source": [
        "#来试试看把Xtiain转换成分类型数据，根据一般的文本模型的角度建模\r\n",
        "#注意我们的Xtrain没有经过归一化，因为做哑变量之后自然所有的数据就不会又负数了\r\n",
        "from sklearn.preprocessing import KBinsDiscretizer #对连续性变量进行分箱\r\n",
        "#分箱的过程会记录顺序，因此顺序一定要弄清楚\r\n",
        "kbs = KBinsDiscretizer(n_bins=10, encode='onehot').fit(Xtrain)"
      ],
      "execution_count": 107,
      "outputs": []
    },
    {
      "cell_type": "code",
      "metadata": {
        "id": "beAz8oXeER1Y"
      },
      "source": [
        "Xtrain_ = kbs.transform(Xtrain)\r\n",
        "Xtest_ = kbs.transform(Xtest)"
      ],
      "execution_count": 108,
      "outputs": []
    },
    {
      "cell_type": "code",
      "metadata": {
        "colab": {
          "base_uri": "https://localhost:8080/"
        },
        "id": "SuqlG4fsEWzE",
        "outputId": "337e4b2f-1d8e-4288-986e-9b0f9f13cd57"
      },
      "source": [
        "Xtrain_.shape"
      ],
      "execution_count": 109,
      "outputs": [
        {
          "output_type": "execute_result",
          "data": {
            "text/plain": [
              "(700, 20)"
            ]
          },
          "metadata": {
            "tags": []
          },
          "execution_count": 109
        }
      ]
    },
    {
      "cell_type": "code",
      "metadata": {
        "id": "zpgQj1b2FbcW"
      },
      "source": [
        "mnb = MultinomialNB().fit(Xtrain_, Ytrain)"
      ],
      "execution_count": 110,
      "outputs": []
    },
    {
      "cell_type": "code",
      "metadata": {
        "colab": {
          "base_uri": "https://localhost:8080/"
        },
        "id": "oQNVU52mFmFe",
        "outputId": "2290c0aa-1576-4b37-8135-b20343097a91"
      },
      "source": [
        "#观察到分数十分的高，也就是说多项式贝叶斯在文本类模型上的结果比较好\r\n",
        "mnb.score(Xtest_,Ytest)"
      ],
      "execution_count": 111,
      "outputs": [
        {
          "output_type": "execute_result",
          "data": {
            "text/plain": [
              "0.9966666666666667"
            ]
          },
          "metadata": {
            "tags": []
          },
          "execution_count": 111
        }
      ]
    },
    {
      "cell_type": "markdown",
      "metadata": {
        "id": "ON1jV-V4Fn5a"
      },
      "source": [
        "##伯努利贝叶斯"
      ]
    },
    {
      "cell_type": "code",
      "metadata": {
        "id": "rKioIns6GigV"
      },
      "source": [
        "#现在的理解，仔细地理解还是需要看一下Stanford的公开课\r\n",
        "#伯努利贝叶斯对所有词进行同时建模，即一条句子就是一个试验\r\n",
        "#对于多项式的贝叶斯来说，每一个词单独建模，它具有一个概率，而句子就是n次独立的试验"
      ],
      "execution_count": 112,
      "outputs": []
    },
    {
      "cell_type": "code",
      "metadata": {
        "id": "zl0jLVxqOftq"
      },
      "source": [
        "from sklearn.naive_bayes import BernoulliNB"
      ],
      "execution_count": 113,
      "outputs": []
    },
    {
      "cell_type": "code",
      "metadata": {
        "colab": {
          "base_uri": "https://localhost:8080/"
        },
        "id": "MH4u7X2rOihx",
        "outputId": "061d0fb0-9d53-4784-f038-1d4f6d263381"
      },
      "source": [
        "#设置二值化阈值为0.5\r\n",
        "bnl = BernoulliNB(binarize=0.5).fit(Xtrain_, Ytrain)\r\n",
        "bnl.score(Xtest_,Ytest)"
      ],
      "execution_count": 114,
      "outputs": [
        {
          "output_type": "execute_result",
          "data": {
            "text/plain": [
              "0.9966666666666667"
            ]
          },
          "metadata": {
            "tags": []
          },
          "execution_count": 114
        }
      ]
    },
    {
      "cell_type": "code",
      "metadata": {
        "id": "kUWoxkvlOpPg"
      },
      "source": [
        "##观察到效果非常好，现在可以再取一个模型与它比较\r\n",
        "from sklearn.ensemble import RandomForestClassifier\r\n",
        "from sklearn.svm import SVC"
      ],
      "execution_count": 115,
      "outputs": []
    },
    {
      "cell_type": "code",
      "metadata": {
        "id": "HiCqlvuZPRIs"
      },
      "source": [
        "rfc = RandomForestClassifier(n_estimators=100)\r\n",
        "svm = SVC(kernel=\"rbf\",gamma=1)"
      ],
      "execution_count": 116,
      "outputs": []
    },
    {
      "cell_type": "code",
      "metadata": {
        "colab": {
          "base_uri": "https://localhost:8080/"
        },
        "id": "AEuHwAaqPbBS",
        "outputId": "316c20f0-0d2e-439f-d252-239a2355a460"
      },
      "source": [
        "rfc = rfc.fit(Xtrain_,Ytrain)\r\n",
        "rfc.score(Xtest_,Ytest)"
      ],
      "execution_count": 118,
      "outputs": [
        {
          "output_type": "execute_result",
          "data": {
            "text/plain": [
              "0.9966666666666667"
            ]
          },
          "metadata": {
            "tags": []
          },
          "execution_count": 118
        }
      ]
    },
    {
      "cell_type": "code",
      "metadata": {
        "colab": {
          "base_uri": "https://localhost:8080/"
        },
        "id": "oTUOWnGxPhD2",
        "outputId": "439f828c-85ea-421d-85b9-532ee1b9427c"
      },
      "source": [
        "svm = svm.fit(Xtrain_,Ytrain)\r\n",
        "svm.score(Xtest_,Ytest)"
      ],
      "execution_count": 119,
      "outputs": [
        {
          "output_type": "execute_result",
          "data": {
            "text/plain": [
              "0.9966666666666667"
            ]
          },
          "metadata": {
            "tags": []
          },
          "execution_count": 119
        }
      ]
    },
    {
      "cell_type": "code",
      "metadata": {
        "id": "gry9W5hAPtIa"
      },
      "source": [
        "#观察到三个模型的分数一致，也就是说贝叶斯方法在离散之后的分类的效果特别好"
      ],
      "execution_count": 120,
      "outputs": []
    },
    {
      "cell_type": "markdown",
      "metadata": {
        "id": "eHshp00CP4dm"
      },
      "source": [
        "##不均衡样本的贝叶斯方法"
      ]
    },
    {
      "cell_type": "code",
      "metadata": {
        "id": "DA8t0E2AP7P2"
      },
      "source": [
        "from sklearn.naive_bayes import MultinomialNB, GaussianNB, BernoulliNB\r\n",
        "from sklearn.model_selection import train_test_split\r\n",
        "from sklearn.datasets import make_blobs \r\n",
        "from sklearn.preprocessing import KBinsDiscretizer\r\n",
        "from sklearn.metrics import brier_score_loss as BS,recall_score,roc_auc_score as AUC"
      ],
      "execution_count": 122,
      "outputs": []
    },
    {
      "cell_type": "code",
      "metadata": {
        "id": "E3aCgeltP9hs"
      },
      "source": [
        "class_1 = 50000 #多数类为50000个样本\r\n",
        "class_2 = 500 #少数类为500个样本 1%\r\n",
        "centers = [[0.0, 0.0], [5.0, 5.0]] #设定两个类别的中心\r\n",
        "clusters_std = [3, 1] #设定两个类别的方差\r\n",
        "X, y = make_blobs(n_samples=[class_1, class_2],\r\n",
        "                  centers=centers,\r\n",
        "                  cluster_std=clusters_std,\r\n",
        "                  random_state=0, shuffle=False)"
      ],
      "execution_count": 123,
      "outputs": []
    },
    {
      "cell_type": "code",
      "metadata": {
        "id": "JZ7a2OT9P_-7"
      },
      "source": [
        "name = [\"Multinomial\",\"Gaussian\",\"Bernoulli\"]\r\n",
        "models = [MultinomialNB(),GaussianNB(),BernoulliNB()]"
      ],
      "execution_count": 124,
      "outputs": []
    },
    {
      "cell_type": "code",
      "metadata": {
        "colab": {
          "base_uri": "https://localhost:8080/"
        },
        "id": "hMGmaAx9QCNj",
        "outputId": "5aaa6d7a-e16e-451b-9f96-88a788b74ab7"
      },
      "source": [
        "for name,clf in zip(name,models):\r\n",
        "    #分测试集和训练集\r\n",
        "    Xtrain, Xtest, Ytrain, Ytest = train_test_split(X,y\r\n",
        "                              ,test_size=0.3\r\n",
        "                              ,random_state=420)\r\n",
        "    #预处理\r\n",
        "    if name != \"Gaussian\":\r\n",
        "        kbs = KBinsDiscretizer(n_bins=10, encode='onehot').fit(Xtrain)\r\n",
        "        Xtrain = kbs.transform(Xtrain)\r\n",
        "        Xtest = kbs.transform(Xtest)\r\n",
        "    \r\n",
        "    #拟合&结果\r\n",
        "    clf.fit(Xtrain,Ytrain)\r\n",
        "    y_pred = clf.predict(Xtest)\r\n",
        "    proba = clf.predict_proba(Xtest)[:,1]\r\n",
        "    score = clf.score(Xtest,Ytest) #准确率\r\n",
        "    print(name)\r\n",
        "    print(\"\\tBrier:{:.3f}\".format(BS(Ytest,proba,pos_label=1)))\r\n",
        "    print(\"\\tAccuracy:{:.3f}\".format(score))\r\n",
        "    print(\"\\tRecall:{:.3f}\".format(recall_score(Ytest,y_pred)))\r\n",
        "    print(\"\\tAUC:{:.3f}\".format(AUC(Ytest,proba)))"
      ],
      "execution_count": 126,
      "outputs": [
        {
          "output_type": "stream",
          "text": [
            "Multinomial\n",
            "\tBrier:0.007\n",
            "\tAccuracy:0.990\n",
            "\tRecall:0.000\n",
            "\tAUC:0.991\n",
            "Gaussian\n",
            "\tBrier:0.006\n",
            "\tAccuracy:0.990\n",
            "\tRecall:0.438\n",
            "\tAUC:0.993\n",
            "Bernoulli\n",
            "\tBrier:0.009\n",
            "\tAccuracy:0.987\n",
            "\tRecall:0.771\n",
            "\tAUC:0.987\n"
          ],
          "name": "stdout"
        }
      ]
    },
    {
      "cell_type": "code",
      "metadata": {
        "id": "LCVtYbR3TG0M"
      },
      "source": [
        "#由上面的结果可以看出，召回率都不太令人满意，因此我们渴望新的方式，能够更好地处理不平衡的样本"
      ],
      "execution_count": 129,
      "outputs": []
    },
    {
      "cell_type": "code",
      "metadata": {
        "colab": {
          "base_uri": "https://localhost:8080/"
        },
        "id": "tB-mRet8QEY1",
        "outputId": "91b3d01a-f0ea-43f8-e851-13585dd12f91"
      },
      "source": [
        "#利用互补贝叶斯方法来解决样本不均衡的问题\r\n",
        "#通过对比看结果\r\n",
        "from sklearn.naive_bayes import ComplementNB\r\n",
        "from time import time\r\n",
        "import datetime\r\n",
        "\r\n",
        "name = [\"Multinomial\",\"Gaussian\",\"Bernoulli\",\"Complement\"]\r\n",
        "models = [MultinomialNB(),GaussianNB(),BernoulliNB(),ComplementNB()]\r\n",
        "\r\n",
        "for name,clf in zip(name,models):\r\n",
        "    times = time()\r\n",
        "    Xtrain, Xtest, Ytrain, Ytest = train_test_split(X,y\r\n",
        "                              ,test_size=0.3\r\n",
        "                              ,random_state=420)\r\n",
        "    #预处理\r\n",
        "    if name != \"Gaussian\":\r\n",
        "        kbs = KBinsDiscretizer(n_bins=10, encode='onehot').fit(Xtrain)\r\n",
        "        Xtrain = kbs.transform(Xtrain)\r\n",
        "        Xtest = kbs.transform(Xtest)\r\n",
        "    \r\n",
        "    clf.fit(Xtrain,Ytrain)\r\n",
        "    y_pred = clf.predict(Xtest)\r\n",
        "    proba = clf.predict_proba(Xtest)[:,1]\r\n",
        "    score = clf.score(Xtest,Ytest)\r\n",
        "    print(name)\r\n",
        "    print(\"\\tBrier:{:.3f}\".format(BS(Ytest,proba,pos_label=1)))\r\n",
        "    print(\"\\tAccuracy:{:.3f}\".format(score))\r\n",
        "    print(\"\\tRecall:{:.3f}\".format(recall_score(Ytest,y_pred)))\r\n",
        "    print(\"\\tAUC:{:.3f}\".format(AUC(Ytest,proba)))\r\n",
        "    print(datetime.datetime.fromtimestamp(time()-times).strftime(\"%M:%S:%f\"))"
      ],
      "execution_count": 128,
      "outputs": [
        {
          "output_type": "stream",
          "text": [
            "Multinomial\n",
            "\tBrier:0.007\n",
            "\tAccuracy:0.990\n",
            "\tRecall:0.000\n",
            "\tAUC:0.991\n",
            "00:00:049008\n",
            "Gaussian\n",
            "\tBrier:0.006\n",
            "\tAccuracy:0.990\n",
            "\tRecall:0.438\n",
            "\tAUC:0.993\n",
            "00:00:028771\n",
            "Bernoulli\n",
            "\tBrier:0.009\n",
            "\tAccuracy:0.987\n",
            "\tRecall:0.771\n",
            "\tAUC:0.987\n",
            "00:00:048505\n",
            "Complement\n",
            "\tBrier:0.038\n",
            "\tAccuracy:0.953\n",
            "\tRecall:0.987\n",
            "\tAUC:0.991\n",
            "00:00:047547\n"
          ],
          "name": "stdout"
        }
      ]
    },
    {
      "cell_type": "code",
      "metadata": {
        "id": "GDDLTN_6S_mq"
      },
      "source": [
        "#由上面的结果可以看出互补贝叶斯通过牺牲精确度，达到了很高的recall\r\n",
        "#这在异常检测中的应用是非常可观的"
      ],
      "execution_count": 130,
      "outputs": []
    },
    {
      "cell_type": "markdown",
      "metadata": {
        "id": "K0d9MG7zThdd"
      },
      "source": [
        "##文本分类案例"
      ]
    },
    {
      "cell_type": "markdown",
      "metadata": {
        "id": "XYyZcl62Tjk-"
      },
      "source": [
        "###文本编码技术"
      ]
    },
    {
      "cell_type": "code",
      "metadata": {
        "id": "CgtgKN_sTrB-"
      },
      "source": [
        "#机器学习算法可以处理的数据应该是数字\r\n",
        "#对于文本处理来讲，我们必须对其编码\r\n",
        "#单词编码和文本编码\r\n",
        "#最简单的方式就是对出现的单词进行onehot的编码即可，注意多设一个unk\r\n",
        "#但是对于单词来说，所需要的向量过长，因此这样是不可靠的\r\n",
        "#由此我们还可以有其它的编码方式，3个3个为一个编码单位\r\n",
        "#对于文本编码来讲，通常我们会记录所有单词，然后计算出现次数为特征值，构建一个向量"
      ],
      "execution_count": 134,
      "outputs": []
    },
    {
      "cell_type": "code",
      "metadata": {
        "id": "pBsUpcc5UdYD"
      },
      "source": [
        "sample = [\"Machine learning is fascinating, it is wonderful\"\r\n",
        "          ,\"Machine learning is a sensational techonology\"\r\n",
        "          ,\"Elsa is a popular character\"]"
      ],
      "execution_count": 135,
      "outputs": []
    },
    {
      "cell_type": "code",
      "metadata": {
        "id": "UGmBFrV5Ug1l"
      },
      "source": [
        "from sklearn.feature_extraction.text import CountVectorizer"
      ],
      "execution_count": 136,
      "outputs": []
    },
    {
      "cell_type": "code",
      "metadata": {
        "id": "Y_tWOUSgUjsS"
      },
      "source": [
        "vec = CountVectorizer()"
      ],
      "execution_count": 137,
      "outputs": []
    },
    {
      "cell_type": "code",
      "metadata": {
        "id": "6-mwoNWNU7N5"
      },
      "source": [
        "X = vec.fit_transform(sample)"
      ],
      "execution_count": 138,
      "outputs": []
    },
    {
      "cell_type": "code",
      "metadata": {
        "colab": {
          "base_uri": "https://localhost:8080/",
          "height": 135
        },
        "id": "KDMLtY7pU9kl",
        "outputId": "5bf72cfa-cba6-44a0-9748-235797043f07"
      },
      "source": [
        "#利用df查看稀疏矩阵的值\r\n",
        "import pandas as pd\r\n",
        "pd.DataFrame(X.toarray(),columns=vec.get_feature_names())"
      ],
      "execution_count": 146,
      "outputs": [
        {
          "output_type": "execute_result",
          "data": {
            "text/html": [
              "<div>\n",
              "<style scoped>\n",
              "    .dataframe tbody tr th:only-of-type {\n",
              "        vertical-align: middle;\n",
              "    }\n",
              "\n",
              "    .dataframe tbody tr th {\n",
              "        vertical-align: top;\n",
              "    }\n",
              "\n",
              "    .dataframe thead th {\n",
              "        text-align: right;\n",
              "    }\n",
              "</style>\n",
              "<table border=\"1\" class=\"dataframe\">\n",
              "  <thead>\n",
              "    <tr style=\"text-align: right;\">\n",
              "      <th></th>\n",
              "      <th>character</th>\n",
              "      <th>elsa</th>\n",
              "      <th>fascinating</th>\n",
              "      <th>is</th>\n",
              "      <th>it</th>\n",
              "      <th>learning</th>\n",
              "      <th>machine</th>\n",
              "      <th>popular</th>\n",
              "      <th>sensational</th>\n",
              "      <th>techonology</th>\n",
              "      <th>wonderful</th>\n",
              "    </tr>\n",
              "  </thead>\n",
              "  <tbody>\n",
              "    <tr>\n",
              "      <th>0</th>\n",
              "      <td>0</td>\n",
              "      <td>0</td>\n",
              "      <td>1</td>\n",
              "      <td>2</td>\n",
              "      <td>1</td>\n",
              "      <td>1</td>\n",
              "      <td>1</td>\n",
              "      <td>0</td>\n",
              "      <td>0</td>\n",
              "      <td>0</td>\n",
              "      <td>1</td>\n",
              "    </tr>\n",
              "    <tr>\n",
              "      <th>1</th>\n",
              "      <td>0</td>\n",
              "      <td>0</td>\n",
              "      <td>0</td>\n",
              "      <td>1</td>\n",
              "      <td>0</td>\n",
              "      <td>1</td>\n",
              "      <td>1</td>\n",
              "      <td>0</td>\n",
              "      <td>1</td>\n",
              "      <td>1</td>\n",
              "      <td>0</td>\n",
              "    </tr>\n",
              "    <tr>\n",
              "      <th>2</th>\n",
              "      <td>1</td>\n",
              "      <td>1</td>\n",
              "      <td>0</td>\n",
              "      <td>1</td>\n",
              "      <td>0</td>\n",
              "      <td>0</td>\n",
              "      <td>0</td>\n",
              "      <td>1</td>\n",
              "      <td>0</td>\n",
              "      <td>0</td>\n",
              "      <td>0</td>\n",
              "    </tr>\n",
              "  </tbody>\n",
              "</table>\n",
              "</div>"
            ],
            "text/plain": [
              "   character  elsa  fascinating  ...  sensational  techonology  wonderful\n",
              "0          0     0            1  ...            0            0          1\n",
              "1          0     0            0  ...            1            1          0\n",
              "2          1     1            0  ...            0            0          0\n",
              "\n",
              "[3 rows x 11 columns]"
            ]
          },
          "metadata": {
            "tags": []
          },
          "execution_count": 146
        }
      ]
    },
    {
      "cell_type": "code",
      "metadata": {
        "id": "q6zQ8U6wU-7s"
      },
      "source": [
        "#我们也可以进行tfidf的转换\r\n",
        "#原理放到后面需要仔细学习，大致就是把常出现的无用词汇的频率给压缩了，避免不必要的影响，因为这种词对话题分类没有影响\r\n",
        "from sklearn.feature_extraction.text import TfidfVectorizer as TFIDF\r\n",
        "vec = TFIDF()"
      ],
      "execution_count": 148,
      "outputs": []
    },
    {
      "cell_type": "code",
      "metadata": {
        "id": "eRTSHxxjVWlu"
      },
      "source": [
        "X = vec.fit_transform(sample)"
      ],
      "execution_count": 149,
      "outputs": []
    },
    {
      "cell_type": "markdown",
      "metadata": {
        "id": "ANXF4vMHWYH7"
      },
      "source": [
        "###案例数据获取"
      ]
    },
    {
      "cell_type": "code",
      "metadata": {
        "id": "9GJpUMtnWduE"
      },
      "source": [
        "from sklearn.datasets import fetch_20newsgroups"
      ],
      "execution_count": 150,
      "outputs": []
    },
    {
      "cell_type": "code",
      "metadata": {
        "colab": {
          "base_uri": "https://localhost:8080/"
        },
        "id": "Dny_nPWoWiLH",
        "outputId": "f89fb176-1985-4399-d2e1-83ad5b98499a"
      },
      "source": [
        "data = fetch_20newsgroups()"
      ],
      "execution_count": 151,
      "outputs": [
        {
          "output_type": "stream",
          "text": [
            "Downloading 20news dataset. This may take a few minutes.\n",
            "Downloading dataset from https://ndownloader.figshare.com/files/5975967 (14 MB)\n"
          ],
          "name": "stderr"
        }
      ]
    },
    {
      "cell_type": "code",
      "metadata": {
        "id": "GXFZ4PhpWkFa"
      },
      "source": [
        "categories = [\"sci.space\" #科学技术 - 太空\r\n",
        "              ,\"rec.sport.hockey\" #运动 - 曲棍球\r\n",
        "              ,\"talk.politics.guns\" #政治 - 枪支问题\r\n",
        "              ,\"talk.politics.mideast\"] #政治 - 中东问题\r\n",
        "\r\n",
        "train = fetch_20newsgroups(subset=\"train\",categories = categories)\r\n",
        "test = fetch_20newsgroups(subset=\"test\",categories = categories)"
      ],
      "execution_count": 152,
      "outputs": []
    },
    {
      "cell_type": "code",
      "metadata": {
        "colab": {
          "base_uri": "https://localhost:8080/"
        },
        "id": "LNnXHI7bW2a2",
        "outputId": "64fd7acc-85e0-414a-b784-95a3c4c073c3"
      },
      "source": [
        "train.target[:5]"
      ],
      "execution_count": 157,
      "outputs": [
        {
          "output_type": "execute_result",
          "data": {
            "text/plain": [
              "array([0, 1, 3, 1, 1])"
            ]
          },
          "metadata": {
            "tags": []
          },
          "execution_count": 157
        }
      ]
    },
    {
      "cell_type": "markdown",
      "metadata": {
        "id": "ZGyK4ccFZAYX"
      },
      "source": [
        "###模型搭建\r\n"
      ]
    },
    {
      "cell_type": "code",
      "metadata": {
        "id": "VY89eLwBW7_-"
      },
      "source": [
        "from sklearn.feature_extraction.text import TfidfVectorizer as TFIDF"
      ],
      "execution_count": 158,
      "outputs": []
    },
    {
      "cell_type": "code",
      "metadata": {
        "id": "VpcrSXbbXknV"
      },
      "source": [
        "Xtrain = train.data\r\n",
        "Xtest = test.data\r\n",
        "Ytrain = train.target\r\n",
        "Ytest = test.target"
      ],
      "execution_count": 159,
      "outputs": []
    },
    {
      "cell_type": "code",
      "metadata": {
        "id": "bqHkTL_KXm_5"
      },
      "source": [
        "tfidf = TFIDF().fit(Xtrain)\r\n",
        "Xtrain_ = tfidf.transform(Xtrain)\r\n",
        "Xtest_ = tfidf.transform(Xtest)"
      ],
      "execution_count": 160,
      "outputs": []
    },
    {
      "cell_type": "code",
      "metadata": {
        "id": "qxWlL_ssYO6t"
      },
      "source": [
        "name = [\"Multinomial\",\"Complement\",\"Bournulli\"]\r\n",
        "#注意高斯朴素贝叶斯不接受稀疏矩阵\r\n",
        "models = [MultinomialNB(),ComplementNB(),BernoulliNB()]"
      ],
      "execution_count": 183,
      "outputs": []
    },
    {
      "cell_type": "code",
      "metadata": {
        "id": "76wFsCNjYZb1"
      },
      "source": [
        "#由于多分类下在新的scikit-learn中不能使用布里尔分数\r\n",
        "from sklearn.metrics import confusion_matrix as CM"
      ],
      "execution_count": 184,
      "outputs": []
    },
    {
      "cell_type": "code",
      "metadata": {
        "colab": {
          "base_uri": "https://localhost:8080/"
        },
        "id": "ZiplqJ5tXpd9",
        "outputId": "59ab691f-478b-4dd6-8aad-939faef7aaf0"
      },
      "source": [
        "for name,clf in zip(name,models):\r\n",
        "    clf.fit(Xtrain_,Ytrain)\r\n",
        "    y_pred = clf.predict(Xtest_)\r\n",
        "    proba = clf.predict_proba(Xtest_)\r\n",
        "    score = clf.score(Xtest_,Ytest)\r\n",
        "    recall = recall_score(Ytest,y_pred,average=\"weighted\")\r\n",
        "    print(name)\r\n",
        "    print(\"\\trecall:{:.3f}\".format(score))\r\n",
        "    print(\"\\tAccuracy:{:.3f}\".format(score))\r\n",
        "    print(\"\\n\")"
      ],
      "execution_count": 186,
      "outputs": [
        {
          "output_type": "stream",
          "text": [
            "B\n",
            "\trecall:0.975\n",
            "\tAccuracy:0.975\n",
            "\n",
            "\n",
            "o\n",
            "\trecall:0.986\n",
            "\tAccuracy:0.986\n",
            "\n",
            "\n",
            "u\n",
            "\trecall:0.902\n",
            "\tAccuracy:0.902\n",
            "\n",
            "\n"
          ],
          "name": "stdout"
        }
      ]
    },
    {
      "cell_type": "code",
      "metadata": {
        "id": "eIjfmm6YYLip"
      },
      "source": [
        "#这里观察到互补贝叶斯的结果最好，它几乎在准确预测和recall的地方都做得很好"
      ],
      "execution_count": null,
      "outputs": []
    }
  ]
}