{
  "nbformat": 4,
  "nbformat_minor": 0,
  "metadata": {
    "colab": {
      "name": "FeatureEngineering.ipynb",
      "provenance": [],
      "collapsed_sections": [],
      "toc_visible": true,
      "authorship_tag": "ABX9TyMq4dRV/mixinsMibsPXKEC",
      "include_colab_link": true
    },
    "kernelspec": {
      "name": "python3",
      "display_name": "Python 3"
    }
  },
  "cells": [
    {
      "cell_type": "markdown",
      "metadata": {
        "id": "view-in-github",
        "colab_type": "text"
      },
      "source": [
        "<a href=\"https://colab.research.google.com/github/13693763686/data-analysis/blob/master/scikit-learn%20notebooks/FeatureEngineering.ipynb\" target=\"_parent\"><img src=\"https://colab.research.google.com/assets/colab-badge.svg\" alt=\"Open In Colab\"/></a>"
      ]
    },
    {
      "cell_type": "markdown",
      "metadata": {
        "id": "EEDfYt8Px4ZV"
      },
      "source": [
        "#特征工程"
      ]
    },
    {
      "cell_type": "code",
      "metadata": {
        "id": "FWqxHJWhyAnG"
      },
      "source": [
        "#现实的业务数据通常都是高维的数据，高维的数据本身计算量大，并且会混入大量的噪声\r\n",
        "#机器学习建模一定要进行特征工程，对特征进行处理\r\n",
        "#特征工程包括特征提取，特征创造和特征选址\r\n",
        "#特征提取是从非结构化的数据中提取特征，特征创造是利用已有的数据进行衍生得到\r\n",
        "#特征选择是指从特征中选择有意义的特征"
      ],
      "execution_count": 1,
      "outputs": []
    },
    {
      "cell_type": "code",
      "metadata": {
        "id": "xb1bHM6AypAs"
      },
      "source": [
        "#数据预处理的过程包括\r\n",
        "#缺失值，异常值，量纲统一，离散化，分类的编码，标签的编码\r\n",
        "#这些过程在前面的案例中已经考虑过，故在此不再重复\r\n",
        "#下面主要展示特征工程中特征选择的过程"
      ],
      "execution_count": 2,
      "outputs": []
    },
    {
      "cell_type": "markdown",
      "metadata": {
        "id": "jMNC7MLEzWzK"
      },
      "source": [
        "##特征选择"
      ]
    },
    {
      "cell_type": "markdown",
      "metadata": {
        "id": "u6UpyaSGzYZZ"
      },
      "source": [
        "###读入数据，分离特征和标签"
      ]
    },
    {
      "cell_type": "code",
      "metadata": {
        "id": "HzNQ8o3Vzi5Z"
      },
      "source": [
        "import pandas as pd\r\n",
        "data = pd.read_csv(\"digit recognizor.csv\")\r\n",
        "data.dropna(inplace=True)"
      ],
      "execution_count": 22,
      "outputs": []
    },
    {
      "cell_type": "code",
      "metadata": {
        "id": "4nJ7QVRzzpAp"
      },
      "source": [
        "X = data.iloc[:,1:]\r\n",
        "y = data.iloc[:,0]"
      ],
      "execution_count": 23,
      "outputs": []
    },
    {
      "cell_type": "markdown",
      "metadata": {
        "id": "Q7Krhw-Szqef"
      },
      "source": [
        "###特征过滤"
      ]
    },
    {
      "cell_type": "markdown",
      "metadata": {
        "id": "Usg7vvf02Chb"
      },
      "source": [
        "####数值过滤方法"
      ]
    },
    {
      "cell_type": "code",
      "metadata": {
        "id": "ASxD10prz1KT"
      },
      "source": [
        "#特征过滤的思想很简单，利用数据本身的信息，消去方差很小的数据，这意味着它们对标签的解释没有贡献，类似于PCA，以方差作为衡量标准\r\n",
        "#通过方差过滤和描述性统计，也可以很轻易地实现留下一定数量的列\r\n",
        "#相关性过滤的话直接考虑特征列与标签列的相关关系\r\n",
        "#过滤方法包括卡方过滤，F检验，互信息，这三种方法都是基于统计理论的"
      ],
      "execution_count": 6,
      "outputs": []
    },
    {
      "cell_type": "markdown",
      "metadata": {
        "id": "7RN3YTUK2A-o"
      },
      "source": [
        "####embedded嵌入法"
      ]
    },
    {
      "cell_type": "code",
      "metadata": {
        "id": "U8c-lxjD2Kna"
      },
      "source": [
        "#上述的统计特性的过滤方法相对还是太过简单，嵌入法是更加复杂的方法\r\n",
        "#嵌入法利用将要建模的模型所带的权重进行筛选过滤，更好地同模型结合"
      ],
      "execution_count": 7,
      "outputs": []
    },
    {
      "cell_type": "code",
      "metadata": {
        "id": "jye1UkOH2ZQK"
      },
      "source": [
        "#下面演示随机森林的嵌入法"
      ],
      "execution_count": 8,
      "outputs": []
    },
    {
      "cell_type": "code",
      "metadata": {
        "id": "RZplApS35AT8"
      },
      "source": [
        "from sklearn.feature_selection import SelectFromModel\r\n",
        "from sklearn.ensemble import RandomForestClassifier as RFC\r\n",
        "from sklearn.model_selection import cross_val_score"
      ],
      "execution_count": 33,
      "outputs": []
    },
    {
      "cell_type": "code",
      "metadata": {
        "id": "ftjnQn1X5K3R"
      },
      "source": [
        "rfc = RFC(n_estimators=10,random_state=100)\r\n",
        "X_embedded = SelectFromModel(rfc,threshold=0.005).fit_transform(X,y)"
      ],
      "execution_count": 25,
      "outputs": []
    },
    {
      "cell_type": "code",
      "metadata": {
        "colab": {
          "base_uri": "https://localhost:8080/"
        },
        "id": "VTsrq3OF5WSA",
        "outputId": "ceef3121-38e1-4ad0-f46b-079520c285fe"
      },
      "source": [
        "#观察到经过一次的选择，特征由784个降维到了51个\r\n",
        "X_embedded.shape"
      ],
      "execution_count": 27,
      "outputs": [
        {
          "output_type": "execute_result",
          "data": {
            "text/plain": [
              "(42000, 51)"
            ]
          },
          "metadata": {
            "tags": []
          },
          "execution_count": 27
        }
      ]
    },
    {
      "cell_type": "code",
      "metadata": {
        "id": "5HNJrCqb6G3a"
      },
      "source": [
        "#经常用的招数，利用学习曲线，把区间变窄，选出更好的参数\r\n",
        "import numpy as np\r\n",
        "import matplotlib.pyplot as plt\r\n",
        "rfc.fit(X,y).feature_importances_\r\n",
        "threshold = np.linspace(0,(rfc.fit(X,y).feature_importances_).max(),20)"
      ],
      "execution_count": 30,
      "outputs": []
    },
    {
      "cell_type": "code",
      "metadata": {
        "id": "70eZrC7F7xcG"
      },
      "source": [
        "threshold"
      ],
      "execution_count": null,
      "outputs": []
    },
    {
      "cell_type": "code",
      "metadata": {
        "colab": {
          "base_uri": "https://localhost:8080/",
          "height": 243
        },
        "id": "ROwDy8IC6zSc",
        "outputId": "5f3b698b-337d-4060-8e17-b5161245e15a"
      },
      "source": [
        "score = []\r\n",
        "for i in threshold:\r\n",
        "  X_embedded = SelectFromModel(rfc,threshold=i).fit_transform(X,y)\r\n",
        "  once = cross_val_score(rfc,X_embedded,y,cv=5).mean()\r\n",
        "  score.append(once)\r\n"
      ],
      "execution_count": 36,
      "outputs": [
        {
          "output_type": "error",
          "ename": "NameError",
          "evalue": "ignored",
          "traceback": [
            "\u001b[0;31m---------------------------------------------------------------------------\u001b[0m",
            "\u001b[0;31mNameError\u001b[0m                                 Traceback (most recent call last)",
            "\u001b[0;32m<ipython-input-36-0f2fc7aa41f2>\u001b[0m in \u001b[0;36m<module>\u001b[0;34m()\u001b[0m\n\u001b[1;32m      4\u001b[0m   \u001b[0monce\u001b[0m \u001b[0;34m=\u001b[0m \u001b[0mcross_val_score\u001b[0m\u001b[0;34m(\u001b[0m\u001b[0mrfc\u001b[0m\u001b[0;34m,\u001b[0m\u001b[0mX_embedded\u001b[0m\u001b[0;34m,\u001b[0m\u001b[0my\u001b[0m\u001b[0;34m,\u001b[0m\u001b[0mcv\u001b[0m\u001b[0;34m=\u001b[0m\u001b[0;36m5\u001b[0m\u001b[0;34m)\u001b[0m\u001b[0;34m.\u001b[0m\u001b[0mmean\u001b[0m\u001b[0;34m(\u001b[0m\u001b[0;34m)\u001b[0m\u001b[0;34m\u001b[0m\u001b[0;34m\u001b[0m\u001b[0m\n\u001b[1;32m      5\u001b[0m   \u001b[0mscore\u001b[0m\u001b[0;34m.\u001b[0m\u001b[0mappend\u001b[0m\u001b[0;34m(\u001b[0m\u001b[0monce\u001b[0m\u001b[0;34m)\u001b[0m\u001b[0;34m\u001b[0m\u001b[0;34m\u001b[0m\u001b[0m\n\u001b[0;32m----> 6\u001b[0;31m \u001b[0mplt\u001b[0m\u001b[0;34m.\u001b[0m\u001b[0mplot\u001b[0m\u001b[0;34m(\u001b[0m\u001b[0mthrsehold\u001b[0m\u001b[0;34m,\u001b[0m\u001b[0mscore\u001b[0m\u001b[0;34m)\u001b[0m\u001b[0;34m\u001b[0m\u001b[0;34m\u001b[0m\u001b[0m\n\u001b[0m\u001b[1;32m      7\u001b[0m \u001b[0mplt\u001b[0m\u001b[0;34m.\u001b[0m\u001b[0mshow\u001b[0m\u001b[0;34m(\u001b[0m\u001b[0;34m)\u001b[0m\u001b[0;34m\u001b[0m\u001b[0;34m\u001b[0m\u001b[0m\n\u001b[1;32m      8\u001b[0m \u001b[0;34m\u001b[0m\u001b[0m\n",
            "\u001b[0;31mNameError\u001b[0m: name 'thrsehold' is not defined"
          ]
        }
      ]
    },
    {
      "cell_type": "code",
      "metadata": {
        "colab": {
          "base_uri": "https://localhost:8080/",
          "height": 265
        },
        "id": "DHsG8ZO38kKa",
        "outputId": "9ca6d1bf-ce6e-4369-9848-382762ca1918"
      },
      "source": [
        "plt.plot(threshold,score)\r\n",
        "plt.show()\r\n",
        "  "
      ],
      "execution_count": 37,
      "outputs": [
        {
          "output_type": "display_data",
          "data": {
            "image/png": "[encoded data removed]",
            "text/plain": [
              "<Figure size 432x288 with 1 Axes>"
            ]
          },
          "metadata": {
            "tags": [],
            "needs_background": "light"
          }
        }
      ]
    },
    {
      "cell_type": "code",
      "metadata": {
        "id": "37bWYRqE76bY"
      },
      "source": [
        "#wrapper包装法，特征的选择过程是多次进行的，而不是单次的决定，即特征的选择需要另一个算法来处理\r\n",
        "#下面以比较简单的递归特征消除为例"
      ],
      "execution_count": 38,
      "outputs": []
    },
    {
      "cell_type": "code",
      "metadata": {
        "id": "JIb66Kgo7Hvb"
      },
      "source": [
        "from sklearn.feature_selection import RFE\r\n",
        "#n_features_to_select指最终要保留的特征的个数，step指每步要减少的特征数\r\n",
        "selector = RFE(rfc,n_features_to_select=340,step=50).fit(X,y)"
      ],
      "execution_count": 39,
      "outputs": []
    },
    {
      "cell_type": "code",
      "metadata": {
        "colab": {
          "base_uri": "https://localhost:8080/"
        },
        "id": "NkAZ0Ifk9GmY",
        "outputId": "1b73f54e-1569-47b8-ee7a-22219104a242"
      },
      "source": [
        "#selector.support_返回特征是否被选中的布尔矩阵\r\n",
        "selector.support_.sum()"
      ],
      "execution_count": 41,
      "outputs": [
        {
          "output_type": "execute_result",
          "data": {
            "text/plain": [
              "340"
            ]
          },
          "metadata": {
            "tags": []
          },
          "execution_count": 41
        }
      ]
    },
    {
      "cell_type": "code",
      "metadata": {
        "colab": {
          "base_uri": "https://localhost:8080/"
        },
        "id": "GjSduD2V9cVj",
        "outputId": "1b45a729-920f-4712-8cc6-0f8f3b4855fd"
      },
      "source": [
        "#返回每一个特征最终所处于的迭代轮数，从而反应整体的分数\r\n",
        "pd.Series(selector.ranking_).value_counts()"
      ],
      "execution_count": 44,
      "outputs": [
        {
          "output_type": "execute_result",
          "data": {
            "text/plain": [
              "1     340\n",
              "10     50\n",
              "9      50\n",
              "8      50\n",
              "7      50\n",
              "6      50\n",
              "5      50\n",
              "4      50\n",
              "3      50\n",
              "2      44\n",
              "dtype: int64"
            ]
          },
          "metadata": {
            "tags": []
          },
          "execution_count": 44
        }
      ]
    },
    {
      "cell_type": "code",
      "metadata": {
        "id": "9s9bs8_R9jZm"
      },
      "source": [
        ""
      ],
      "execution_count": 44,
      "outputs": []
    }
  ]
}