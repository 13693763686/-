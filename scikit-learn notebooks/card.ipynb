{
  "nbformat": 4,
  "nbformat_minor": 0,
  "metadata": {
    "colab": {
      "name": "card.ipynb",
      "provenance": [],
      "collapsed_sections": [],
      "authorship_tag": "ABX9TyOOfFHDZNwBLcZ01OQOcYLx",
      "include_colab_link": true
    },
    "kernelspec": {
      "name": "python3",
      "display_name": "Python 3"
    }
  },
  "cells": [
    {
      "cell_type": "markdown",
      "metadata": {
        "id": "view-in-github",
        "colab_type": "text"
      },
      "source": [
        "<a href=\"https://colab.research.google.com/github/13693763686/data-analysis/blob/master/scikit-learn%20notebooks/card.ipynb\" target=\"_parent\"><img src=\"https://colab.research.google.com/assets/colab-badge.svg\" alt=\"Open In Colab\"/></a>"
      ]
    },
    {
      "cell_type": "markdown",
      "metadata": {
        "id": "yuvK6F165wBx"
      },
      "source": [
        "# 案例：用逻辑回归制作评分卡"
      ]
    },
    {
      "cell_type": "code",
      "metadata": {
        "id": "M1XcI6A06Rng"
      },
      "source": [
        "##通过这个案例的学习，对机器学习建模整体的过程有一个更清晰的认识，更好地理解数据预处理的知识，将理论和实践相结合\r\n",
        "##机器学习模型的搭建通常需要六个步骤\r\n",
        "##获取数据 -- 爬虫，业务等等\r\n",
        "##数据清洗，特征工程 -- 将数据处理成便于处理的格式\r\n",
        "##模型开发 -- 选择合适的模型，进一步根据模型的需求调整数据\r\n",
        "##模型验证和调试 --- 很重要的一步，通过不停的调试获取优秀的工业级结果\r\n",
        "##模型上线 --- 工业化使用，倾听反馈\r\n",
        "##监测与报告 --- 收集数据，产品迭代\r\n",
        "##下面就对这个案例进行分析建模"
      ],
      "execution_count": null,
      "outputs": []
    },
    {
      "cell_type": "markdown",
      "metadata": {
        "id": "rJVVVdPV9Qhn"
      },
      "source": [
        "## 数据清洗"
      ]
    },
    {
      "cell_type": "markdown",
      "metadata": {
        "id": "-Rd7yjKI9Uu5"
      },
      "source": [
        "### 导入必需的库"
      ]
    },
    {
      "cell_type": "code",
      "metadata": {
        "id": "KrvXcvbx9XB1"
      },
      "source": [
        "import pandas as pd\r\n",
        "import numpy as np\r\n",
        "import matplotlib.pyplot as plt"
      ],
      "execution_count": null,
      "outputs": []
    },
    {
      "cell_type": "code",
      "metadata": {
        "id": "1sXSiSk39fhl"
      },
      "source": [
        "from sklearn.linear_model import LogisticRegression as LR"
      ],
      "execution_count": null,
      "outputs": []
    },
    {
      "cell_type": "code",
      "metadata": {
        "id": "VyCUPQr_9nO-"
      },
      "source": [
        "#读入数据\r\n",
        "data = pd.read_csv(\"rankingcard.csv\",index_col=0)"
      ],
      "execution_count": null,
      "outputs": []
    },
    {
      "cell_type": "markdown",
      "metadata": {
        "id": "N3k4TsPO9wPt"
      },
      "source": [
        "###探索数据"
      ]
    },
    {
      "cell_type": "markdown",
      "metadata": {
        "id": "qs1u_D5a-bCN"
      },
      "source": [
        "#### 观察数据的特征和空值情况"
      ]
    },
    {
      "cell_type": "code",
      "metadata": {
        "colab": {
          "base_uri": "https://localhost:8080/"
        },
        "id": "RXN0DhJi90rI",
        "outputId": "a330b793-4dca-4d75-f3c5-95b92cedaf7e"
      },
      "source": [
        "data.shape\r\n",
        "#观察到整个数据集有11个feature，并不是特别的多，如果很多的话考虑特征工程进行过滤\r\n",
        "#基于列本身的信息，相关关系或者PCA聚类都可以"
      ],
      "execution_count": null,
      "outputs": [
        {
          "output_type": "execute_result",
          "data": {
            "text/plain": [
              "(150000, 11)"
            ]
          },
          "metadata": {
            "tags": []
          },
          "execution_count": 182
        }
      ]
    },
    {
      "cell_type": "code",
      "metadata": {
        "colab": {
          "base_uri": "https://localhost:8080/"
        },
        "id": "Ee4cSECX92lC",
        "outputId": "5fe74ac5-c7d4-4537-c6c4-4c44a17869cd"
      },
      "source": [
        "data.info()\r\n",
        "#注意到有两列存在空值，且这两个列的数据极为重要，因此这里我们需要非常仔细地处理}"
      ],
      "execution_count": null,
      "outputs": [
        {
          "output_type": "stream",
          "text": [
            "<class 'pandas.core.frame.DataFrame'>\n",
            "Int64Index: 150000 entries, 1 to 150000\n",
            "Data columns (total 11 columns):\n",
            " #   Column                                Non-Null Count   Dtype  \n",
            "---  ------                                --------------   -----  \n",
            " 0   SeriousDlqin2yrs                      150000 non-null  int64  \n",
            " 1   RevolvingUtilizationOfUnsecuredLines  150000 non-null  float64\n",
            " 2   age                                   150000 non-null  int64  \n",
            " 3   NumberOfTime30-59DaysPastDueNotWorse  150000 non-null  int64  \n",
            " 4   DebtRatio                             150000 non-null  float64\n",
            " 5   MonthlyIncome                         120269 non-null  float64\n",
            " 6   NumberOfOpenCreditLinesAndLoans       150000 non-null  int64  \n",
            " 7   NumberOfTimes90DaysLate               150000 non-null  int64  \n",
            " 8   NumberRealEstateLoansOrLines          150000 non-null  int64  \n",
            " 9   NumberOfTime60-89DaysPastDueNotWorse  150000 non-null  int64  \n",
            " 10  NumberOfDependents                    146076 non-null  float64\n",
            "dtypes: float64(4), int64(7)\n",
            "memory usage: 13.7 MB\n"
          ],
          "name": "stdout"
        }
      ]
    },
    {
      "cell_type": "code",
      "metadata": {
        "id": "To2holjhvfSD"
      },
      "source": [
        ""
      ],
      "execution_count": null,
      "outputs": []
    },
    {
      "cell_type": "code",
      "metadata": {
        "colab": {
          "base_uri": "https://localhost:8080/",
          "height": 370
        },
        "id": "fUGzB5Bd93jY",
        "outputId": "ba377c56-acfa-4534-c5de-f31929335f5a"
      },
      "source": [
        "data.describe().T\r\n",
        "#观察到量纲严重不符合，对于某些模型的话需要处理\r\n",
        "#观察到年龄里面的最大值存在109岁的情况，需要我们进行一些异常值侦测和处理的过程\r\n",
        "#大部分特征都存在偏态的分布，中心化处理的必要性，这个通过观察均值和中位数，中位数大于平均数的话，表明数据在左侧以细长的姿态拉低了均值，即左偏分布\r\n",
        "#从这些观察可以看出问题很多，但是首要问题还是空值和异常值的问题\r\n",
        "#下面首先处理重复值，然后是空值和异常值"
      ],
      "execution_count": null,
      "outputs": [
        {
          "output_type": "execute_result",
          "data": {
            "text/html": [
              "<div>\n",
              "<style scoped>\n",
              "    .dataframe tbody tr th:only-of-type {\n",
              "        vertical-align: middle;\n",
              "    }\n",
              "\n",
              "    .dataframe tbody tr th {\n",
              "        vertical-align: top;\n",
              "    }\n",
              "\n",
              "    .dataframe thead th {\n",
              "        text-align: right;\n",
              "    }\n",
              "</style>\n",
              "<table border=\"1\" class=\"dataframe\">\n",
              "  <thead>\n",
              "    <tr style=\"text-align: right;\">\n",
              "      <th></th>\n",
              "      <th>count</th>\n",
              "      <th>mean</th>\n",
              "      <th>std</th>\n",
              "      <th>min</th>\n",
              "      <th>25%</th>\n",
              "      <th>50%</th>\n",
              "      <th>75%</th>\n",
              "      <th>max</th>\n",
              "    </tr>\n",
              "  </thead>\n",
              "  <tbody>\n",
              "    <tr>\n",
              "      <th>SeriousDlqin2yrs</th>\n",
              "      <td>150000.0</td>\n",
              "      <td>0.066840</td>\n",
              "      <td>0.249746</td>\n",
              "      <td>0.0</td>\n",
              "      <td>0.000000</td>\n",
              "      <td>0.000000</td>\n",
              "      <td>0.000000</td>\n",
              "      <td>1.0</td>\n",
              "    </tr>\n",
              "    <tr>\n",
              "      <th>RevolvingUtilizationOfUnsecuredLines</th>\n",
              "      <td>150000.0</td>\n",
              "      <td>6.048438</td>\n",
              "      <td>249.755371</td>\n",
              "      <td>0.0</td>\n",
              "      <td>0.029867</td>\n",
              "      <td>0.154181</td>\n",
              "      <td>0.559046</td>\n",
              "      <td>50708.0</td>\n",
              "    </tr>\n",
              "    <tr>\n",
              "      <th>age</th>\n",
              "      <td>150000.0</td>\n",
              "      <td>52.295207</td>\n",
              "      <td>14.771866</td>\n",
              "      <td>0.0</td>\n",
              "      <td>41.000000</td>\n",
              "      <td>52.000000</td>\n",
              "      <td>63.000000</td>\n",
              "      <td>109.0</td>\n",
              "    </tr>\n",
              "    <tr>\n",
              "      <th>NumberOfTime30-59DaysPastDueNotWorse</th>\n",
              "      <td>150000.0</td>\n",
              "      <td>0.421033</td>\n",
              "      <td>4.192781</td>\n",
              "      <td>0.0</td>\n",
              "      <td>0.000000</td>\n",
              "      <td>0.000000</td>\n",
              "      <td>0.000000</td>\n",
              "      <td>98.0</td>\n",
              "    </tr>\n",
              "    <tr>\n",
              "      <th>DebtRatio</th>\n",
              "      <td>150000.0</td>\n",
              "      <td>353.005076</td>\n",
              "      <td>2037.818523</td>\n",
              "      <td>0.0</td>\n",
              "      <td>0.175074</td>\n",
              "      <td>0.366508</td>\n",
              "      <td>0.868254</td>\n",
              "      <td>329664.0</td>\n",
              "    </tr>\n",
              "    <tr>\n",
              "      <th>MonthlyIncome</th>\n",
              "      <td>120269.0</td>\n",
              "      <td>6670.221237</td>\n",
              "      <td>14384.674215</td>\n",
              "      <td>0.0</td>\n",
              "      <td>3400.000000</td>\n",
              "      <td>5400.000000</td>\n",
              "      <td>8249.000000</td>\n",
              "      <td>3008750.0</td>\n",
              "    </tr>\n",
              "    <tr>\n",
              "      <th>NumberOfOpenCreditLinesAndLoans</th>\n",
              "      <td>150000.0</td>\n",
              "      <td>8.452760</td>\n",
              "      <td>5.145951</td>\n",
              "      <td>0.0</td>\n",
              "      <td>5.000000</td>\n",
              "      <td>8.000000</td>\n",
              "      <td>11.000000</td>\n",
              "      <td>58.0</td>\n",
              "    </tr>\n",
              "    <tr>\n",
              "      <th>NumberOfTimes90DaysLate</th>\n",
              "      <td>150000.0</td>\n",
              "      <td>0.265973</td>\n",
              "      <td>4.169304</td>\n",
              "      <td>0.0</td>\n",
              "      <td>0.000000</td>\n",
              "      <td>0.000000</td>\n",
              "      <td>0.000000</td>\n",
              "      <td>98.0</td>\n",
              "    </tr>\n",
              "    <tr>\n",
              "      <th>NumberRealEstateLoansOrLines</th>\n",
              "      <td>150000.0</td>\n",
              "      <td>1.018240</td>\n",
              "      <td>1.129771</td>\n",
              "      <td>0.0</td>\n",
              "      <td>0.000000</td>\n",
              "      <td>1.000000</td>\n",
              "      <td>2.000000</td>\n",
              "      <td>54.0</td>\n",
              "    </tr>\n",
              "    <tr>\n",
              "      <th>NumberOfTime60-89DaysPastDueNotWorse</th>\n",
              "      <td>150000.0</td>\n",
              "      <td>0.240387</td>\n",
              "      <td>4.155179</td>\n",
              "      <td>0.0</td>\n",
              "      <td>0.000000</td>\n",
              "      <td>0.000000</td>\n",
              "      <td>0.000000</td>\n",
              "      <td>98.0</td>\n",
              "    </tr>\n",
              "    <tr>\n",
              "      <th>NumberOfDependents</th>\n",
              "      <td>146076.0</td>\n",
              "      <td>0.757222</td>\n",
              "      <td>1.115086</td>\n",
              "      <td>0.0</td>\n",
              "      <td>0.000000</td>\n",
              "      <td>0.000000</td>\n",
              "      <td>1.000000</td>\n",
              "      <td>20.0</td>\n",
              "    </tr>\n",
              "  </tbody>\n",
              "</table>\n",
              "</div>"
            ],
            "text/plain": [
              "                                         count  ...        max\n",
              "SeriousDlqin2yrs                      150000.0  ...        1.0\n",
              "RevolvingUtilizationOfUnsecuredLines  150000.0  ...    50708.0\n",
              "age                                   150000.0  ...      109.0\n",
              "NumberOfTime30-59DaysPastDueNotWorse  150000.0  ...       98.0\n",
              "DebtRatio                             150000.0  ...   329664.0\n",
              "MonthlyIncome                         120269.0  ...  3008750.0\n",
              "NumberOfOpenCreditLinesAndLoans       150000.0  ...       58.0\n",
              "NumberOfTimes90DaysLate               150000.0  ...       98.0\n",
              "NumberRealEstateLoansOrLines          150000.0  ...       54.0\n",
              "NumberOfTime60-89DaysPastDueNotWorse  150000.0  ...       98.0\n",
              "NumberOfDependents                    146076.0  ...       20.0\n",
              "\n",
              "[11 rows x 8 columns]"
            ]
          },
          "metadata": {
            "tags": []
          },
          "execution_count": 184
        }
      ]
    },
    {
      "cell_type": "code",
      "metadata": {
        "colab": {
          "base_uri": "https://localhost:8080/"
        },
        "id": "sGxfK5sGvkQT",
        "outputId": "8be75ddc-156a-4d4a-e404-eb264a342a39"
      },
      "source": [
        "hand_bins"
      ],
      "execution_count": null,
      "outputs": [
        {
          "output_type": "execute_result",
          "data": {
            "text/plain": [
              "{'NumberOfDependents': [-inf, 1, 2, inf],\n",
              " 'NumberOfTime30-59DaysPastDueNotWorse': [-inf, 1, 2, inf],\n",
              " 'NumberOfTime60-89DaysPastDueNotWorse': [-inf, 1, 2, inf],\n",
              " 'NumberOfTimes90DaysLate': [-inf, 1, 2, inf],\n",
              " 'NumberRealEstateLoansOrLines': [-inf, 1, 2, 4, inf]}"
            ]
          },
          "metadata": {
            "tags": []
          },
          "execution_count": 185
        }
      ]
    },
    {
      "cell_type": "markdown",
      "metadata": {
        "id": "iWKjBXOx-iyv"
      },
      "source": [
        "####去除重复值"
      ]
    },
    {
      "cell_type": "code",
      "metadata": {
        "id": "_mnPIv7tADxH"
      },
      "source": [
        "#对于数据集的重复值，当处于不失衡的状态下，不应该有重复值的情况，这很有可能是重复地录入\r\n",
        "#当然也有可能是某些情况地频繁出现，这种情况可以反应标签比例，但一般情况下并不是如此\r\n",
        "data.drop_duplicates(inplace=True)"
      ],
      "execution_count": null,
      "outputs": []
    },
    {
      "cell_type": "code",
      "metadata": {
        "colab": {
          "base_uri": "https://localhost:8080/"
        },
        "id": "dtkpa_NVAk72",
        "outputId": "ed3c04b9-3bd3-4587-af9f-9def180b6c0c"
      },
      "source": [
        "data.info()"
      ],
      "execution_count": null,
      "outputs": [
        {
          "output_type": "stream",
          "text": [
            "<class 'pandas.core.frame.DataFrame'>\n",
            "Int64Index: 149391 entries, 1 to 150000\n",
            "Data columns (total 11 columns):\n",
            " #   Column                                Non-Null Count   Dtype  \n",
            "---  ------                                --------------   -----  \n",
            " 0   SeriousDlqin2yrs                      149391 non-null  int64  \n",
            " 1   RevolvingUtilizationOfUnsecuredLines  149391 non-null  float64\n",
            " 2   age                                   149391 non-null  int64  \n",
            " 3   NumberOfTime30-59DaysPastDueNotWorse  149391 non-null  int64  \n",
            " 4   DebtRatio                             149391 non-null  float64\n",
            " 5   MonthlyIncome                         120170 non-null  float64\n",
            " 6   NumberOfOpenCreditLinesAndLoans       149391 non-null  int64  \n",
            " 7   NumberOfTimes90DaysLate               149391 non-null  int64  \n",
            " 8   NumberRealEstateLoansOrLines          149391 non-null  int64  \n",
            " 9   NumberOfTime60-89DaysPastDueNotWorse  149391 non-null  int64  \n",
            " 10  NumberOfDependents                    145563 non-null  float64\n",
            "dtypes: float64(4), int64(7)\n",
            "memory usage: 13.7 MB\n"
          ],
          "name": "stdout"
        }
      ]
    },
    {
      "cell_type": "code",
      "metadata": {
        "id": "_IIUNwHJAlsI"
      },
      "source": [
        "data.index = range(data.shape[0])"
      ],
      "execution_count": null,
      "outputs": []
    },
    {
      "cell_type": "code",
      "metadata": {
        "colab": {
          "base_uri": "https://localhost:8080/"
        },
        "id": "lNmQNAIfAq4v",
        "outputId": "ad6b98da-c08c-43e3-a2d2-ef8ab1398920"
      },
      "source": [
        "data.index"
      ],
      "execution_count": null,
      "outputs": [
        {
          "output_type": "execute_result",
          "data": {
            "text/plain": [
              "RangeIndex(start=0, stop=149391, step=1)"
            ]
          },
          "metadata": {
            "tags": []
          },
          "execution_count": 189
        }
      ]
    },
    {
      "cell_type": "markdown",
      "metadata": {
        "id": "h4__UJd_Ar2G"
      },
      "source": [
        "#### 缺失值的处理"
      ]
    },
    {
      "cell_type": "code",
      "metadata": {
        "id": "PttHyOw8Axgx"
      },
      "source": [
        "#首先处理缺失值的话，可以在排除掉某些特征的时候减轻异常值处理的困难，毕竟缺失值一般肯定比异常值要多\r\n",
        "#对于月收入这种重要因素，我们必须使用精细的学习方法，对于亲属个数来说，缺失值不是特别多，可以直接删除，或者均值或者众数补充\r\n",
        "#这里我们使用均值来填补亲属个数\r\n",
        "data[\"NumberOfDependents\"].fillna(int(data[\"NumberOfDependents\"].mean()),inplace=True)"
      ],
      "execution_count": null,
      "outputs": []
    },
    {
      "cell_type": "code",
      "metadata": {
        "id": "2KhEL5iYBkDn"
      },
      "source": [
        "#当处理完亲属个数的时候，我们只剩下月收入需要处理了，我们可以利用随机森林进行插值的处理\r\n",
        "#随机森林插值相对其它的监督学习方法来讲，更为简单，模型调参的情况可以只调树的个数，而对其它的模型来讲，可能需要调很多参数\r\n",
        "#因此，对于我们的插值来说，我们不希望在最开始的时候就弄的特别复杂\r\n",
        "#这里我们选择使用随机森林插值的方法\r\n",
        "#下面写一个通用的函数，处理单插值的问题，注意数据和标签在一个dataframe里面"
      ],
      "execution_count": null,
      "outputs": []
    },
    {
      "cell_type": "code",
      "metadata": {
        "id": "UkNYbqZOCWvK"
      },
      "source": [
        "def fill_missing_rf(X,y,to_fill):\r\n",
        "  \"\"\"\r\n",
        "  使用随机森林填补缺失一个特征值的数据矩阵\r\n",
        "  参数：\r\n",
        "  X：要填补的特征矩阵\r\n",
        "  y：标签向量\r\n",
        "  to_fill：填补的特征向量的字符串名字\r\n",
        "  返回值：\r\n",
        "  返回空值对应的插值结果，维度与y不一致\r\n",
        "  \"\"\"\r\n",
        "  df = X.copy()\r\n",
        "  fill = df.loc[:,to_fill]\r\n",
        "  df = pd.concat([df.loc[:,df.columns!=to_fill],pd.DataFrame(y)],axis=1)\r\n",
        "  Ytrain = fill[fill.notnull()]\r\n",
        "  Ytest = fill[fill.isnull()]\r\n",
        "  Xtrain = df.iloc[Ytrain.index,:]\r\n",
        "  Xtest = df.iloc[Ytest.index,:]\r\n",
        "  from sklearn.ensemble import RandomForestRegressor as rfr\r\n",
        "  rf = rfr(n_estimators=100)\r\n",
        "  rf = rf.fit(Xtrain,Ytrain)\r\n",
        "  Ypredict = rf.predict(Xtest)\r\n",
        "  return Ypredict"
      ],
      "execution_count": null,
      "outputs": []
    },
    {
      "cell_type": "code",
      "metadata": {
        "id": "BEANH-JWEEFs"
      },
      "source": [
        "#接下来利用上面的插值函数对我们的数据进行处理\r\n",
        "#准备数据，X为特征矩阵，不包括标签\r\n",
        "X = data.iloc[:,1:]\r\n",
        "y = data[\"SeriousDlqin2yrs\"]"
      ],
      "execution_count": null,
      "outputs": []
    },
    {
      "cell_type": "code",
      "metadata": {
        "id": "GKWLsCWxEPjo"
      },
      "source": [
        "y_pred = fill_missing_rf(X,y,\"MonthlyIncome\")"
      ],
      "execution_count": null,
      "outputs": []
    },
    {
      "cell_type": "code",
      "metadata": {
        "colab": {
          "base_uri": "https://localhost:8080/",
          "height": 282
        },
        "id": "IOgekPVOGNED",
        "outputId": "953a0887-cd03-471c-cd48-ac1050fdb1b9"
      },
      "source": [
        "y_pred[:5]\r\n",
        "pd.DataFrame(y_pred).describe()\r\n",
        "#其实这个结果是有一点奇怪的，因为income的值怎么会是75%分位上面还是0.53的值的，因此，这个插值结果可能有问题\r\n",
        "#这里显然感觉是有问题的，这些数据对模型的影响会很大，尽管它们占整体的比例毕竟高，但是还是建议删除比较好"
      ],
      "execution_count": null,
      "outputs": [
        {
          "output_type": "execute_result",
          "data": {
            "text/html": [
              "<div>\n",
              "<style scoped>\n",
              "    .dataframe tbody tr th:only-of-type {\n",
              "        vertical-align: middle;\n",
              "    }\n",
              "\n",
              "    .dataframe tbody tr th {\n",
              "        vertical-align: top;\n",
              "    }\n",
              "\n",
              "    .dataframe thead th {\n",
              "        text-align: right;\n",
              "    }\n",
              "</style>\n",
              "<table border=\"1\" class=\"dataframe\">\n",
              "  <thead>\n",
              "    <tr style=\"text-align: right;\">\n",
              "      <th></th>\n",
              "      <th>0</th>\n",
              "    </tr>\n",
              "  </thead>\n",
              "  <tbody>\n",
              "    <tr>\n",
              "      <th>count</th>\n",
              "      <td>29221.000000</td>\n",
              "    </tr>\n",
              "    <tr>\n",
              "      <th>mean</th>\n",
              "      <td>286.428431</td>\n",
              "    </tr>\n",
              "    <tr>\n",
              "      <th>std</th>\n",
              "      <td>3404.338392</td>\n",
              "    </tr>\n",
              "    <tr>\n",
              "      <th>min</th>\n",
              "      <td>0.000000</td>\n",
              "    </tr>\n",
              "    <tr>\n",
              "      <th>25%</th>\n",
              "      <td>0.060000</td>\n",
              "    </tr>\n",
              "    <tr>\n",
              "      <th>50%</th>\n",
              "      <td>0.210000</td>\n",
              "    </tr>\n",
              "    <tr>\n",
              "      <th>75%</th>\n",
              "      <td>0.530000</td>\n",
              "    </tr>\n",
              "    <tr>\n",
              "      <th>max</th>\n",
              "      <td>391829.678333</td>\n",
              "    </tr>\n",
              "  </tbody>\n",
              "</table>\n",
              "</div>"
            ],
            "text/plain": [
              "                   0\n",
              "count   29221.000000\n",
              "mean      286.428431\n",
              "std      3404.338392\n",
              "min         0.000000\n",
              "25%         0.060000\n",
              "50%         0.210000\n",
              "75%         0.530000\n",
              "max    391829.678333"
            ]
          },
          "metadata": {
            "tags": []
          },
          "execution_count": 195
        }
      ]
    },
    {
      "cell_type": "code",
      "metadata": {
        "id": "pyz2U7esEbQV"
      },
      "source": [
        "#确认数据无误后，注意y_pred的值只是关于空值的部分，因此我们还是需要做一些筛选的工作\r\n",
        "#尽管数据可能存在一定的问题，这里我们不再深究，可能其中有一定的道理吧\r\n",
        "data.loc[data.loc[:,\"MonthlyIncome\"].isnull(),\"MonthlyIncome\"] = y_pred"
      ],
      "execution_count": null,
      "outputs": []
    },
    {
      "cell_type": "code",
      "metadata": {
        "colab": {
          "base_uri": "https://localhost:8080/"
        },
        "id": "_6jdnqQtLFvc",
        "outputId": "45af4555-aaf0-4b50-e2e2-250dc7695367"
      },
      "source": [
        "y[:5]"
      ],
      "execution_count": null,
      "outputs": [
        {
          "output_type": "execute_result",
          "data": {
            "text/plain": [
              "0    1\n",
              "1    0\n",
              "2    0\n",
              "3    0\n",
              "4    0\n",
              "Name: SeriousDlqin2yrs, dtype: int64"
            ]
          },
          "metadata": {
            "tags": []
          },
          "execution_count": 197
        }
      ]
    },
    {
      "cell_type": "markdown",
      "metadata": {
        "id": "ri0dwMEHHnqM"
      },
      "source": [
        "#### 寻找数据中的异常值"
      ]
    },
    {
      "cell_type": "code",
      "metadata": {
        "colab": {
          "base_uri": "https://localhost:8080/",
          "height": 424
        },
        "id": "Kd-k4Lu2HtF2",
        "outputId": "638647cc-fc7e-41ef-b878-de477c09d323"
      },
      "source": [
        "data.describe([0.01,0.1,0.25,0.5,0.75,0.9,0.99]).T"
      ],
      "execution_count": null,
      "outputs": [
        {
          "output_type": "execute_result",
          "data": {
            "text/html": [
              "<div>\n",
              "<style scoped>\n",
              "    .dataframe tbody tr th:only-of-type {\n",
              "        vertical-align: middle;\n",
              "    }\n",
              "\n",
              "    .dataframe tbody tr th {\n",
              "        vertical-align: top;\n",
              "    }\n",
              "\n",
              "    .dataframe thead th {\n",
              "        text-align: right;\n",
              "    }\n",
              "</style>\n",
              "<table border=\"1\" class=\"dataframe\">\n",
              "  <thead>\n",
              "    <tr style=\"text-align: right;\">\n",
              "      <th></th>\n",
              "      <th>count</th>\n",
              "      <th>mean</th>\n",
              "      <th>std</th>\n",
              "      <th>min</th>\n",
              "      <th>1%</th>\n",
              "      <th>10%</th>\n",
              "      <th>25%</th>\n",
              "      <th>50%</th>\n",
              "      <th>75%</th>\n",
              "      <th>90%</th>\n",
              "      <th>99%</th>\n",
              "      <th>max</th>\n",
              "    </tr>\n",
              "  </thead>\n",
              "  <tbody>\n",
              "    <tr>\n",
              "      <th>SeriousDlqin2yrs</th>\n",
              "      <td>149391.0</td>\n",
              "      <td>0.066999</td>\n",
              "      <td>0.250021</td>\n",
              "      <td>0.0</td>\n",
              "      <td>0.0</td>\n",
              "      <td>0.000000</td>\n",
              "      <td>0.000000</td>\n",
              "      <td>0.000000</td>\n",
              "      <td>0.000000</td>\n",
              "      <td>0.000000</td>\n",
              "      <td>1.000000</td>\n",
              "      <td>1.0</td>\n",
              "    </tr>\n",
              "    <tr>\n",
              "      <th>RevolvingUtilizationOfUnsecuredLines</th>\n",
              "      <td>149391.0</td>\n",
              "      <td>6.071087</td>\n",
              "      <td>250.263672</td>\n",
              "      <td>0.0</td>\n",
              "      <td>0.0</td>\n",
              "      <td>0.003199</td>\n",
              "      <td>0.030132</td>\n",
              "      <td>0.154235</td>\n",
              "      <td>0.556494</td>\n",
              "      <td>0.978007</td>\n",
              "      <td>1.093922</td>\n",
              "      <td>50708.0</td>\n",
              "    </tr>\n",
              "    <tr>\n",
              "      <th>age</th>\n",
              "      <td>149391.0</td>\n",
              "      <td>52.306237</td>\n",
              "      <td>14.725962</td>\n",
              "      <td>0.0</td>\n",
              "      <td>24.0</td>\n",
              "      <td>33.000000</td>\n",
              "      <td>41.000000</td>\n",
              "      <td>52.000000</td>\n",
              "      <td>63.000000</td>\n",
              "      <td>72.000000</td>\n",
              "      <td>87.000000</td>\n",
              "      <td>109.0</td>\n",
              "    </tr>\n",
              "    <tr>\n",
              "      <th>NumberOfTime30-59DaysPastDueNotWorse</th>\n",
              "      <td>149391.0</td>\n",
              "      <td>0.393886</td>\n",
              "      <td>3.852953</td>\n",
              "      <td>0.0</td>\n",
              "      <td>0.0</td>\n",
              "      <td>0.000000</td>\n",
              "      <td>0.000000</td>\n",
              "      <td>0.000000</td>\n",
              "      <td>0.000000</td>\n",
              "      <td>1.000000</td>\n",
              "      <td>4.000000</td>\n",
              "      <td>98.0</td>\n",
              "    </tr>\n",
              "    <tr>\n",
              "      <th>DebtRatio</th>\n",
              "      <td>149391.0</td>\n",
              "      <td>354.436740</td>\n",
              "      <td>2041.843455</td>\n",
              "      <td>0.0</td>\n",
              "      <td>0.0</td>\n",
              "      <td>0.034991</td>\n",
              "      <td>0.177441</td>\n",
              "      <td>0.368234</td>\n",
              "      <td>0.875279</td>\n",
              "      <td>1275.000000</td>\n",
              "      <td>4985.100000</td>\n",
              "      <td>329664.0</td>\n",
              "    </tr>\n",
              "    <tr>\n",
              "      <th>MonthlyIncome</th>\n",
              "      <td>149391.0</td>\n",
              "      <td>5425.469300</td>\n",
              "      <td>13238.107209</td>\n",
              "      <td>0.0</td>\n",
              "      <td>0.0</td>\n",
              "      <td>0.180000</td>\n",
              "      <td>1800.000000</td>\n",
              "      <td>4416.000000</td>\n",
              "      <td>7416.000000</td>\n",
              "      <td>10800.000000</td>\n",
              "      <td>23250.000000</td>\n",
              "      <td>3008750.0</td>\n",
              "    </tr>\n",
              "    <tr>\n",
              "      <th>NumberOfOpenCreditLinesAndLoans</th>\n",
              "      <td>149391.0</td>\n",
              "      <td>8.480892</td>\n",
              "      <td>5.136515</td>\n",
              "      <td>0.0</td>\n",
              "      <td>0.0</td>\n",
              "      <td>3.000000</td>\n",
              "      <td>5.000000</td>\n",
              "      <td>8.000000</td>\n",
              "      <td>11.000000</td>\n",
              "      <td>15.000000</td>\n",
              "      <td>24.000000</td>\n",
              "      <td>58.0</td>\n",
              "    </tr>\n",
              "    <tr>\n",
              "      <th>NumberOfTimes90DaysLate</th>\n",
              "      <td>149391.0</td>\n",
              "      <td>0.238120</td>\n",
              "      <td>3.826165</td>\n",
              "      <td>0.0</td>\n",
              "      <td>0.0</td>\n",
              "      <td>0.000000</td>\n",
              "      <td>0.000000</td>\n",
              "      <td>0.000000</td>\n",
              "      <td>0.000000</td>\n",
              "      <td>0.000000</td>\n",
              "      <td>3.000000</td>\n",
              "      <td>98.0</td>\n",
              "    </tr>\n",
              "    <tr>\n",
              "      <th>NumberRealEstateLoansOrLines</th>\n",
              "      <td>149391.0</td>\n",
              "      <td>1.022391</td>\n",
              "      <td>1.130196</td>\n",
              "      <td>0.0</td>\n",
              "      <td>0.0</td>\n",
              "      <td>0.000000</td>\n",
              "      <td>0.000000</td>\n",
              "      <td>1.000000</td>\n",
              "      <td>2.000000</td>\n",
              "      <td>2.000000</td>\n",
              "      <td>4.000000</td>\n",
              "      <td>54.0</td>\n",
              "    </tr>\n",
              "    <tr>\n",
              "      <th>NumberOfTime60-89DaysPastDueNotWorse</th>\n",
              "      <td>149391.0</td>\n",
              "      <td>0.212503</td>\n",
              "      <td>3.810523</td>\n",
              "      <td>0.0</td>\n",
              "      <td>0.0</td>\n",
              "      <td>0.000000</td>\n",
              "      <td>0.000000</td>\n",
              "      <td>0.000000</td>\n",
              "      <td>0.000000</td>\n",
              "      <td>0.000000</td>\n",
              "      <td>2.000000</td>\n",
              "      <td>98.0</td>\n",
              "    </tr>\n",
              "    <tr>\n",
              "      <th>NumberOfDependents</th>\n",
              "      <td>149391.0</td>\n",
              "      <td>0.740393</td>\n",
              "      <td>1.108272</td>\n",
              "      <td>0.0</td>\n",
              "      <td>0.0</td>\n",
              "      <td>0.000000</td>\n",
              "      <td>0.000000</td>\n",
              "      <td>0.000000</td>\n",
              "      <td>1.000000</td>\n",
              "      <td>2.000000</td>\n",
              "      <td>4.000000</td>\n",
              "      <td>20.0</td>\n",
              "    </tr>\n",
              "  </tbody>\n",
              "</table>\n",
              "</div>"
            ],
            "text/plain": [
              "                                         count  ...        max\n",
              "SeriousDlqin2yrs                      149391.0  ...        1.0\n",
              "RevolvingUtilizationOfUnsecuredLines  149391.0  ...    50708.0\n",
              "age                                   149391.0  ...      109.0\n",
              "NumberOfTime30-59DaysPastDueNotWorse  149391.0  ...       98.0\n",
              "DebtRatio                             149391.0  ...   329664.0\n",
              "MonthlyIncome                         149391.0  ...  3008750.0\n",
              "NumberOfOpenCreditLinesAndLoans       149391.0  ...       58.0\n",
              "NumberOfTimes90DaysLate               149391.0  ...       98.0\n",
              "NumberRealEstateLoansOrLines          149391.0  ...       54.0\n",
              "NumberOfTime60-89DaysPastDueNotWorse  149391.0  ...       98.0\n",
              "NumberOfDependents                    149391.0  ...       20.0\n",
              "\n",
              "[11 rows x 12 columns]"
            ]
          },
          "metadata": {
            "tags": []
          },
          "execution_count": 198
        }
      ]
    },
    {
      "cell_type": "code",
      "metadata": {
        "id": "1YeGBraOH1oy"
      },
      "source": [
        "data = data[data[\"age\"]!=0]"
      ],
      "execution_count": null,
      "outputs": []
    },
    {
      "cell_type": "code",
      "metadata": {
        "id": "EvYG0XtzIAVH"
      },
      "source": [
        "data = data[data.loc[:,\"NumberOfTimes90DaysLate\"] < 90]"
      ],
      "execution_count": null,
      "outputs": []
    },
    {
      "cell_type": "code",
      "metadata": {
        "id": "dxO9LZ-zIYZP"
      },
      "source": [
        "data.index = range(data.shape[0])"
      ],
      "execution_count": null,
      "outputs": []
    },
    {
      "cell_type": "code",
      "metadata": {
        "colab": {
          "base_uri": "https://localhost:8080/"
        },
        "id": "gYhJ6DooIbuz",
        "outputId": "dbe7ec6a-a6b1-4d49-dd30-e2c619c7a65b"
      },
      "source": [
        "data.info()"
      ],
      "execution_count": null,
      "outputs": [
        {
          "output_type": "stream",
          "text": [
            "<class 'pandas.core.frame.DataFrame'>\n",
            "RangeIndex: 149165 entries, 0 to 149164\n",
            "Data columns (total 11 columns):\n",
            " #   Column                                Non-Null Count   Dtype  \n",
            "---  ------                                --------------   -----  \n",
            " 0   SeriousDlqin2yrs                      149165 non-null  int64  \n",
            " 1   RevolvingUtilizationOfUnsecuredLines  149165 non-null  float64\n",
            " 2   age                                   149165 non-null  int64  \n",
            " 3   NumberOfTime30-59DaysPastDueNotWorse  149165 non-null  int64  \n",
            " 4   DebtRatio                             149165 non-null  float64\n",
            " 5   MonthlyIncome                         149165 non-null  float64\n",
            " 6   NumberOfOpenCreditLinesAndLoans       149165 non-null  int64  \n",
            " 7   NumberOfTimes90DaysLate               149165 non-null  int64  \n",
            " 8   NumberRealEstateLoansOrLines          149165 non-null  int64  \n",
            " 9   NumberOfTime60-89DaysPastDueNotWorse  149165 non-null  int64  \n",
            " 10  NumberOfDependents                    149165 non-null  float64\n",
            "dtypes: float64(4), int64(7)\n",
            "memory usage: 12.5 MB\n"
          ],
          "name": "stdout"
        }
      ]
    },
    {
      "cell_type": "code",
      "metadata": {
        "id": "7DYOfw5OIcUL"
      },
      "source": [
        "#以上缺失值和异常值处理完毕，但是量纲统一和标准化的工作还没有做\r\n",
        "#正常来说，有些算法非常依赖于数据的分布，在正态分布下它们的效果会好很多\r\n",
        "#这里我们的考虑主要还是客户，因为我们会在下一步进行分箱的操作，这时候如果进行量纲化的话，对于业务人员来说是一个比较飘渺的东西\r\n",
        "#因此，从业务应用的角度，我们建议不进行量纲化的处理"
      ],
      "execution_count": null,
      "outputs": []
    },
    {
      "cell_type": "code",
      "metadata": {
        "colab": {
          "base_uri": "https://localhost:8080/",
          "height": 231
        },
        "id": "0ylMTaAZK2Ha",
        "outputId": "160fbb4e-f10c-40fb-d38a-30087e7dee44"
      },
      "source": [
        "data.head()"
      ],
      "execution_count": null,
      "outputs": [
        {
          "output_type": "execute_result",
          "data": {
            "text/html": [
              "<div>\n",
              "<style scoped>\n",
              "    .dataframe tbody tr th:only-of-type {\n",
              "        vertical-align: middle;\n",
              "    }\n",
              "\n",
              "    .dataframe tbody tr th {\n",
              "        vertical-align: top;\n",
              "    }\n",
              "\n",
              "    .dataframe thead th {\n",
              "        text-align: right;\n",
              "    }\n",
              "</style>\n",
              "<table border=\"1\" class=\"dataframe\">\n",
              "  <thead>\n",
              "    <tr style=\"text-align: right;\">\n",
              "      <th></th>\n",
              "      <th>SeriousDlqin2yrs</th>\n",
              "      <th>RevolvingUtilizationOfUnsecuredLines</th>\n",
              "      <th>age</th>\n",
              "      <th>NumberOfTime30-59DaysPastDueNotWorse</th>\n",
              "      <th>DebtRatio</th>\n",
              "      <th>MonthlyIncome</th>\n",
              "      <th>NumberOfOpenCreditLinesAndLoans</th>\n",
              "      <th>NumberOfTimes90DaysLate</th>\n",
              "      <th>NumberRealEstateLoansOrLines</th>\n",
              "      <th>NumberOfTime60-89DaysPastDueNotWorse</th>\n",
              "      <th>NumberOfDependents</th>\n",
              "    </tr>\n",
              "  </thead>\n",
              "  <tbody>\n",
              "    <tr>\n",
              "      <th>0</th>\n",
              "      <td>1</td>\n",
              "      <td>0.766127</td>\n",
              "      <td>45</td>\n",
              "      <td>2</td>\n",
              "      <td>0.802982</td>\n",
              "      <td>9120.0</td>\n",
              "      <td>13</td>\n",
              "      <td>0</td>\n",
              "      <td>6</td>\n",
              "      <td>0</td>\n",
              "      <td>2.0</td>\n",
              "    </tr>\n",
              "    <tr>\n",
              "      <th>1</th>\n",
              "      <td>0</td>\n",
              "      <td>0.957151</td>\n",
              "      <td>40</td>\n",
              "      <td>0</td>\n",
              "      <td>0.121876</td>\n",
              "      <td>2600.0</td>\n",
              "      <td>4</td>\n",
              "      <td>0</td>\n",
              "      <td>0</td>\n",
              "      <td>0</td>\n",
              "      <td>1.0</td>\n",
              "    </tr>\n",
              "    <tr>\n",
              "      <th>2</th>\n",
              "      <td>0</td>\n",
              "      <td>0.658180</td>\n",
              "      <td>38</td>\n",
              "      <td>1</td>\n",
              "      <td>0.085113</td>\n",
              "      <td>3042.0</td>\n",
              "      <td>2</td>\n",
              "      <td>1</td>\n",
              "      <td>0</td>\n",
              "      <td>0</td>\n",
              "      <td>0.0</td>\n",
              "    </tr>\n",
              "    <tr>\n",
              "      <th>3</th>\n",
              "      <td>0</td>\n",
              "      <td>0.233810</td>\n",
              "      <td>30</td>\n",
              "      <td>0</td>\n",
              "      <td>0.036050</td>\n",
              "      <td>3300.0</td>\n",
              "      <td>5</td>\n",
              "      <td>0</td>\n",
              "      <td>0</td>\n",
              "      <td>0</td>\n",
              "      <td>0.0</td>\n",
              "    </tr>\n",
              "    <tr>\n",
              "      <th>4</th>\n",
              "      <td>0</td>\n",
              "      <td>0.907239</td>\n",
              "      <td>49</td>\n",
              "      <td>1</td>\n",
              "      <td>0.024926</td>\n",
              "      <td>63588.0</td>\n",
              "      <td>7</td>\n",
              "      <td>0</td>\n",
              "      <td>1</td>\n",
              "      <td>0</td>\n",
              "      <td>0.0</td>\n",
              "    </tr>\n",
              "  </tbody>\n",
              "</table>\n",
              "</div>"
            ],
            "text/plain": [
              "   SeriousDlqin2yrs  ...  NumberOfDependents\n",
              "0                 1  ...                 2.0\n",
              "1                 0  ...                 1.0\n",
              "2                 0  ...                 0.0\n",
              "3                 0  ...                 0.0\n",
              "4                 0  ...                 0.0\n",
              "\n",
              "[5 rows x 11 columns]"
            ]
          },
          "metadata": {
            "tags": []
          },
          "execution_count": 204
        }
      ]
    },
    {
      "cell_type": "markdown",
      "metadata": {
        "id": "0dF4gbslJKjB"
      },
      "source": [
        "#### 样本不均衡的问题"
      ]
    },
    {
      "cell_type": "code",
      "metadata": {
        "colab": {
          "base_uri": "https://localhost:8080/"
        },
        "id": "8LhZNoXJJOfg",
        "outputId": "ec5add17-a07b-4294-c0dd-64fedd14316f"
      },
      "source": [
        "#样本不均衡是比较严重的问题，对于异常检查的算法来讲，因为过少的数据会使模型的训练会朝着数据较多的一方偏斜，导致错误。\r\n",
        "#但是通常来说，我们特别需要对异常情况的检测，因为它的一个小错误可能会造成很坏的结果，通常我们会调节权重\r\n",
        "#对于存在loss函数的算法来讲，只需要在其出错的时候对其放大一定的权重即可，但是为了模型的普遍性，通常我们会手动的添加样本来作为平衡\r\n",
        "#手动的方法是通过采样的方式\r\n",
        "import imblearn\r\n",
        "from imblearn.over_sampling import SMOTE\r\n",
        "X = data.iloc[:,1:]\r\n",
        "y = data.iloc[:,0]\r\n",
        "sm = SMOTE(random_state=100)\r\n",
        "X,y = sm.fit_sample(X,y)"
      ],
      "execution_count": null,
      "outputs": [
        {
          "output_type": "stream",
          "text": [
            "/usr/local/lib/python3.7/dist-packages/sklearn/utils/deprecation.py:87: FutureWarning: Function safe_indexing is deprecated; safe_indexing is deprecated in version 0.22 and will be removed in version 0.24.\n",
            "  warnings.warn(msg, category=FutureWarning)\n"
          ],
          "name": "stderr"
        }
      ]
    },
    {
      "cell_type": "code",
      "metadata": {
        "colab": {
          "base_uri": "https://localhost:8080/"
        },
        "id": "IKA5EeNEKic4",
        "outputId": "615b399d-c283-40ca-95c6-93cef36f441c"
      },
      "source": [
        "#此时来检验标签的平衡情况,可以发现标签数已经平衡了\r\n",
        "#注意y是一个ndarray\r\n",
        "pd.Series(y).value_counts()"
      ],
      "execution_count": null,
      "outputs": [
        {
          "output_type": "execute_result",
          "data": {
            "text/plain": [
              "1    139292\n",
              "0    139292\n",
              "dtype: int64"
            ]
          },
          "metadata": {
            "tags": []
          },
          "execution_count": 206
        }
      ]
    },
    {
      "cell_type": "markdown",
      "metadata": {
        "id": "6VKUNuK6MXOl"
      },
      "source": [
        "####分离测试集和训练集"
      ]
    },
    {
      "cell_type": "code",
      "metadata": {
        "id": "q35bhbIsMpGI"
      },
      "source": [
        "from sklearn.model_selection import train_test_split\r\n",
        "X = pd.DataFrame(X)\r\n",
        "y = pd.DataFrame(y)\r\n",
        "x_train,x_vali,y_train,y_vali = train_test_split(X,y,test_size=0.3,random_state=100)"
      ],
      "execution_count": null,
      "outputs": []
    },
    {
      "cell_type": "code",
      "metadata": {
        "id": "ApjeVzd7M8HI"
      },
      "source": [
        "##下面把训练集的特征矩阵和标签矩阵放到一起\r\n",
        "model_data = pd.concat([y_train,x_train],axis=1)\r\n",
        "model_data.index = range(model_data.shape[0])"
      ],
      "execution_count": null,
      "outputs": []
    },
    {
      "cell_type": "code",
      "metadata": {
        "id": "ZJvRUZBdNSrY"
      },
      "source": [
        "model_data.columns = data.columns"
      ],
      "execution_count": null,
      "outputs": []
    },
    {
      "cell_type": "code",
      "metadata": {
        "colab": {
          "base_uri": "https://localhost:8080/",
          "height": 231
        },
        "id": "K8VxQh3KNon9",
        "outputId": "b89b0a7b-35e2-4699-fbc4-7e34e7acef42"
      },
      "source": [
        "model_data.head()"
      ],
      "execution_count": null,
      "outputs": [
        {
          "output_type": "execute_result",
          "data": {
            "text/html": [
              "<div>\n",
              "<style scoped>\n",
              "    .dataframe tbody tr th:only-of-type {\n",
              "        vertical-align: middle;\n",
              "    }\n",
              "\n",
              "    .dataframe tbody tr th {\n",
              "        vertical-align: top;\n",
              "    }\n",
              "\n",
              "    .dataframe thead th {\n",
              "        text-align: right;\n",
              "    }\n",
              "</style>\n",
              "<table border=\"1\" class=\"dataframe\">\n",
              "  <thead>\n",
              "    <tr style=\"text-align: right;\">\n",
              "      <th></th>\n",
              "      <th>SeriousDlqin2yrs</th>\n",
              "      <th>RevolvingUtilizationOfUnsecuredLines</th>\n",
              "      <th>age</th>\n",
              "      <th>NumberOfTime30-59DaysPastDueNotWorse</th>\n",
              "      <th>DebtRatio</th>\n",
              "      <th>MonthlyIncome</th>\n",
              "      <th>NumberOfOpenCreditLinesAndLoans</th>\n",
              "      <th>NumberOfTimes90DaysLate</th>\n",
              "      <th>NumberRealEstateLoansOrLines</th>\n",
              "      <th>NumberOfTime60-89DaysPastDueNotWorse</th>\n",
              "      <th>NumberOfDependents</th>\n",
              "    </tr>\n",
              "  </thead>\n",
              "  <tbody>\n",
              "    <tr>\n",
              "      <th>0</th>\n",
              "      <td>0</td>\n",
              "      <td>0.240829</td>\n",
              "      <td>56.000000</td>\n",
              "      <td>0.000000</td>\n",
              "      <td>0.215378</td>\n",
              "      <td>10000.0</td>\n",
              "      <td>19.000000</td>\n",
              "      <td>0.0</td>\n",
              "      <td>0.000000</td>\n",
              "      <td>0.000000</td>\n",
              "      <td>0.000000</td>\n",
              "    </tr>\n",
              "    <tr>\n",
              "      <th>1</th>\n",
              "      <td>1</td>\n",
              "      <td>0.655020</td>\n",
              "      <td>48.908972</td>\n",
              "      <td>0.318162</td>\n",
              "      <td>0.957567</td>\n",
              "      <td>4000.0</td>\n",
              "      <td>17.908972</td>\n",
              "      <td>0.0</td>\n",
              "      <td>1.363676</td>\n",
              "      <td>0.318162</td>\n",
              "      <td>0.000000</td>\n",
              "    </tr>\n",
              "    <tr>\n",
              "      <th>2</th>\n",
              "      <td>0</td>\n",
              "      <td>0.487529</td>\n",
              "      <td>46.000000</td>\n",
              "      <td>0.000000</td>\n",
              "      <td>0.115788</td>\n",
              "      <td>5630.0</td>\n",
              "      <td>10.000000</td>\n",
              "      <td>0.0</td>\n",
              "      <td>0.000000</td>\n",
              "      <td>0.000000</td>\n",
              "      <td>0.000000</td>\n",
              "    </tr>\n",
              "    <tr>\n",
              "      <th>3</th>\n",
              "      <td>0</td>\n",
              "      <td>0.411973</td>\n",
              "      <td>61.000000</td>\n",
              "      <td>0.000000</td>\n",
              "      <td>0.142112</td>\n",
              "      <td>2300.0</td>\n",
              "      <td>3.000000</td>\n",
              "      <td>0.0</td>\n",
              "      <td>0.000000</td>\n",
              "      <td>0.000000</td>\n",
              "      <td>0.000000</td>\n",
              "    </tr>\n",
              "    <tr>\n",
              "      <th>4</th>\n",
              "      <td>1</td>\n",
              "      <td>0.845843</td>\n",
              "      <td>50.302671</td>\n",
              "      <td>2.513357</td>\n",
              "      <td>0.127204</td>\n",
              "      <td>9600.0</td>\n",
              "      <td>12.000000</td>\n",
              "      <td>0.0</td>\n",
              "      <td>0.302671</td>\n",
              "      <td>0.000000</td>\n",
              "      <td>0.605343</td>\n",
              "    </tr>\n",
              "  </tbody>\n",
              "</table>\n",
              "</div>"
            ],
            "text/plain": [
              "   SeriousDlqin2yrs  ...  NumberOfDependents\n",
              "0                 0  ...            0.000000\n",
              "1                 1  ...            0.000000\n",
              "2                 0  ...            0.000000\n",
              "3                 0  ...            0.000000\n",
              "4                 1  ...            0.605343\n",
              "\n",
              "[5 rows x 11 columns]"
            ]
          },
          "metadata": {
            "tags": []
          },
          "execution_count": 210
        }
      ]
    },
    {
      "cell_type": "code",
      "metadata": {
        "id": "3rMYdS8SNxVt"
      },
      "source": [
        "vali_data = pd.concat([y_vali, x_vali], axis=1)#验证集\r\n",
        "vali_data.index = range(vali_data.shape[0])\r\n",
        "vali_data.columns = data.columns"
      ],
      "execution_count": null,
      "outputs": []
    },
    {
      "cell_type": "markdown",
      "metadata": {
        "id": "MA0FTEXoOIvk"
      },
      "source": [
        "##模型开发-分箱--关键操作"
      ]
    },
    {
      "cell_type": "code",
      "metadata": {
        "id": "aOJNEAtyOXkV"
      },
      "source": [
        "#特征工程由于这里的特征太少，并没有进行专门的操作，因此省略掉，对于此问题，模型的构造较为重要，因此这里我们注意考虑分箱操作\r\n",
        "#对于评分卡来说，每一个箱子所处的等级就是打分的依据，因此是整体的核心\r\n",
        "#这里的分箱的分界点必须仔细地选取，否则结果很差\r\n",
        "#箱子的数量也不能太多或者太少，要分出有效果的箱子\r\n",
        "#要想正确的分箱，必须对业务有一定的了解，下面套用IV的知识"
      ],
      "execution_count": null,
      "outputs": []
    },
    {
      "cell_type": "markdown",
      "metadata": {
        "id": "ZEHpubHasGoM"
      },
      "source": [
        "###卡方检验选择箱数"
      ]
    },
    {
      "cell_type": "code",
      "metadata": {
        "id": "_unWvuuIT-cg"
      },
      "source": [
        "model_data[\"qcut\"], updown = pd.qcut(model_data[\"age\"], retbins=True, q=20)"
      ],
      "execution_count": null,
      "outputs": []
    },
    {
      "cell_type": "code",
      "metadata": {
        "colab": {
          "base_uri": "https://localhost:8080/"
        },
        "id": "SSA0He_fUKYa",
        "outputId": "0dcbd6e6-c762-4ae8-f476-c04e016e2b44"
      },
      "source": [
        "model_data[\"qcut\"]"
      ],
      "execution_count": null,
      "outputs": [
        {
          "output_type": "execute_result",
          "data": {
            "text/plain": [
              "0           (54.0, 56.0]\n",
              "1         (48.443, 50.0]\n",
              "2         (45.0, 46.973]\n",
              "3          (58.75, 61.0]\n",
              "4           (50.0, 52.0]\n",
              "               ...      \n",
              "195003      (39.0, 41.0]\n",
              "195004     (58.75, 61.0]\n",
              "195005     (58.75, 61.0]\n",
              "195006     (56.0, 58.75]\n",
              "195007      (50.0, 52.0]\n",
              "Name: qcut, Length: 195008, dtype: category\n",
              "Categories (20, interval[float64]): [(20.999, 28.0] < (28.0, 31.099] < (31.099, 34.0] <\n",
              "                                     (34.0, 36.605] ... (61.0, 64.0] < (64.0, 68.0] < (68.0, 74.0] <\n",
              "                                     (74.0, 109.0]]"
            ]
          },
          "metadata": {
            "tags": []
          },
          "execution_count": 214
        }
      ]
    },
    {
      "cell_type": "code",
      "metadata": {
        "id": "_qn5NYz3UM3n"
      },
      "source": [
        "coount_y0 = model_data[model_data[\"SeriousDlqin2yrs\"] == 0].groupby(by=\"qcut\").count()[\"SeriousDlqin2yrs\"]\r\n",
        "coount_y1 = model_data[model_data[\"SeriousDlqin2yrs\"] == 1].groupby(by=\"qcut\").count()[\"SeriousDlqin2yrs\"]"
      ],
      "execution_count": null,
      "outputs": []
    },
    {
      "cell_type": "code",
      "metadata": {
        "id": "5eWlRKJJUenn"
      },
      "source": [
        "num_bins = [*zip(updown,updown[1:],coount_y0,coount_y1)]"
      ],
      "execution_count": null,
      "outputs": []
    },
    {
      "cell_type": "code",
      "metadata": {
        "id": "i6SGijJBUj3u"
      },
      "source": [
        "for i in range(20):\r\n",
        "    #如果第一个组没有包含正样本或负样本，向后合并\r\n",
        "    #注意我们的num_bins是一个列表，是可变的结构，可以在操作过程中慢慢地改变\r\n",
        "    #对于dataframe来讲，这是不能改变的，不能在中间截断似地赋值\r\n",
        "    if 0 in num_bins[0][2:]:\r\n",
        "        num_bins[0:2] = [(\r\n",
        "            num_bins[0][0],\r\n",
        "            num_bins[1][1],\r\n",
        "            num_bins[0][2]+num_bins[1][2],\r\n",
        "            num_bins[0][3]+num_bins[1][3])]\r\n",
        "        #如果发生合并地话，向下面不断地传播，直到找到存在满足条件的样本\r\n",
        "        continue\r\n",
        "    #这里我们也可以同时的自下像上合并，与上面同样的逻辑\r\n",
        "    for i in range(len(num_bins)):\r\n",
        "        if 0 in num_bins[i][2:]:\r\n",
        "            num_bins[i-1:i+1] = [(\r\n",
        "                num_bins[i-1][0],\r\n",
        "                num_bins[i][1],\r\n",
        "                num_bins[i-1][2]+num_bins[i][2],\r\n",
        "                num_bins[i-1][3]+num_bins[i][3])]\r\n",
        "        break"
      ],
      "execution_count": null,
      "outputs": []
    },
    {
      "cell_type": "code",
      "metadata": {
        "id": "mTju9v0BV365"
      },
      "source": [
        "#下面的工作就是计算woe和iv的值\r\n",
        "def get_woe(num_bins):\r\n",
        "    columns = [\"min\",\"max\",\"count_0\",\"count_1\"]\r\n",
        "    #利用我们的矩阵构造一个dataframe\r\n",
        "    #前两个表示上下限，后面两个表示箱内的0和1的个数\r\n",
        "    df = pd.DataFrame(num_bins,columns=columns)\r\n",
        "    df[\"total\"] = df.count_0 + df.count_1#一个箱子当中所有的样本数\r\n",
        "    df[\"percentage\"] = df.total / df.total.sum()#一个箱子里的样本数，占所有样本的比例\r\n",
        "    df[\"bad_rate\"] = df.count_1 / df.total#一个箱子坏样本的数量占一个箱子里边所有样本数的比例\r\n",
        "    df[\"good%\"] = df.count_0/df.count_0.sum()\r\n",
        "    df[\"bad%\"] = df.count_1/df.count_1.sum()\r\n",
        "    df[\"woe\"] = np.log(df[\"good%\"] / df[\"bad%\"])\r\n",
        "    return df\r\n",
        " \r\n",
        "#计算IV值\r\n",
        "def get_iv(df):\r\n",
        "    rate = df[\"good%\"] - df[\"bad%\"]\r\n",
        "    iv = np.sum(rate * df.woe)\r\n",
        "    return iv"
      ],
      "execution_count": null,
      "outputs": []
    },
    {
      "cell_type": "code",
      "metadata": {
        "colab": {
          "base_uri": "https://localhost:8080/",
          "height": 279
        },
        "id": "m1qvGjrZWfu7",
        "outputId": "58df9d56-368a-42ea-a2d8-0369c3149d2e"
      },
      "source": [
        "num_bins_ = num_bins.copy()\r\n",
        " \r\n",
        "import matplotlib.pyplot as plt\r\n",
        "import scipy\r\n",
        " \r\n",
        "IV = []\r\n",
        "axisx = []\r\n",
        " \r\n",
        "while len(num_bins_) > 2:#大于设置的最低分箱个数\r\n",
        "    pvs = []\r\n",
        "    #获取 num_bins_两两之间的卡方检验的置信度（或卡方值）\r\n",
        "    for i in range(len(num_bins_)-1):\r\n",
        "        x1 = num_bins_[i][2:]\r\n",
        "        x2 = num_bins_[i+1][2:]\r\n",
        "        # 0 返回 chi2 值，1 返回 p 值。\r\n",
        "        pv = scipy.stats.chi2_contingency([x1,x2])[1]#p值\r\n",
        "        # chi2 = scipy.stats.chi2_contingency([x1,x2])[0]#计算卡方值\r\n",
        "        pvs.append(pv)\r\n",
        "        \r\n",
        "    # 通过 p 值进行处理。合并 p 值最大的两组\r\n",
        "    i = pvs.index(max(pvs))\r\n",
        "    num_bins_[i:i+2] = [(\r\n",
        "            num_bins_[i][0],\r\n",
        "            num_bins_[i+1][1],\r\n",
        "            num_bins_[i][2]+num_bins_[i+1][2],\r\n",
        "            num_bins_[i][3]+num_bins_[i+1][3])]\r\n",
        "    \r\n",
        "    bins_df = get_woe(num_bins_)\r\n",
        "    axisx.append(len(num_bins_))\r\n",
        "    IV.append(get_iv(bins_df))\r\n",
        "    \r\n",
        "plt.figure()\r\n",
        "plt.plot(axisx,IV)\r\n",
        "plt.xticks(axisx)\r\n",
        "plt.xlabel(\"number of box\")\r\n",
        "plt.ylabel(\"IV\")\r\n",
        "plt.show()\r\n",
        "#选择转折点处，也就是下坠最快的折线点，所以这里对于age来说选择箱数为6"
      ],
      "execution_count": null,
      "outputs": [
        {
          "output_type": "display_data",
          "data": {
            "image/png": "[encoded data removed]",
            "text/plain": [
              "<Figure size 432x288 with 1 Axes>"
            ]
          },
          "metadata": {
            "tags": [],
            "needs_background": "light"
          }
        }
      ]
    },
    {
      "cell_type": "code",
      "metadata": {
        "id": "pS8xlF9uYuoi"
      },
      "source": [
        "def get_bin(num_bins_,n):\r\n",
        "  \"\"\"\r\n",
        "  利用卡方检验的方法把箱子的数量减少到n个\r\n",
        "  \"\"\"\r\n",
        "  while len(num_bins_) > n:\r\n",
        "      pvs = []\r\n",
        "      for i in range(len(num_bins_)-1):\r\n",
        "          x1 = num_bins_[i][2:]\r\n",
        "          x2 = num_bins_[i+1][2:]\r\n",
        "          pv = scipy.stats.chi2_contingency([x1,x2])[1]\r\n",
        "          # chi2 = scipy.stats.chi2_contingency([x1,x2])[0]\r\n",
        "          pvs.append(pv)\r\n",
        "\r\n",
        "      i = pvs.index(max(pvs))\r\n",
        "      num_bins_[i:i+2] = [(\r\n",
        "              num_bins_[i][0],\r\n",
        "              num_bins_[i+1][1],\r\n",
        "              num_bins_[i][2]+num_bins_[i+1][2],\r\n",
        "              num_bins_[i][3]+num_bins_[i+1][3])]\r\n",
        "  return num_bins_"
      ],
      "execution_count": null,
      "outputs": []
    },
    {
      "cell_type": "code",
      "metadata": {
        "id": "D8YWM8GOlWcC"
      },
      "source": [
        "def graphforbestbin(DF, X, Y, n=5,q=20,graph=True):\r\n",
        "    '''\r\n",
        "    自动最优分箱函数，基于卡方检验的分箱\r\n",
        "\r\n",
        "    参数：\r\n",
        "    DF: 需要输入的数据\r\n",
        "    X: 需要分箱的列名\r\n",
        "    Y: 分箱数据对应的标签 Y 列名\r\n",
        "    n: 保留分箱个数\r\n",
        "    q: 初始分箱的个数\r\n",
        "    graph: 是否要画出IV图像\r\n",
        "\r\n",
        "    区间为前开后闭 (]\r\n",
        "\r\n",
        "    '''\r\n",
        "    #可以观察到此函数把之前所有的操作打包成一个函数，构成一个分箱函数\r\n",
        "    DF = DF[[X,Y]].copy()\r\n",
        "\r\n",
        "    DF[\"qcut\"],bins = pd.qcut(DF[X], retbins=True, q=q,duplicates=\"drop\")\r\n",
        "    coount_y0 = DF.loc[DF[Y]==0].groupby(by=\"qcut\").count()[Y]\r\n",
        "    coount_y1 = DF.loc[DF[Y]==1].groupby(by=\"qcut\").count()[Y]\r\n",
        "    num_bins = [*zip(bins,bins[1:],coount_y0,coount_y1)]\r\n",
        "\r\n",
        "    for i in range(q):\r\n",
        "        if 0 in num_bins[0][2:]:\r\n",
        "            num_bins[0:2] = [(\r\n",
        "                num_bins[0][0],\r\n",
        "                num_bins[1][1],\r\n",
        "                num_bins[0][2]+num_bins[1][2],\r\n",
        "                num_bins[0][3]+num_bins[1][3])]\r\n",
        "            continue\r\n",
        "\r\n",
        "        for i in range(len(num_bins)):\r\n",
        "            if 0 in num_bins[i][2:]:\r\n",
        "                num_bins[i-1:i+1] = [(\r\n",
        "                    num_bins[i-1][0],\r\n",
        "                    num_bins[i][1],\r\n",
        "                    num_bins[i-1][2]+num_bins[i][2],\r\n",
        "                    num_bins[i-1][3]+num_bins[i][3])]\r\n",
        "                break\r\n",
        "        else:\r\n",
        "            break\r\n",
        "\r\n",
        "    def get_woe(num_bins):\r\n",
        "        columns = [\"min\",\"max\",\"count_0\",\"count_1\"]\r\n",
        "        df = pd.DataFrame(num_bins,columns=columns)\r\n",
        "        df[\"total\"] = df.count_0 + df.count_1\r\n",
        "        df[\"percentage\"] = df.total / df.total.sum()\r\n",
        "        df[\"bad_rate\"] = df.count_1 / df.total\r\n",
        "        df[\"good%\"] = df.count_0/df.count_0.sum()\r\n",
        "        df[\"bad%\"] = df.count_1/df.count_1.sum()\r\n",
        "        df[\"woe\"] = np.log(df[\"good%\"] / df[\"bad%\"])\r\n",
        "        return df\r\n",
        "\r\n",
        "    def get_iv(df):\r\n",
        "        rate = df[\"good%\"] - df[\"bad%\"]\r\n",
        "        iv = np.sum(rate * df.woe)\r\n",
        "        return iv\r\n",
        "\r\n",
        "    IV = []\r\n",
        "    axisx = []\r\n",
        "    while len(num_bins) > n:\r\n",
        "        pvs = []\r\n",
        "        for i in range(len(num_bins)-1):\r\n",
        "            x1 = num_bins[i][2:]\r\n",
        "            x2 = num_bins[i+1][2:]\r\n",
        "            pv = scipy.stats.chi2_contingency([x1,x2])[1]\r\n",
        "            pvs.append(pv)\r\n",
        "\r\n",
        "        i = pvs.index(max(pvs))\r\n",
        "        num_bins[i:i+2] = [(\r\n",
        "            num_bins[i][0],\r\n",
        "            num_bins[i+1][1],\r\n",
        "            num_bins[i][2]+num_bins[i+1][2],\r\n",
        "            num_bins[i][3]+num_bins[i+1][3])]\r\n",
        "\r\n",
        "        bins_df = pd.DataFrame(get_woe(num_bins))\r\n",
        "        axisx.append(len(num_bins))\r\n",
        "        IV.append(get_iv(bins_df))\r\n",
        "        \r\n",
        "    if graph:\r\n",
        "        plt.figure()\r\n",
        "        plt.plot(axisx,IV)\r\n",
        "        plt.xticks(axisx)\r\n",
        "        plt.xlabel(\"number of box\")\r\n",
        "        plt.ylabel(\"IV\")\r\n",
        "        plt.show()\r\n",
        "    return bins_df"
      ],
      "execution_count": null,
      "outputs": []
    },
    {
      "cell_type": "code",
      "metadata": {
        "colab": {
          "base_uri": "https://localhost:8080/",
          "height": 1000
        },
        "id": "_cAQhitAmQlX",
        "outputId": "6e3b37ce-b0d4-4905-89b4-d2888fddb5c8"
      },
      "source": [
        "for i in model_data.columns[1:-1]:\r\n",
        "    print(i)\r\n",
        "    #标签所属的列是恒定的列，n=2的目的是为了看出整体的趋势，20是最初的分箱数\r\n",
        "    graphforbestbin(model_data,i,\"SeriousDlqin2yrs\",n=2,q=20)"
      ],
      "execution_count": null,
      "outputs": [
        {
          "output_type": "stream",
          "text": [
            "RevolvingUtilizationOfUnsecuredLines\n"
          ],
          "name": "stdout"
        },
        {
          "output_type": "display_data",
          "data": {
            "image/png": "[encoded data removed]",
            "text/plain": [
              "<Figure size 432x288 with 1 Axes>"
            ]
          },
          "metadata": {
            "tags": [],
            "needs_background": "light"
          }
        },
        {
          "output_type": "stream",
          "text": [
            "age\n"
          ],
          "name": "stdout"
        },
        {
          "output_type": "display_data",
          "data": {
            "image/png": "[encoded data removed]",
            "text/plain": [
              "<Figure size 432x288 with 1 Axes>"
            ]
          },
          "metadata": {
            "tags": [],
            "needs_background": "light"
          }
        },
        {
          "output_type": "stream",
          "text": [
            "NumberOfTime30-59DaysPastDueNotWorse\n"
          ],
          "name": "stdout"
        },
        {
          "output_type": "display_data",
          "data": {
            "image/png": "[encoded data removed]",
            "text/plain": [
              "<Figure size 432x288 with 1 Axes>"
            ]
          },
          "metadata": {
            "tags": [],
            "needs_background": "light"
          }
        },
        {
          "output_type": "stream",
          "text": [
            "DebtRatio\n"
          ],
          "name": "stdout"
        },
        {
          "output_type": "display_data",
          "data": {
            "image/png": "[encoded data removed]",
            "text/plain": [
              "<Figure size 432x288 with 1 Axes>"
            ]
          },
          "metadata": {
            "tags": [],
            "needs_background": "light"
          }
        },
        {
          "output_type": "stream",
          "text": [
            "MonthlyIncome\n"
          ],
          "name": "stdout"
        },
        {
          "output_type": "display_data",
          "data": {
            "image/png": "[encoded data removed]",
            "text/plain": [
              "<Figure size 432x288 with 1 Axes>"
            ]
          },
          "metadata": {
            "tags": [],
            "needs_background": "light"
          }
        },
        {
          "output_type": "stream",
          "text": [
            "NumberOfOpenCreditLinesAndLoans\n"
          ],
          "name": "stdout"
        },
        {
          "output_type": "display_data",
          "data": {
            "image/png": "[encoded data removed]",
            "text/plain": [
              "<Figure size 432x288 with 1 Axes>"
            ]
          },
          "metadata": {
            "tags": [],
            "needs_background": "light"
          }
        },
        {
          "output_type": "stream",
          "text": [
            "NumberOfTimes90DaysLate\n"
          ],
          "name": "stdout"
        },
        {
          "output_type": "display_data",
          "data": {
            "image/png": "[encoded data removed]",
            "text/plain": [
              "<Figure size 432x288 with 1 Axes>"
            ]
          },
          "metadata": {
            "tags": [],
            "needs_background": "light"
          }
        },
        {
          "output_type": "stream",
          "text": [
            "NumberRealEstateLoansOrLines\n"
          ],
          "name": "stdout"
        },
        {
          "output_type": "display_data",
          "data": {
            "image/png": "[encoded data removed]",
            "text/plain": [
              "<Figure size 432x288 with 1 Axes>"
            ]
          },
          "metadata": {
            "tags": [],
            "needs_background": "light"
          }
        },
        {
          "output_type": "stream",
          "text": [
            "NumberOfTime60-89DaysPastDueNotWorse\n"
          ],
          "name": "stdout"
        },
        {
          "output_type": "display_data",
          "data": {
            "image/png": "[encoded data removed]",
            "text/plain": [
              "<Figure size 432x288 with 1 Axes>"
            ]
          },
          "metadata": {
            "tags": [],
            "needs_background": "light"
          }
        },
        {
          "output_type": "stream",
          "text": [
            "NumberOfDependents\n"
          ],
          "name": "stdout"
        },
        {
          "output_type": "display_data",
          "data": {
            "image/png": "[encoded data removed]",
            "text/plain": [
              "<Figure size 432x288 with 1 Axes>"
            ]
          },
          "metadata": {
            "tags": [],
            "needs_background": "light"
          }
        }
      ]
    },
    {
      "cell_type": "code",
      "metadata": {
        "id": "m8_Zgg6ImYpI"
      },
      "source": [
        "#注意对于某些特征，本身属于分类变量，它的最大分箱数也不可能达到20，因此我们的自动分箱没有任何作用\r\n",
        "#对于这种情况，我们可以单独指定其分箱的方式，即指定表示上下限的列表\r\n",
        "#对于可以自动装箱的特征，列出其参数列表\r\n",
        "auto_col_bins = {\"RevolvingUtilizationOfUnsecuredLines\":6,\r\n",
        "                \"age\":5,\r\n",
        "                \"DebtRatio\":4,\r\n",
        "                \"MonthlyIncome\":3,\r\n",
        "                \"NumberOfOpenCreditLinesAndLoans\":5}\r\n",
        "#对于不能自动装箱的特征，列出其分箱的方式\r\n",
        "hand_bins = {\"NumberOfTime30-59DaysPastDueNotWorse\":[0,1,2,13]\r\n",
        "            ,\"NumberOfTimes90DaysLate\":[0,1,2,17]\r\n",
        "            ,\"NumberRealEstateLoansOrLines\":[0,1,2,4,54]\r\n",
        "            ,\"NumberOfTime60-89DaysPastDueNotWorse\":[0,1,2,8]\r\n",
        "            ,\"NumberOfDependents\":[0,1,2,3]}"
      ],
      "execution_count": null,
      "outputs": []
    },
    {
      "cell_type": "code",
      "metadata": {
        "colab": {
          "base_uri": "https://localhost:8080/"
        },
        "id": "f5yziqFinSp4",
        "outputId": "430530a9-bc31-4af2-e110-c998ac2919b2"
      },
      "source": [
        "bins_of_col = {}\r\n",
        " \r\n",
        "#生成自动分箱的分箱区间和分箱后的 IV 值\r\n",
        "for col in auto_col_bins:\r\n",
        "    bins_df = graphforbestbin(model_data,col\r\n",
        "                  ,\"SeriousDlqin2yrs\"\r\n",
        "                  ,n=auto_col_bins[col]\r\n",
        "                  ,q=20\r\n",
        "                  ,graph=False)\r\n",
        "    bins_list = sorted(set(bins_df[\"min\"]).union(bins_df[\"max\"]))\r\n",
        "    #保证区间覆盖使用 np.inf 替换最大值 -np.inf 替换最小值\r\n",
        "    bins_list[0],bins_list[-1] = -np.inf,np.inf\r\n",
        "    bins_of_col[col] = bins_list\r\n",
        "    \r\n",
        "#利用字典的update方法直接对其更新\r\n",
        "#这里同样也要注意对hand_bins的区间进行处理\r\n",
        "for key,val in hand_bins.items():\r\n",
        "  val[0],val[-1] = -np.inf,np.inf\r\n",
        "hand_bins"
      ],
      "execution_count": null,
      "outputs": [
        {
          "output_type": "execute_result",
          "data": {
            "text/plain": [
              "{'NumberOfDependents': [-inf, 1, 2, inf],\n",
              " 'NumberOfTime30-59DaysPastDueNotWorse': [-inf, 1, 2, inf],\n",
              " 'NumberOfTime60-89DaysPastDueNotWorse': [-inf, 1, 2, inf],\n",
              " 'NumberOfTimes90DaysLate': [-inf, 1, 2, inf],\n",
              " 'NumberRealEstateLoansOrLines': [-inf, 1, 2, 4, inf]}"
            ]
          },
          "metadata": {
            "tags": []
          },
          "execution_count": 224
        }
      ]
    },
    {
      "cell_type": "code",
      "metadata": {
        "colab": {
          "base_uri": "https://localhost:8080/"
        },
        "id": "hwQC8wXhwgYT",
        "outputId": "d4aad0c1-3f1a-4104-e156-20dcd1b337bd"
      },
      "source": [
        "\r\n",
        "bins_of_col.update(hand_bins)\r\n",
        "bins_of_col"
      ],
      "execution_count": null,
      "outputs": [
        {
          "output_type": "execute_result",
          "data": {
            "text/plain": [
              "{'DebtRatio': [-inf,\n",
              "  0.017930832394402144,\n",
              "  0.5025616147087272,\n",
              "  1.4196358925942234,\n",
              "  inf],\n",
              " 'MonthlyIncome': [-inf, 0.1, 6198.254219432473, inf],\n",
              " 'NumberOfDependents': [-inf, 1, 2, inf],\n",
              " 'NumberOfOpenCreditLinesAndLoans': [-inf,\n",
              "  5.971206283497664,\n",
              "  6.0,\n",
              "  8.862417386255238,\n",
              "  9.087119493073066,\n",
              "  inf],\n",
              " 'NumberOfTime30-59DaysPastDueNotWorse': [-inf, 1, 2, inf],\n",
              " 'NumberOfTime60-89DaysPastDueNotWorse': [-inf, 1, 2, inf],\n",
              " 'NumberOfTimes90DaysLate': [-inf, 1, 2, inf],\n",
              " 'NumberRealEstateLoansOrLines': [-inf, 1, 2, 4, inf],\n",
              " 'RevolvingUtilizationOfUnsecuredLines': [-inf,\n",
              "  0.09919753225,\n",
              "  0.22006122709415527,\n",
              "  0.5506262835737484,\n",
              "  0.9819897259209922,\n",
              "  0.9999998999999999,\n",
              "  inf],\n",
              " 'age': [-inf, 45.0, 46.973323611613566, 58.7497746129457, 64.0, inf]}"
            ]
          },
          "metadata": {
            "tags": []
          },
          "execution_count": 225
        }
      ]
    },
    {
      "cell_type": "markdown",
      "metadata": {
        "id": "oB3G457FsW32"
      },
      "source": [
        "###利用分箱结果对源数据进行woe转换"
      ]
    },
    {
      "cell_type": "code",
      "metadata": {
        "colab": {
          "base_uri": "https://localhost:8080/"
        },
        "id": "hhMqyfG5owg7",
        "outputId": "5cf9e8c1-819e-4966-85c2-0b7eaa6ddf6f"
      },
      "source": [
        "bins_of_col[\"age\"]"
      ],
      "execution_count": null,
      "outputs": [
        {
          "output_type": "execute_result",
          "data": {
            "text/plain": [
              "[-inf, 45.0, 46.973323611613566, 58.7497746129457, 64.0, inf]"
            ]
          },
          "metadata": {
            "tags": []
          },
          "execution_count": 226
        }
      ]
    },
    {
      "cell_type": "code",
      "metadata": {
        "colab": {
          "base_uri": "https://localhost:8080/"
        },
        "id": "G93WSTM4oUaW",
        "outputId": "4c6ea4b2-19a6-4de1-a79f-7a7910809539"
      },
      "source": [
        "data = model_data.copy()\r\n",
        " \r\n",
        "#函数pd.cut，可以根据已知的分箱间隔把数据分箱\r\n",
        "#参数为 pd.cut(数据，以列表表示的分箱间隔)\r\n",
        "data = data[[\"age\",\"SeriousDlqin2yrs\"]].copy()\r\n",
        " \r\n",
        "data[\"cut\"] = pd.cut(data[\"age\"],[-np.inf, 48.49986200790144, 58.757170160044694, 64.0, 74.0, np.inf])\r\n",
        " \r\n",
        "data.head()\r\n",
        "\r\n",
        "#将数据按分箱结果聚合，并取出其中的标签值\r\n",
        "data.groupby(\"cut\")[\"SeriousDlqin2yrs\"].value_counts()\r\n"
      ],
      "execution_count": null,
      "outputs": [
        {
          "output_type": "execute_result",
          "data": {
            "text/plain": [
              "cut             SeriousDlqin2yrs\n",
              "(-inf, 48.5]    1                   58057\n",
              "                0                   39605\n",
              "(48.5, 58.757]  1                   25449\n",
              "                0                   23151\n",
              "(58.757, 64.0]  0                   13644\n",
              "                1                    7538\n",
              "(64.0, 74.0]    0                   13387\n",
              "                1                    4892\n",
              "(74.0, inf]     0                    7731\n",
              "                1                    1554\n",
              "Name: SeriousDlqin2yrs, dtype: int64"
            ]
          },
          "metadata": {
            "tags": []
          },
          "execution_count": 227
        }
      ]
    },
    {
      "cell_type": "code",
      "metadata": {
        "colab": {
          "base_uri": "https://localhost:8080/",
          "height": 223
        },
        "id": "NX_SI8zvpLGU",
        "outputId": "9b25877b-4acc-4dc5-c497-0740b87174f0"
      },
      "source": [
        "#使用unstack()来将树状结构变成表状结构\r\n",
        "data.groupby(\"cut\")[\"SeriousDlqin2yrs\"].value_counts().unstack()\r\n",
        " \r\n",
        "bins_df = data.groupby(\"cut\")[\"SeriousDlqin2yrs\"].value_counts().unstack()\r\n",
        " \r\n",
        "bins_df[\"woe\"] = np.log((bins_df[0]/bins_df[0].sum())/(bins_df[1]/bins_df[1].sum()))\r\n",
        "\r\n",
        "bins_df"
      ],
      "execution_count": null,
      "outputs": [
        {
          "output_type": "execute_result",
          "data": {
            "text/html": [
              "<div>\n",
              "<style scoped>\n",
              "    .dataframe tbody tr th:only-of-type {\n",
              "        vertical-align: middle;\n",
              "    }\n",
              "\n",
              "    .dataframe tbody tr th {\n",
              "        vertical-align: top;\n",
              "    }\n",
              "\n",
              "    .dataframe thead th {\n",
              "        text-align: right;\n",
              "    }\n",
              "</style>\n",
              "<table border=\"1\" class=\"dataframe\">\n",
              "  <thead>\n",
              "    <tr style=\"text-align: right;\">\n",
              "      <th>SeriousDlqin2yrs</th>\n",
              "      <th>0</th>\n",
              "      <th>1</th>\n",
              "      <th>woe</th>\n",
              "    </tr>\n",
              "    <tr>\n",
              "      <th>cut</th>\n",
              "      <th></th>\n",
              "      <th></th>\n",
              "      <th></th>\n",
              "    </tr>\n",
              "  </thead>\n",
              "  <tbody>\n",
              "    <tr>\n",
              "      <th>(-inf, 48.5]</th>\n",
              "      <td>39605</td>\n",
              "      <td>58057</td>\n",
              "      <td>-0.382757</td>\n",
              "    </tr>\n",
              "    <tr>\n",
              "      <th>(48.5, 58.757]</th>\n",
              "      <td>23151</td>\n",
              "      <td>25449</td>\n",
              "      <td>-0.094926</td>\n",
              "    </tr>\n",
              "    <tr>\n",
              "      <th>(58.757, 64.0]</th>\n",
              "      <td>13644</td>\n",
              "      <td>7538</td>\n",
              "      <td>0.593056</td>\n",
              "    </tr>\n",
              "    <tr>\n",
              "      <th>(64.0, 74.0]</th>\n",
              "      <td>13387</td>\n",
              "      <td>4892</td>\n",
              "      <td>1.006396</td>\n",
              "    </tr>\n",
              "    <tr>\n",
              "      <th>(74.0, inf]</th>\n",
              "      <td>7731</td>\n",
              "      <td>1554</td>\n",
              "      <td>1.604119</td>\n",
              "    </tr>\n",
              "  </tbody>\n",
              "</table>\n",
              "</div>"
            ],
            "text/plain": [
              "SeriousDlqin2yrs      0      1       woe\n",
              "cut                                     \n",
              "(-inf, 48.5]      39605  58057 -0.382757\n",
              "(48.5, 58.757]    23151  25449 -0.094926\n",
              "(58.757, 64.0]    13644   7538  0.593056\n",
              "(64.0, 74.0]      13387   4892  1.006396\n",
              "(74.0, inf]        7731   1554  1.604119"
            ]
          },
          "metadata": {
            "tags": []
          },
          "execution_count": 228
        }
      ]
    },
    {
      "cell_type": "code",
      "metadata": {
        "id": "sKWw0TjJpAWy"
      },
      "source": [
        "#根据上面的过程将整体包装成为一个函数，作为后续的调用\r\n",
        "def get_woe(df,col,y,bins):\r\n",
        "  \"\"\"\r\n",
        "  根据数据，对应特征，标签和分箱结果，得到woe值\r\n",
        "  参数：\r\n",
        "  df：特征矩阵加上标签矩阵\r\n",
        "  col:待分箱特征\r\n",
        "  y:标签列\r\n",
        "  bins:分箱的序列\r\n",
        "  \"\"\"\r\n",
        "  df = df[[col,y]].copy()\r\n",
        "  df[\"cut\"] = pd.cut(df[col],bins)\r\n",
        "  bins_df = df.groupby(\"cut\")[y].value_counts().unstack()\r\n",
        "  woe = bins_df[\"woe\"] = np.log((bins_df[0]/bins_df[0].sum())/(bins_df[1]/bins_df[1].sum()))\r\n",
        "  return woe"
      ],
      "execution_count": null,
      "outputs": []
    },
    {
      "cell_type": "code",
      "metadata": {
        "colab": {
          "base_uri": "https://localhost:8080/"
        },
        "id": "spf-M1dMqC60",
        "outputId": "c3e0a81b-5656-4add-98fd-6163629ca223"
      },
      "source": [
        "woeall = {}\r\n",
        "for col in bins_of_col:\r\n",
        "    woeall[col] = get_woe(model_data,col,\"SeriousDlqin2yrs\",bins_of_col[col])\r\n",
        "woeall"
      ],
      "execution_count": null,
      "outputs": [
        {
          "output_type": "execute_result",
          "data": {
            "text/plain": [
              "{'DebtRatio': cut\n",
              " (-inf, 0.0179]     1.507869\n",
              " (0.0179, 0.503]   -0.008604\n",
              " (0.503, 1.42]     -0.485417\n",
              " (1.42, inf]        0.181536\n",
              " dtype: float64, 'MonthlyIncome': cut\n",
              " (-inf, 0.1]        1.341855\n",
              " (0.1, 6198.254]   -0.215338\n",
              " (6198.254, inf]    0.267858\n",
              " dtype: float64, 'NumberOfDependents': cut\n",
              " (-inf, 1.0]    0.203989\n",
              " (1.0, 2.0]    -0.522414\n",
              " (2.0, inf]    -0.494048\n",
              " dtype: float64, 'NumberOfOpenCreditLinesAndLoans': cut\n",
              " (-inf, 5.971]    -0.274180\n",
              " (5.971, 6.0]      1.744298\n",
              " (6.0, 8.862]     -0.206472\n",
              " (8.862, 9.087]    1.155206\n",
              " (9.087, inf]      0.020431\n",
              " dtype: float64, 'NumberOfTime30-59DaysPastDueNotWorse': cut\n",
              " (-inf, 1.0]    0.343942\n",
              " (1.0, 2.0]    -2.043660\n",
              " (2.0, inf]    -2.280832\n",
              " dtype: float64, 'NumberOfTime60-89DaysPastDueNotWorse': cut\n",
              " (-inf, 1.0]    0.101734\n",
              " (1.0, 2.0]    -2.993895\n",
              " (2.0, inf]    -2.759123\n",
              " dtype: float64, 'NumberOfTimes90DaysLate': cut\n",
              " (-inf, 1.0]    0.204144\n",
              " (1.0, 2.0]    -2.982682\n",
              " (2.0, inf]    -3.151572\n",
              " dtype: float64, 'NumberRealEstateLoansOrLines': cut\n",
              " (-inf, 1.0]    0.101395\n",
              " (1.0, 2.0]    -0.128696\n",
              " (2.0, 4.0]    -0.402839\n",
              " (4.0, inf]    -0.858721\n",
              " dtype: float64, 'RevolvingUtilizationOfUnsecuredLines': cut\n",
              " (-inf, 0.0992]    2.205445\n",
              " (0.0992, 0.22]    0.850261\n",
              " (0.22, 0.551]    -0.107310\n",
              " (0.551, 0.982]   -1.180480\n",
              " (0.982, 1.0]     -0.492613\n",
              " (1.0, inf]       -2.037347\n",
              " dtype: float64, 'age': cut\n",
              " (-inf, 45.0]      -0.380013\n",
              " (45.0, 46.973]    -0.877153\n",
              " (46.973, 58.75]   -0.084299\n",
              " (58.75, 64.0]      0.592260\n",
              " (64.0, inf]        1.186379\n",
              " dtype: float64}"
            ]
          },
          "metadata": {
            "tags": []
          },
          "execution_count": 230
        }
      ]
    },
    {
      "cell_type": "code",
      "metadata": {
        "colab": {
          "base_uri": "https://localhost:8080/",
          "height": 231
        },
        "id": "NqJwQ-yfqcOI",
        "outputId": "a398df64-675b-4e81-d847-312c489dd85f"
      },
      "source": [
        "#不希望覆盖掉原本的数据，创建一个新的DataFrame，索引和原始数据model_data一模一样\r\n",
        "model_woe = pd.DataFrame(index=model_data.index)\r\n",
        " \r\n",
        "#将原数据分箱后，按箱的结果把WOE结构用map函数映射到数据中\r\n",
        "#map函数根据woeall里面存的映射关系对相关的列进行映射\r\n",
        "model_woe[\"age\"] = pd.cut(model_data[\"age\"],bins_of_col[\"age\"]).map(woeall[\"age\"])\r\n",
        " \r\n",
        "#对所有特征操作可以写成：\r\n",
        "for col in bins_of_col:\r\n",
        "    model_woe[col] = pd.cut(model_data[col],bins_of_col[col]).map(woeall[col])\r\n",
        "    \r\n",
        "#将标签补充到数据中\r\n",
        "model_woe[\"SeriousDlqin2yrs\"] = model_data[\"SeriousDlqin2yrs\"]\r\n",
        " \r\n",
        "#这就是我们的建模数据了\r\n",
        "#观察到自变量本身是分箱后的每个箱子内的woe值，而不是所谓的箱子的数目或者其它的东西\r\n",
        "model_woe.head()"
      ],
      "execution_count": null,
      "outputs": [
        {
          "output_type": "execute_result",
          "data": {
            "text/html": [
              "<div>\n",
              "<style scoped>\n",
              "    .dataframe tbody tr th:only-of-type {\n",
              "        vertical-align: middle;\n",
              "    }\n",
              "\n",
              "    .dataframe tbody tr th {\n",
              "        vertical-align: top;\n",
              "    }\n",
              "\n",
              "    .dataframe thead th {\n",
              "        text-align: right;\n",
              "    }\n",
              "</style>\n",
              "<table border=\"1\" class=\"dataframe\">\n",
              "  <thead>\n",
              "    <tr style=\"text-align: right;\">\n",
              "      <th></th>\n",
              "      <th>age</th>\n",
              "      <th>RevolvingUtilizationOfUnsecuredLines</th>\n",
              "      <th>DebtRatio</th>\n",
              "      <th>MonthlyIncome</th>\n",
              "      <th>NumberOfOpenCreditLinesAndLoans</th>\n",
              "      <th>NumberOfTime30-59DaysPastDueNotWorse</th>\n",
              "      <th>NumberOfTimes90DaysLate</th>\n",
              "      <th>NumberRealEstateLoansOrLines</th>\n",
              "      <th>NumberOfTime60-89DaysPastDueNotWorse</th>\n",
              "      <th>NumberOfDependents</th>\n",
              "      <th>SeriousDlqin2yrs</th>\n",
              "    </tr>\n",
              "  </thead>\n",
              "  <tbody>\n",
              "    <tr>\n",
              "      <th>0</th>\n",
              "      <td>-0.084299</td>\n",
              "      <td>-0.10731</td>\n",
              "      <td>-0.008604</td>\n",
              "      <td>0.267858</td>\n",
              "      <td>0.020431</td>\n",
              "      <td>0.343942</td>\n",
              "      <td>0.204144</td>\n",
              "      <td>0.101395</td>\n",
              "      <td>0.101734</td>\n",
              "      <td>0.203989</td>\n",
              "      <td>0</td>\n",
              "    </tr>\n",
              "    <tr>\n",
              "      <th>1</th>\n",
              "      <td>-0.084299</td>\n",
              "      <td>-1.18048</td>\n",
              "      <td>-0.485417</td>\n",
              "      <td>-0.215338</td>\n",
              "      <td>0.020431</td>\n",
              "      <td>0.343942</td>\n",
              "      <td>0.204144</td>\n",
              "      <td>-0.128696</td>\n",
              "      <td>0.101734</td>\n",
              "      <td>0.203989</td>\n",
              "      <td>1</td>\n",
              "    </tr>\n",
              "    <tr>\n",
              "      <th>2</th>\n",
              "      <td>-0.877153</td>\n",
              "      <td>-0.10731</td>\n",
              "      <td>-0.008604</td>\n",
              "      <td>-0.215338</td>\n",
              "      <td>0.020431</td>\n",
              "      <td>0.343942</td>\n",
              "      <td>0.204144</td>\n",
              "      <td>0.101395</td>\n",
              "      <td>0.101734</td>\n",
              "      <td>0.203989</td>\n",
              "      <td>0</td>\n",
              "    </tr>\n",
              "    <tr>\n",
              "      <th>3</th>\n",
              "      <td>0.592260</td>\n",
              "      <td>-0.10731</td>\n",
              "      <td>-0.008604</td>\n",
              "      <td>-0.215338</td>\n",
              "      <td>-0.274180</td>\n",
              "      <td>0.343942</td>\n",
              "      <td>0.204144</td>\n",
              "      <td>0.101395</td>\n",
              "      <td>0.101734</td>\n",
              "      <td>0.203989</td>\n",
              "      <td>0</td>\n",
              "    </tr>\n",
              "    <tr>\n",
              "      <th>4</th>\n",
              "      <td>-0.084299</td>\n",
              "      <td>-1.18048</td>\n",
              "      <td>-0.008604</td>\n",
              "      <td>0.267858</td>\n",
              "      <td>0.020431</td>\n",
              "      <td>-2.280832</td>\n",
              "      <td>0.204144</td>\n",
              "      <td>0.101395</td>\n",
              "      <td>0.101734</td>\n",
              "      <td>0.203989</td>\n",
              "      <td>1</td>\n",
              "    </tr>\n",
              "  </tbody>\n",
              "</table>\n",
              "</div>"
            ],
            "text/plain": [
              "        age  ... SeriousDlqin2yrs\n",
              "0 -0.084299  ...                0\n",
              "1 -0.084299  ...                1\n",
              "2 -0.877153  ...                0\n",
              "3  0.592260  ...                0\n",
              "4 -0.084299  ...                1\n",
              "\n",
              "[5 rows x 11 columns]"
            ]
          },
          "metadata": {
            "tags": []
          },
          "execution_count": 231
        }
      ]
    },
    {
      "cell_type": "code",
      "metadata": {
        "id": "HprWG5mAutfs"
      },
      "source": [
        ""
      ],
      "execution_count": null,
      "outputs": []
    },
    {
      "cell_type": "code",
      "metadata": {
        "colab": {
          "base_uri": "https://localhost:8080/"
        },
        "id": "xeyTqpiGt4Sl",
        "outputId": "6f032031-f9e9-467e-d191-5d7f688298b1"
      },
      "source": [
        "bins_of_col[\"NumberRealEstateLoansOrLines\"]"
      ],
      "execution_count": null,
      "outputs": [
        {
          "output_type": "execute_result",
          "data": {
            "text/plain": [
              "[-inf, 1, 2, 4, inf]"
            ]
          },
          "metadata": {
            "tags": []
          },
          "execution_count": 232
        }
      ]
    },
    {
      "cell_type": "code",
      "metadata": {
        "id": "lbO3rxBUq8kT"
      },
      "source": [
        "#下面对测试集进行同样的操作，得到我们测试集的数据\r\n",
        "vali_woe = pd.DataFrame(index=vali_data.index)\r\n",
        " \r\n",
        "for col in bins_of_col:\r\n",
        "    vali_woe[col] = pd.cut(vali_data[col],bins_of_col[col]).map(woeall[col])\r\n",
        "vali_woe[\"SeriousDlqin2yrs\"] = vali_data[\"SeriousDlqin2yrs\"]\r\n"
      ],
      "execution_count": null,
      "outputs": []
    },
    {
      "cell_type": "code",
      "metadata": {
        "id": "BpGXEjelrlJe"
      },
      "source": [
        "#提取标签和特征矩阵\r\n",
        "X = model_woe.iloc[:,:-1]\r\n",
        "y = model_woe.iloc[:,-1]\r\n",
        "vali_X = vali_woe.iloc[:,:-1]\r\n",
        "vali_y = vali_woe.iloc[:,-1]"
      ],
      "execution_count": null,
      "outputs": []
    },
    {
      "cell_type": "code",
      "metadata": {
        "colab": {
          "base_uri": "https://localhost:8080/"
        },
        "id": "WQ0qHzM3sjg3",
        "outputId": "78509b3d-0b1c-4b19-9dc3-7b3c1bfaf1c3"
      },
      "source": [
        "X.info()"
      ],
      "execution_count": null,
      "outputs": [
        {
          "output_type": "stream",
          "text": [
            "<class 'pandas.core.frame.DataFrame'>\n",
            "RangeIndex: 195008 entries, 0 to 195007\n",
            "Data columns (total 10 columns):\n",
            " #   Column                                Non-Null Count   Dtype   \n",
            "---  ------                                --------------   -----   \n",
            " 0   age                                   195008 non-null  category\n",
            " 1   RevolvingUtilizationOfUnsecuredLines  195008 non-null  category\n",
            " 2   DebtRatio                             195008 non-null  category\n",
            " 3   MonthlyIncome                         195008 non-null  category\n",
            " 4   NumberOfOpenCreditLinesAndLoans       195008 non-null  category\n",
            " 5   NumberOfTime30-59DaysPastDueNotWorse  195008 non-null  category\n",
            " 6   NumberOfTimes90DaysLate               195008 non-null  category\n",
            " 7   NumberRealEstateLoansOrLines          195008 non-null  category\n",
            " 8   NumberOfTime60-89DaysPastDueNotWorse  195008 non-null  category\n",
            " 9   NumberOfDependents                    195008 non-null  category\n",
            "dtypes: category(10)\n",
            "memory usage: 1.9 MB\n"
          ],
          "name": "stdout"
        }
      ]
    },
    {
      "cell_type": "markdown",
      "metadata": {
        "id": "tqFb4pykrxNg"
      },
      "source": [
        "##模型检验和评估"
      ]
    },
    {
      "cell_type": "code",
      "metadata": {
        "colab": {
          "base_uri": "https://localhost:8080/"
        },
        "id": "8bUtP5PDrn_L",
        "outputId": "b8fb7c10-ce80-48fd-98c2-b9011a966a34"
      },
      "source": [
        "from sklearn.linear_model import LogisticRegression as LR \r\n",
        "lr = LR().fit(X,y)\r\n",
        "lr.score(vali_X,vali_y)"
      ],
      "execution_count": null,
      "outputs": [
        {
          "output_type": "execute_result",
          "data": {
            "text/plain": [
              "0.793457451900067"
            ]
          },
          "metadata": {
            "tags": []
          },
          "execution_count": 236
        }
      ]
    },
    {
      "cell_type": "code",
      "metadata": {
        "colab": {
          "base_uri": "https://localhost:8080/",
          "height": 265
        },
        "id": "cDUhiNS3sfHP",
        "outputId": "4b62e570-0591-4188-c47b-f734e900b5f1"
      },
      "source": [
        "c_1 = np.linspace(0.01,1,20)\r\n",
        " \r\n",
        "score = []\r\n",
        "for i in c_1: \r\n",
        "    lr = LR(solver='liblinear',C=i).fit(X,y)\r\n",
        "    score.append(lr.score(vali_X,vali_y))\r\n",
        "plt.figure()\r\n",
        "plt.plot(c_1,score)\r\n",
        "plt.show()"
      ],
      "execution_count": null,
      "outputs": [
        {
          "output_type": "display_data",
          "data": {
            "image/png": "[encoded data removed]",
            "text/plain": [
              "<Figure size 432x288 with 1 Axes>"
            ]
          },
          "metadata": {
            "tags": [],
            "needs_background": "light"
          }
        }
      ]
    },
    {
      "cell_type": "code",
      "metadata": {
        "colab": {
          "base_uri": "https://localhost:8080/",
          "height": 372
        },
        "id": "dGggerN3xyNk",
        "outputId": "75714b4b-a587-4791-ad2f-89cbb2bfca4a"
      },
      "source": [
        "lr.n_iter_#array([7], dtype=int32)\r\n",
        " \r\n",
        "score = []\r\n",
        "for i in [4,5,6,7,8,9]: \r\n",
        "    lr = LR(solver='liblinear',C=0.025,max_iter=i).fit(X,y)\r\n",
        "    score.append(lr.score(vali_X,vali_y))\r\n",
        "plt.figure()\r\n",
        "plt.plot([4,5,6,7,8,9],score)\r\n",
        "plt.show()"
      ],
      "execution_count": null,
      "outputs": [
        {
          "output_type": "stream",
          "text": [
            "/usr/local/lib/python3.7/dist-packages/sklearn/svm/_base.py:947: ConvergenceWarning: Liblinear failed to converge, increase the number of iterations.\n",
            "  \"the number of iterations.\", ConvergenceWarning)\n",
            "/usr/local/lib/python3.7/dist-packages/sklearn/svm/_base.py:947: ConvergenceWarning: Liblinear failed to converge, increase the number of iterations.\n",
            "  \"the number of iterations.\", ConvergenceWarning)\n",
            "/usr/local/lib/python3.7/dist-packages/sklearn/svm/_base.py:947: ConvergenceWarning: Liblinear failed to converge, increase the number of iterations.\n",
            "  \"the number of iterations.\", ConvergenceWarning)\n"
          ],
          "name": "stderr"
        },
        {
          "output_type": "display_data",
          "data": {
            "image/png": "[encoded data removed]",
            "text/plain": [
              "<Figure size 432x288 with 1 Axes>"
            ]
          },
          "metadata": {
            "tags": [],
            "needs_background": "light"
          }
        }
      ]
    },
    {
      "cell_type": "code",
      "metadata": {
        "colab": {
          "base_uri": "https://localhost:8080/"
        },
        "id": "U0io15jnyu_s",
        "outputId": "7a0c880f-c5b6-477b-99f5-2a4f301ef14d"
      },
      "source": [
        "!pip install scikit-plot"
      ],
      "execution_count": null,
      "outputs": [
        {
          "output_type": "stream",
          "text": [
            "Collecting scikit-plot\n",
            "  Downloading https://files.pythonhosted.org/packages/7c/47/32520e259340c140a4ad27c1b97050dd3254fdc517b1d59974d47037510e/scikit_plot-0.3.7-py3-none-any.whl\n",
            "Requirement already satisfied: scikit-learn>=0.18 in /usr/local/lib/python3.7/dist-packages (from scikit-plot) (0.22.2.post1)\n",
            "Requirement already satisfied: joblib>=0.10 in /usr/local/lib/python3.7/dist-packages (from scikit-plot) (1.0.1)\n",
            "Requirement already satisfied: scipy>=0.9 in /usr/local/lib/python3.7/dist-packages (from scikit-plot) (1.4.1)\n",
            "Requirement already satisfied: matplotlib>=1.4.0 in /usr/local/lib/python3.7/dist-packages (from scikit-plot) (3.2.2)\n",
            "Requirement already satisfied: numpy>=1.11.0 in /usr/local/lib/python3.7/dist-packages (from scikit-learn>=0.18->scikit-plot) (1.19.5)\n",
            "Requirement already satisfied: python-dateutil>=2.1 in /usr/local/lib/python3.7/dist-packages (from matplotlib>=1.4.0->scikit-plot) (2.8.1)\n",
            "Requirement already satisfied: cycler>=0.10 in /usr/local/lib/python3.7/dist-packages (from matplotlib>=1.4.0->scikit-plot) (0.10.0)\n",
            "Requirement already satisfied: pyparsing!=2.0.4,!=2.1.2,!=2.1.6,>=2.0.1 in /usr/local/lib/python3.7/dist-packages (from matplotlib>=1.4.0->scikit-plot) (2.4.7)\n",
            "Requirement already satisfied: kiwisolver>=1.0.1 in /usr/local/lib/python3.7/dist-packages (from matplotlib>=1.4.0->scikit-plot) (1.3.1)\n",
            "Requirement already satisfied: six>=1.5 in /usr/local/lib/python3.7/dist-packages (from python-dateutil>=2.1->matplotlib>=1.4.0->scikit-plot) (1.15.0)\n",
            "Installing collected packages: scikit-plot\n",
            "Successfully installed scikit-plot-0.3.7\n"
          ],
          "name": "stdout"
        }
      ]
    },
    {
      "cell_type": "code",
      "metadata": {
        "colab": {
          "base_uri": "https://localhost:8080/",
          "height": 422
        },
        "id": "dbG4JUdqyhMo",
        "outputId": "1f4759ef-00fb-4fb9-cc17-25b5e2f63e34"
      },
      "source": [
        "import scikitplot as skplt\r\n",
        "vali_proba_df = pd.DataFrame(lr.predict_proba(vali_X))\r\n",
        "skplt.metrics.plot_roc(vali_y, vali_proba_df,\r\n",
        "            plot_micro=False,figsize=(6,6),\r\n",
        "            plot_macro=False)"
      ],
      "execution_count": null,
      "outputs": [
        {
          "output_type": "execute_result",
          "data": {
            "text/plain": [
              "<matplotlib.axes._subplots.AxesSubplot at 0x7fa99bdff290>"
            ]
          },
          "metadata": {
            "tags": []
          },
          "execution_count": 244
        },
        {
          "output_type": "display_data",
          "data": {
            "image/png": "[encoded data removed]",
            "text/plain": [
              "<Figure size 432x432 with 1 Axes>"
            ]
          },
          "metadata": {
            "tags": [],
            "needs_background": "light"
          }
        }
      ]
    },
    {
      "cell_type": "markdown",
      "metadata": {
        "id": "6SfRCROKzkZu"
      },
      "source": [
        "$Score = A - B*log(odds)$\r\n",
        "\r\n",
        "$odds = e^{\\theta^Tx}$"
      ]
    },
    {
      "cell_type": "code",
      "metadata": {
        "id": "mzWKw0Qgyub_"
      },
      "source": [
        "#通常我们需要一定的初值条件来计算A和B\r\n",
        "#由于上面的计算公式，我们可以发现系数与特征矩阵的乘积可以轻松地得到odds\r\n",
        "#假设条件：\r\n",
        "#某个特定地违约几率下的预期分值\r\n",
        "#概率加倍的情况下的分数PDO--points to double the odds\r\n",
        "#A is called the 刻度\r\n",
        "#B is called the 补偿\r\n",
        "B = 20/np.log(2)\r\n",
        "A = 600 + B*np.log(1/60)"
      ],
      "execution_count": null,
      "outputs": []
    },
    {
      "cell_type": "code",
      "metadata": {
        "colab": {
          "base_uri": "https://localhost:8080/"
        },
        "id": "zwbuoiS4ys6o",
        "outputId": "2fb051a1-c127-4fbf-ce04-3fd96309079c"
      },
      "source": [
        "#注意我们的线性回归模型具有截距项，而截距项的值不会变，因此它会作为一个基准分来计算\r\n",
        "base_score = A - B*lr.intercept_#lr.intercept_：截距\r\n",
        "base_score#array([481.56390143])\r\n"
      ],
      "execution_count": null,
      "outputs": [
        {
          "output_type": "execute_result",
          "data": {
            "text/plain": [
              "array([481.66678657])"
            ]
          },
          "metadata": {
            "tags": []
          },
          "execution_count": 247
        }
      ]
    },
    {
      "cell_type": "code",
      "metadata": {
        "colab": {
          "base_uri": "https://localhost:8080/"
        },
        "id": "hpCB9ZWA25WO",
        "outputId": "26efee2e-a620-4cdc-a12c-d57f29d29f07"
      },
      "source": [
        "#观察到coef的形式是二维ndarray的形式，因此要注意选取的方式\r\n",
        "lr.coef_"
      ],
      "execution_count": null,
      "outputs": [
        {
          "output_type": "execute_result",
          "data": {
            "text/plain": [
              "array([[-0.42981722, -0.78797634, -0.30277969, -0.85447369, -0.93273814,\n",
              "        -0.71575487, -0.69577184, -1.70403   , -0.57039726, -0.38301487]])"
            ]
          },
          "metadata": {
            "tags": []
          },
          "execution_count": 248
        }
      ]
    },
    {
      "cell_type": "code",
      "metadata": {
        "id": "-zmn4WcT3Ze4"
      },
      "source": [
        "#注意到训练数据确定之后，箱子分好之后，每一个箱子对应的woe值也就确定了\r\n",
        "#然后根据我们的woe值，带入到模型之中，由于这是属于一个线性的模型，因此每一个项可以单独提取出来，然后再加和\r\n",
        "#下面示例如何得到\"age\"的每个箱子所对应的分数"
      ],
      "execution_count": null,
      "outputs": []
    },
    {
      "cell_type": "code",
      "metadata": {
        "colab": {
          "base_uri": "https://localhost:8080/"
        },
        "id": "IvrceUHB21dQ",
        "outputId": "d86b375d-bdf6-48ab-e5fe-08f513960d48"
      },
      "source": [
        "score_age = woeall[\"age\"] * (-B*lr.coef_[0][1])#lr.coef_：每一个特征建模之后得出的系数\r\n",
        "score_age#\"age\"特征中每个箱对应的分数"
      ],
      "execution_count": null,
      "outputs": [
        {
          "output_type": "execute_result",
          "data": {
            "text/plain": [
              "cut\n",
              "(-inf, 45.0]       -8.640041\n",
              "(45.0, 46.973]    -19.943108\n",
              "(46.973, 58.75]    -1.916649\n",
              "(58.75, 64.0]      13.465740\n",
              "(64.0, inf]        26.973735\n",
              "dtype: float64"
            ]
          },
          "metadata": {
            "tags": []
          },
          "execution_count": 251
        }
      ]
    },
    {
      "cell_type": "code",
      "metadata": {
        "id": "UHznH4CS4Msb"
      },
      "source": [
        "#根据上面的分数，业务人员可以直接对照表进行查询即可"
      ],
      "execution_count": null,
      "outputs": []
    },
    {
      "cell_type": "code",
      "metadata": {
        "id": "ZwoKaMQm4TXT"
      },
      "source": [
        ""
      ],
      "execution_count": null,
      "outputs": []
    }
  ]
}